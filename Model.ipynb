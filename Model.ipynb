{
 "cells": [
  {
   "cell_type": "code",
   "execution_count": 45,
   "id": "b08522f0",
   "metadata": {},
   "outputs": [
    {
     "ename": "SyntaxError",
     "evalue": "invalid syntax (2866054669.py, line 2)",
     "output_type": "error",
     "traceback": [
      "\u001b[0;36m  Input \u001b[0;32mIn [45]\u001b[0;36m\u001b[0m\n\u001b[0;31m    pip install sklearn\u001b[0m\n\u001b[0m        ^\u001b[0m\n\u001b[0;31mSyntaxError\u001b[0m\u001b[0;31m:\u001b[0m invalid syntax\n"
     ]
    }
   ],
   "source": [
    "#pip install obspy\n",
    "pip install sklearn"
   ]
  },
  {
   "cell_type": "code",
   "execution_count": 22,
   "id": "01ca42fe",
   "metadata": {},
   "outputs": [],
   "source": [
    "import numpy as np\n",
    "import obspy\n",
    "from obspy import read\n",
    "import pandas as pd\n",
    "import time\n",
    "import scipy\n",
    "\n",
    "from __future__ import print_function\n",
    "import keras\n",
    "from keras.layers import add, Reshape, Dense,Input, TimeDistributed, Dropout, Activation, LSTM, Conv2D, Bidirectional, BatchNormalization\n",
    "from keras.callbacks import ModelCheckpoint, LearningRateScheduler, EarlyStopping,ReduceLROnPlateau\n",
    "from keras.regularizers import l1\n",
    "from keras import backend as K\n",
    "from keras.models import Model\n",
    "import tensorflow as tf\n",
    "from sklearn.model_selection import train_test_split\n",
    "\n",
    "import matplotlib\n",
    "matplotlib.use('agg')\n",
    "import matplotlib.pyplot as plt\n",
    "from scipy import signal\n",
    "import os\n",
    "np.seterr(divide='ignore', invalid='ignore')\n",
    "import h5py\n",
    "from obspy.signal.trigger import trigger_onset\n",
    "np.warnings.filterwarnings('ignore')"
   ]
  },
  {
   "cell_type": "markdown",
   "id": "12ddeb1d",
   "metadata": {},
   "source": [
    "## Data Preprocess\n",
    "### Stream generation (no parameter changes)"
   ]
  },
  {
   "cell_type": "code",
   "execution_count": 2,
   "id": "3f75c523",
   "metadata": {},
   "outputs": [],
   "source": [
    "noise_filename = pd.read_csv('noise.csv', header = None)\n",
    "noise_stream = []\n",
    "for i in noise_filename[0]:\n",
    "    temp = obspy.read(\"data/noise/\" + i)\n",
    "    noise_stream.append(temp)\n",
    "    \n",
    "signal_filename = pd.read_csv('signal.csv', header = None)\n",
    "signal_stream = []\n",
    "for i in signal_filename[0]:\n",
    "    temp = obspy.read(\"data/signal/\" + i)\n",
    "    signal_stream.append(temp)"
   ]
  },
  {
   "cell_type": "code",
   "execution_count": 3,
   "id": "5a59bef5",
   "metadata": {},
   "outputs": [],
   "source": [
    "def slice_stream(st):\n",
    "    start_time = st[0].stats.starttime\n",
    "    end_time = st[0].stats.endtime\n",
    "    gap = (end_time - start_time)/4\n",
    "    st = st.slice(start_time + gap, end_time - gap)\n",
    "    return st"
   ]
  },
  {
   "cell_type": "code",
   "execution_count": 4,
   "id": "1b05ad8a",
   "metadata": {},
   "outputs": [],
   "source": [
    "noise_stream = list(map(slice_stream, noise_stream))\n",
    "signal_stream = list(map(slice_stream, signal_stream))"
   ]
  },
  {
   "cell_type": "code",
   "execution_count": 5,
   "id": "8d4c2a6e",
   "metadata": {},
   "outputs": [],
   "source": [
    "noise_stream = [n.filter(\"bandpass\", freqmin=1, freqmax=45) for n in noise_stream]\n",
    "noise_stream = [n.resample(100) for n in noise_stream]\n",
    "noise_stream = [n.detrend(\"demean\") for n in noise_stream]\n",
    "noise_stream = [n.normalize() for n in noise_stream]"
   ]
  },
  {
   "cell_type": "code",
   "execution_count": 6,
   "id": "fb58f15b",
   "metadata": {},
   "outputs": [],
   "source": [
    "signal_stream = [n.filter(\"bandpass\", freqmin=1, freqmax=45) for n in signal_stream]\n",
    "signal_stream = [n.resample(100) for n in signal_stream]\n",
    "signal_stream = [n.detrend(\"demean\") for n in signal_stream]\n",
    "signal_stream = [n.normalize() for n in signal_stream]"
   ]
  },
  {
   "cell_type": "markdown",
   "id": "14ac9fe6",
   "metadata": {},
   "source": [
    "### ground truth generation (Change dimensions)\n",
    "\n"
   ]
  },
  {
   "cell_type": "code",
   "execution_count": 7,
   "id": "6e1b7a5e",
   "metadata": {},
   "outputs": [],
   "source": [
    "noise_length = len(noise_stream)\n",
    "noise_y = np.zeros(shape = (noise_length, 62, 1))\n",
    "\n",
    "signal_length = len(signal_stream)\n",
    "signal_y_truth = np.append(np.zeros(shape=(31,1)), np.ones(shape=(31,1)),axis=0)\n",
    "signal_y = np.zeros(shape = (signal_length, 62, 1))\n",
    "for i in range(signal_length):\n",
    "    signal_y[i] = signal_y_truth"
   ]
  },
  {
   "cell_type": "markdown",
   "id": "f97826e6",
   "metadata": {},
   "source": [
    "### STFT "
   ]
  },
  {
   "cell_type": "code",
   "execution_count": 8,
   "id": "c21a2df3",
   "metadata": {},
   "outputs": [],
   "source": [
    "f, t, Zxx = signal.stft(signal_stream[0], fs = 100, nperseg=25)"
   ]
  },
  {
   "cell_type": "code",
   "execution_count": 9,
   "id": "59975e2a",
   "metadata": {},
   "outputs": [
    {
     "data": {
      "text/plain": [
       "(248, 13, 3)"
      ]
     },
     "execution_count": 9,
     "metadata": {},
     "output_type": "execute_result"
    }
   ],
   "source": [
    "Zxx = np.abs(Zxx).T\n",
    "Zxx.shape"
   ]
  },
  {
   "cell_type": "code",
   "execution_count": 10,
   "id": "3e9632f4",
   "metadata": {},
   "outputs": [],
   "source": [
    "f_signal = []\n",
    "t_signal = []\n",
    "Zxx_signal = np.zeros(shape = (signal_length, 248, 13, 3))\n",
    "\n",
    "for i in range(signal_length):\n",
    "    f, t, Zxx = signal.stft(signal_stream[i], fs = 100, nperseg=25)\n",
    "    f_signal.append(f)\n",
    "    t_signal.append(t)\n",
    "    Zxx_signal[i] = np.abs(Zxx).T\n",
    "\n",
    "f_noise = []\n",
    "t_noise = []\n",
    "Zxx_noise = np.zeros(shape = (noise_length, 248, 13, 3))\n",
    "\n",
    "for i in range(noise_length):\n",
    "    f, t, Zxx = signal.stft(noise_stream[i], fs = 100, nperseg=25)\n",
    "    f_noise.append(f)\n",
    "    t_noise.append(t)\n",
    "    Zxx_noise[i] = np.abs(Zxx).T"
   ]
  },
  {
   "cell_type": "markdown",
   "id": "eb7e0dd7",
   "metadata": {},
   "source": [
    "### Combine noise and signal"
   ]
  },
  {
   "cell_type": "code",
   "execution_count": 11,
   "id": "89c621c9",
   "metadata": {},
   "outputs": [],
   "source": [
    "y = np.append(noise_y, signal_y, axis = 0)\n",
    "X_Zxx = np.append(Zxx_noise, Zxx_signal, axis = 0)"
   ]
  },
  {
   "cell_type": "markdown",
   "id": "a3cf2943",
   "metadata": {},
   "source": [
    "### Shuffle and split"
   ]
  },
  {
   "cell_type": "code",
   "execution_count": 12,
   "id": "5ad833b8",
   "metadata": {},
   "outputs": [
    {
     "name": "stdout",
     "output_type": "stream",
     "text": [
      "(19073, 62, 1)\n",
      "(19073, 248, 13, 3)\n"
     ]
    }
   ],
   "source": [
    "print(y.shape)\n",
    "print(X_Zxx.shape)"
   ]
  },
  {
   "cell_type": "code",
   "execution_count": 13,
   "id": "205fc0cd",
   "metadata": {},
   "outputs": [],
   "source": [
    "np.random.seed(15)\n",
    "X_1, X1_val, y_1, y1_val = train_test_split(X_Zxx, y, test_size=0.3, random_state=15,shuffle=True)"
   ]
  },
  {
   "cell_type": "markdown",
   "id": "d6cf0baa",
   "metadata": {},
   "source": [
    "## CRED Model"
   ]
  },
  {
   "cell_type": "code",
   "execution_count": 14,
   "id": "46f31dae",
   "metadata": {},
   "outputs": [],
   "source": [
    "def lr_schedule(epoch):\n",
    "    \"\"\"\n",
    "    Learning rate is scheduled to be reduced after 40, 60, 80, 90 epochs.\n",
    "    \"\"\"\n",
    "    lr = 1e-3\n",
    "    if epoch > 60:\n",
    "        lr *= 0.5e-3\n",
    "    elif epoch > 40:\n",
    "        lr *= 1e-3\n",
    "    elif epoch > 20:\n",
    "        lr *= 1e-2\n",
    "    elif epoch > 10:\n",
    "        lr *= 1e-1\n",
    "    print('Learning rate: ', lr)\n",
    "    return lr"
   ]
  },
  {
   "cell_type": "code",
   "execution_count": 15,
   "id": "bbc8c6f5",
   "metadata": {},
   "outputs": [],
   "source": [
    "def block_CNN(filters, ker, inpC): \n",
    "    \"\"\"\n",
    "    Returns CNN residual blocks\n",
    "    \"\"\"\n",
    "    layer_1 = BatchNormalization()(inpC) \n",
    "    act_1 = Activation('relu')(layer_1) \n",
    "\n",
    "    conv_1 = Conv2D(filters, (ker-2, ker-2), padding = 'same')(act_1) \n",
    "    \n",
    "    layer_2 = BatchNormalization()(conv_1) \n",
    "    act_2 = Activation('relu')(layer_2) \n",
    "  \n",
    "    conv_2 = Conv2D(filters, (ker-2, ker-2), padding = 'same')(act_2) \n",
    "    return(conv_2)"
   ]
  },
  {
   "cell_type": "code",
   "execution_count": 16,
   "id": "381dfbe8",
   "metadata": {},
   "outputs": [],
   "source": [
    "def block_BiLSTM(inpR, filters, rnn_depth):\n",
    "    \"\"\"\n",
    "    Returns LSTM residual blocks\n",
    "    \"\"\"\n",
    "    x = inpR\n",
    "    for i in range(rnn_depth):\n",
    "        x_rnn = Bidirectional(LSTM(filters, return_sequences=True))(x)\n",
    "        x_rnn = Dropout(0.7)(x_rnn)\n",
    "        if i > 0 :\n",
    "            x = add([x, x_rnn])\n",
    "        else:\n",
    "            x = x_rnn      \n",
    "    return x"
   ]
  },
  {
   "cell_type": "code",
   "execution_count": 17,
   "id": "48f10d7c",
   "metadata": {},
   "outputs": [],
   "source": [
    "def model_cred(shape, filters):\n",
    "    \n",
    "    inp = Input(shape=shape, name='input')\n",
    "\n",
    "    conv2D_2 = Conv2D(filters[0], (9,9), strides = (2,2), padding = 'same', activation = 'relu')(inp) \n",
    "    res_conv_2 = keras.layers.add([block_CNN(filters[0], 9, conv2D_2), conv2D_2]) \n",
    "\n",
    "    conv2D_3 = Conv2D(filters[1], (5,5), strides = (2,2), padding = 'same', activation = 'relu')(res_conv_2) \n",
    "    res_conv_3 = keras.layers.add([block_CNN(filters[1], 5, conv2D_3),conv2D_3]) \n",
    "    \n",
    "    shape = K.int_shape(res_conv_3)   \n",
    "    reshaped = Reshape((shape[1], shape[2]*shape[3]))(res_conv_3)\n",
    "    \n",
    "    res_BIlstm = block_BiLSTM(reshaped, filters = filters[3], rnn_depth = 2)\n",
    " \n",
    "    UNIlstm = LSTM(filters[3], return_sequences=True)(res_BIlstm)\n",
    "    UNIlstm = Dropout(0.8)(UNIlstm)  \n",
    "    UNIlstm = BatchNormalization()(UNIlstm)\n",
    "   \n",
    "    dense_2 = TimeDistributed(Dense(filters[3], kernel_regularizer=l1(0.01), activation='relu'))(UNIlstm)\n",
    "    dense_2 = BatchNormalization()(dense_2)\n",
    "    dense_2 = Dropout(0.8)(dense_2)\n",
    "    \n",
    "    dense_3 = TimeDistributed(Dense(1, kernel_regularizer=l1(0.01), activation='sigmoid'))(dense_2)\n",
    "\n",
    "    out_model = Model(inputs=inp, outputs=dense_3)\n",
    "    return out_model"
   ]
  },
  {
   "cell_type": "code",
   "execution_count": 28,
   "id": "3595c7bc",
   "metadata": {},
   "outputs": [],
   "source": [
    "early_stopping_monitor = EarlyStopping(patience=5)\n",
    "    \n",
    "lr_scheduler = LearningRateScheduler(lr_schedule)\n",
    "    \n",
    "lr_reducer = ReduceLROnPlateau(factor=np.sqrt(0.1),\n",
    "                                   cooldown=0,\n",
    "                                   patience=5-2,\n",
    "                                   min_lr=0.5e-7)"
   ]
  },
  {
   "cell_type": "code",
   "execution_count": 29,
   "id": "8cb38c8c",
   "metadata": {},
   "outputs": [
    {
     "name": "stdout",
     "output_type": "stream",
     "text": [
      "Learning rate:  0.001\n"
     ]
    }
   ],
   "source": [
    "model = model_cred((248, 13, 3), filters = [8, 16, 32, 64, 128, 256])\n",
    "model.compile(loss='binary_crossentropy',\n",
    "                  optimizer=tf.optimizers.Adam(lr=lr_schedule(0)),\n",
    "                  metrics=['binary_accuracy'])"
   ]
  },
  {
   "cell_type": "code",
   "execution_count": 30,
   "id": "6057ef92",
   "metadata": {},
   "outputs": [],
   "source": [
    "seed_value = 15\n",
    "tf.random.set_seed(seed_value)"
   ]
  },
  {
   "cell_type": "code",
   "execution_count": 31,
   "id": "063059f6",
   "metadata": {},
   "outputs": [
    {
     "name": "stdout",
     "output_type": "stream",
     "text": [
      "Learning rate:  0.001\n"
     ]
    },
    {
     "name": "stderr",
     "output_type": "stream",
     "text": [
      "2022-03-05 17:43:15.315706: I tensorflow/core/grappler/optimizers/custom_graph_optimizer_registry.cc:113] Plugin optimizer for device_type GPU is enabled.\n",
      "2022-03-05 17:43:16.332672: I tensorflow/core/grappler/optimizers/custom_graph_optimizer_registry.cc:113] Plugin optimizer for device_type GPU is enabled.\n",
      "2022-03-05 17:43:16.410482: I tensorflow/core/grappler/optimizers/custom_graph_optimizer_registry.cc:113] Plugin optimizer for device_type GPU is enabled.\n",
      "2022-03-05 17:43:16.716441: I tensorflow/core/grappler/optimizers/custom_graph_optimizer_registry.cc:113] Plugin optimizer for device_type GPU is enabled.\n",
      "2022-03-05 17:43:16.794964: I tensorflow/core/grappler/optimizers/custom_graph_optimizer_registry.cc:113] Plugin optimizer for device_type GPU is enabled.\n",
      "2022-03-05 17:43:17.042797: I tensorflow/core/grappler/optimizers/custom_graph_optimizer_registry.cc:113] Plugin optimizer for device_type GPU is enabled.\n",
      "2022-03-05 17:43:17.325197: I tensorflow/core/grappler/optimizers/custom_graph_optimizer_registry.cc:113] Plugin optimizer for device_type GPU is enabled.\n",
      "2022-03-05 17:43:17.495333: I tensorflow/core/grappler/optimizers/custom_graph_optimizer_registry.cc:113] Plugin optimizer for device_type GPU is enabled.\n",
      "2022-03-05 17:43:17.515229: I tensorflow/core/grappler/optimizers/custom_graph_optimizer_registry.cc:113] Plugin optimizer for device_type GPU is enabled.\n",
      "2022-03-05 17:43:17.760131: I tensorflow/core/grappler/optimizers/custom_graph_optimizer_registry.cc:113] Plugin optimizer for device_type GPU is enabled.\n",
      "2022-03-05 17:43:17.780791: I tensorflow/core/grappler/optimizers/custom_graph_optimizer_registry.cc:113] Plugin optimizer for device_type GPU is enabled.\n",
      "2022-03-05 17:43:28.361483: I tensorflow/core/grappler/optimizers/custom_graph_optimizer_registry.cc:113] Plugin optimizer for device_type GPU is enabled.\n",
      "2022-03-05 17:43:28.664551: I tensorflow/core/grappler/optimizers/custom_graph_optimizer_registry.cc:113] Plugin optimizer for device_type GPU is enabled.\n",
      "2022-03-05 17:43:28.679133: I tensorflow/core/grappler/optimizers/custom_graph_optimizer_registry.cc:113] Plugin optimizer for device_type GPU is enabled.\n",
      "2022-03-05 17:43:28.863262: I tensorflow/core/grappler/optimizers/custom_graph_optimizer_registry.cc:113] Plugin optimizer for device_type GPU is enabled.\n",
      "2022-03-05 17:43:28.873012: I tensorflow/core/grappler/optimizers/custom_graph_optimizer_registry.cc:113] Plugin optimizer for device_type GPU is enabled.\n",
      "2022-03-05 17:43:29.027676: I tensorflow/core/grappler/optimizers/custom_graph_optimizer_registry.cc:113] Plugin optimizer for device_type GPU is enabled.\n"
     ]
    },
    {
     "name": "stdout",
     "output_type": "stream",
     "text": [
      "Learning rate:  0.001\n",
      "Learning rate:  0.001\n",
      "Learning rate:  0.001\n",
      "Learning rate:  0.001\n",
      "Learning rate:  0.001\n",
      "Learning rate:  0.001\n",
      "Learning rate:  0.001\n",
      "Learning rate:  0.001\n",
      "Learning rate:  0.001\n",
      "Learning rate:  0.001\n",
      "Learning rate:  0.0001\n",
      "Learning rate:  0.0001\n",
      "Learning rate:  0.0001\n",
      "Learning rate:  0.0001\n",
      "Learning rate:  0.0001\n",
      "Learning rate:  0.0001\n",
      "Learning rate:  0.0001\n"
     ]
    }
   ],
   "source": [
    "checkpointer = ModelCheckpoint(filepath='model_best.hdf5',\n",
    "                                       monitor='val_loss', verbose=0, mode='auto', save_best_only=True)\n",
    "start_time = time.time()  \n",
    "history = model.fit(\n",
    "    X_1,\n",
    "    y_1,\n",
    "    epochs=200,\n",
    "    batch_size=500,\n",
    "    verbose=0,\n",
    "    validation_data = (X1_val, y1_val),\n",
    "    max_queue_size=5,\n",
    "    callbacks = [checkpointer, lr_reducer, lr_scheduler, early_stopping_monitor] )\n",
    "end_time = time.time()"
   ]
  },
  {
   "cell_type": "code",
   "execution_count": 34,
   "id": "2abdd148",
   "metadata": {},
   "outputs": [
    {
     "data": {
      "text/plain": [
       "{'loss': [5.0034356117248535,\n",
       "  3.5991241931915283,\n",
       "  2.5726616382598877,\n",
       "  1.7757468223571777,\n",
       "  1.1555347442626953,\n",
       "  0.7041303515434265,\n",
       "  0.4020597040653229,\n",
       "  0.25604626536369324,\n",
       "  0.2166823446750641,\n",
       "  0.20572122931480408,\n",
       "  0.19751517474651337,\n",
       "  0.19072207808494568,\n",
       "  0.18844689428806305,\n",
       "  0.18694332242012024,\n",
       "  0.18634897470474243,\n",
       "  0.18528161942958832,\n",
       "  0.1842823475599289,\n",
       "  0.1837652623653412],\n",
       " 'binary_accuracy': [0.588593065738678,\n",
       "  0.7494303584098816,\n",
       "  0.8940685987472534,\n",
       "  0.9567798376083374,\n",
       "  0.9811914563179016,\n",
       "  0.9903462529182434,\n",
       "  0.9951121211051941,\n",
       "  0.9970716238021851,\n",
       "  0.997708261013031,\n",
       "  0.997360348701477,\n",
       "  0.9978435635566711,\n",
       "  0.9981999397277832,\n",
       "  0.9983521699905396,\n",
       "  0.9985635876655579,\n",
       "  0.9986312389373779,\n",
       "  0.9987278580665588,\n",
       "  0.9987339377403259,\n",
       "  0.9987435936927795],\n",
       " 'val_loss': [5.143346309661865,\n",
       "  5.746705055236816,\n",
       "  4.825803279876709,\n",
       "  1.4659000635147095,\n",
       "  1.7141591310501099,\n",
       "  1.0118061304092407,\n",
       "  0.39233869314193726,\n",
       "  0.25101473927497864,\n",
       "  0.22059260308742523,\n",
       "  0.21087835729122162,\n",
       "  0.20731425285339355,\n",
       "  0.20312516391277313,\n",
       "  0.19975341856479645,\n",
       "  0.2005588412284851,\n",
       "  0.20200473070144653,\n",
       "  0.2024010419845581,\n",
       "  0.2036624699831009,\n",
       "  0.21172703802585602],\n",
       " 'val_binary_accuracy': [0.09614842385053635,\n",
       "  0.0970955342054367,\n",
       "  0.16360735893249512,\n",
       "  0.9673839807510376,\n",
       "  0.6345627307891846,\n",
       "  0.6354618668556213,\n",
       "  0.928955614566803,\n",
       "  0.9849843978881836,\n",
       "  0.9882231950759888,\n",
       "  0.9885050654411316,\n",
       "  0.9889644980430603,\n",
       "  0.9897368550300598,\n",
       "  0.992087721824646,\n",
       "  0.9928374886512756,\n",
       "  0.9935760498046875,\n",
       "  0.994421660900116,\n",
       "  0.9950869083404541,\n",
       "  0.9947289228439331],\n",
       " 'lr': [0.001,\n",
       "  0.001,\n",
       "  0.001,\n",
       "  0.001,\n",
       "  0.001,\n",
       "  0.001,\n",
       "  0.001,\n",
       "  0.001,\n",
       "  0.001,\n",
       "  0.001,\n",
       "  0.001,\n",
       "  9.9999997e-05,\n",
       "  9.9999997e-05,\n",
       "  9.9999997e-05,\n",
       "  9.9999997e-05,\n",
       "  3.1622774e-05,\n",
       "  9.9999997e-05,\n",
       "  9.9999997e-05]}"
      ]
     },
     "execution_count": 34,
     "metadata": {},
     "output_type": "execute_result"
    }
   ],
   "source": [
    "history.history"
   ]
  },
  {
   "cell_type": "code",
   "execution_count": 27,
   "id": "1b35f300",
   "metadata": {},
   "outputs": [
    {
     "data": {
      "text/plain": [
       "[0.3853886127471924,\n",
       " 0.7973188161849976,\n",
       " 0.5827507972717285,\n",
       " 0.6044468879699707,\n",
       " 0.6490991115570068,\n",
       " 0.6179572939872742,\n",
       " 0.7532049417495728,\n",
       " 0.667776346206665,\n",
       " 0.6231748461723328,\n",
       " 0.7160676121711731,\n",
       " 0.6737352013587952,\n",
       " 0.6883364915847778,\n",
       " 0.7869738936424255,\n",
       " 0.7548905611038208,\n",
       " 0.8615784049034119]"
      ]
     },
     "execution_count": 27,
     "metadata": {},
     "output_type": "execute_result"
    }
   ],
   "source": [
    "history.history['val_binary_accuracy']"
   ]
  },
  {
   "cell_type": "code",
   "execution_count": null,
   "id": "07624b94",
   "metadata": {},
   "outputs": [],
   "source": []
  }
 ],
 "metadata": {
  "kernelspec": {
   "display_name": "Python 3 (ipykernel)",
   "language": "python",
   "name": "python3"
  },
  "language_info": {
   "codemirror_mode": {
    "name": "ipython",
    "version": 3
   },
   "file_extension": ".py",
   "mimetype": "text/x-python",
   "name": "python",
   "nbconvert_exporter": "python",
   "pygments_lexer": "ipython3",
   "version": "3.8.12"
  }
 },
 "nbformat": 4,
 "nbformat_minor": 5
}
