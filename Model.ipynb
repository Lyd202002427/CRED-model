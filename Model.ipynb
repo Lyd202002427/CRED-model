{
 "cells": [
  {
   "cell_type": "code",
   "execution_count": 1,
   "id": "b08522f0",
   "metadata": {},
   "outputs": [],
   "source": [
    "#pip install obspy"
   ]
  },
  {
   "cell_type": "code",
   "execution_count": 2,
   "id": "01ca42fe",
   "metadata": {},
   "outputs": [],
   "source": [
    "import numpy as np\n",
    "import obspy\n",
    "from obspy import read\n",
    "import pandas as pd\n",
    "import time\n",
    "import scipy\n",
    "\n",
    "from __future__ import print_function\n",
    "import keras\n",
    "from keras.layers import add, Reshape, Dense,Input, TimeDistributed, Dropout, Activation, LSTM, Conv2D, Bidirectional, BatchNormalization\n",
    "from keras.callbacks import ModelCheckpoint, LearningRateScheduler, EarlyStopping,ReduceLROnPlateau\n",
    "from keras.regularizers import l1\n",
    "from keras import backend as K\n",
    "from keras.models import Model\n",
    "import tensorflow as tf\n",
    "from sklearn.model_selection import train_test_split\n",
    "\n",
    "import matplotlib\n",
    "matplotlib.use('agg')\n",
    "import matplotlib.pyplot as plt\n",
    "%matplotlib inline\n",
    "from scipy import signal\n",
    "import os\n",
    "np.seterr(divide='ignore', invalid='ignore')\n",
    "import h5py\n",
    "#from obspy.signal.trigger import trigger_onset\n",
    "np.warnings.filterwarnings('ignore')"
   ]
  },
  {
   "cell_type": "markdown",
   "id": "12ddeb1d",
   "metadata": {},
   "source": [
    "## Data Preprocess\n",
    "### Stream generation (no parameter changes)\n"
   ]
  },
  {
   "cell_type": "code",
   "execution_count": 3,
   "id": "3f75c523",
   "metadata": {},
   "outputs": [],
   "source": [
    "noise_filename = pd.read_csv('noise.csv', header = None)\n",
    "noise_trace = []\n",
    "for i in noise_filename[0]:\n",
    "    temp = obspy.read(\"data/noise/\" + i)\n",
    "    te = [temp[0],temp[1],temp[2]]\n",
    "    noise_trace.extend(te)\n",
    "    \n",
    "signal_filename = pd.read_csv('signal.csv', header = None)\n",
    "signal_trace = []\n",
    "for i in signal_filename[0]:\n",
    "    temp = obspy.read(\"data/signal/\" + i)\n",
    "    te = [temp[0],temp[1],temp[2]]\n",
    "    signal_trace.extend(te)"
   ]
  },
  {
   "cell_type": "code",
   "execution_count": 4,
   "id": "7ea249b8",
   "metadata": {},
   "outputs": [],
   "source": [
    "## store some stream\n",
    "trace1 = signal_trace[0]\n",
    "trace2 = noise_trace[0]\n"
   ]
  },
  {
   "cell_type": "code",
   "execution_count": 5,
   "id": "5a59bef5",
   "metadata": {},
   "outputs": [],
   "source": [
    "def slice_trace(tr):\n",
    "    start_time = tr.stats.starttime\n",
    "    end_time = tr.stats.endtime\n",
    "    gap = (end_time - start_time)/4\n",
    "    tr = tr.slice(start_time + gap, end_time - gap)\n",
    "    return tr"
   ]
  },
  {
   "cell_type": "code",
   "execution_count": 6,
   "id": "1b05ad8a",
   "metadata": {},
   "outputs": [],
   "source": [
    "# slice only middle 1000 samples of the stream data\n",
    "noise_trace = list(map(slice_trace, noise_trace))\n",
    "signal_trace = list(map(slice_trace, signal_trace))"
   ]
  },
  {
   "cell_type": "code",
   "execution_count": 7,
   "id": "8d4c2a6e",
   "metadata": {},
   "outputs": [],
   "source": [
    "#band-pass filter between 1 and 45 Hz\n",
    "noise_trace = [n.filter(\"bandpass\", freqmin=1, freqmax=45) for n in noise_trace]\n",
    "#resample at 100 HZ\n",
    "noise_trace = [n.resample(100) for n in noise_trace]\n",
    "#detrende all the traces by removing the mean\n",
    "noise_trace = [n.detrend(\"demean\") for n in noise_trace]\n",
    "#normalize\n",
    "noise_trace = [n.normalize() for n in noise_trace]"
   ]
  },
  {
   "cell_type": "code",
   "execution_count": 8,
   "id": "fb58f15b",
   "metadata": {},
   "outputs": [],
   "source": [
    "#band-pass filter between 1 and 45 Hz\n",
    "signal_trace = [n.filter(\"bandpass\", freqmin=1, freqmax=45) for n in signal_trace]\n",
    "#resample at 100 HZ\n",
    "signal_trace = [n.resample(100) for n in signal_trace]\n",
    "#detrende all the traces by removing the mean\n",
    "signal_trace = [n.detrend(\"demean\") for n in signal_trace]\n",
    "#normalize\n",
    "signal_trace = [n.normalize() for n in signal_trace]"
   ]
  },
  {
   "cell_type": "markdown",
   "id": "f97826e6",
   "metadata": {},
   "source": [
    "### STFT "
   ]
  },
  {
   "cell_type": "code",
   "execution_count": 43,
   "id": "c21a2df3",
   "metadata": {},
   "outputs": [],
   "source": [
    "f, t, Zxx = signal.stft(signal_trace[0], fs = 100, nperseg=25)"
   ]
  },
  {
   "cell_type": "code",
   "execution_count": 48,
   "id": "4b2e3dc0",
   "metadata": {},
   "outputs": [
    {
     "data": {
      "text/plain": [
       "(248, 13, 1)"
      ]
     },
     "execution_count": 48,
     "metadata": {},
     "output_type": "execute_result"
    }
   ],
   "source": [
    "x = np.zeros(shape = (1, 13, 248))\n",
    "x[0] = Zxx\n",
    "np.abs(x).T.shape"
   ]
  },
  {
   "cell_type": "code",
   "execution_count": 22,
   "id": "a15b3cc1",
   "metadata": {},
   "outputs": [],
   "source": [
    "# stft of the data\n",
    "noise_length = len(noise_trace)\n",
    "signal_length = len(signal_trace)\n",
    "\n",
    "Zxx_signal = np.zeros(shape = (signal_length, 248, 13, 1))\n",
    "\n",
    "for i in range(signal_length):\n",
    "    f, t, Zxx = signal.stft(signal_trace[i], fs = 100, nperseg=25)\n",
    "    temp = np.zeros(shape = (1, 13, 248))\n",
    "    temp[0] = Zxx\n",
    "    Zxx_signal[i] = np.abs(temp).T\n",
    "\n",
    "Zxx_noise = np.zeros(shape = (noise_length, 248, 13, 1))\n",
    "\n",
    "for i in range(noise_length):\n",
    "    f, t, Zxx = signal.stft(noise_trace[i], fs = 100, nperseg=25)\n",
    "    temp = np.zeros(shape = (1, 13, 248))\n",
    "    temp[0] = Zxx\n",
    "    Zxx_noise[i] = np.abs(temp).T"
   ]
  },
  {
   "cell_type": "markdown",
   "id": "14ac9fe6",
   "metadata": {},
   "source": [
    "### ground truth generation (Change dimensions)\n",
    "\n"
   ]
  },
  {
   "cell_type": "code",
   "execution_count": 23,
   "id": "6e1b7a5e",
   "metadata": {},
   "outputs": [],
   "source": [
    "## the time lap of the data is about 32 seconds and we would like to set the value at the p-wave arrival time\n",
    "# and the aftwards data to be 1\n",
    "\n",
    "noise_y = np.zeros(shape = (noise_length, 62, 1))\n",
    "\n",
    "signal_y_truth = np.append(np.zeros(shape=(31,1)), np.ones(shape=(31,1)),axis=0)\n",
    "signal_y = np.zeros(shape = (signal_length, 62, 1))\n",
    "for i in range(signal_length):\n",
    "    signal_y[i] = signal_y_truth"
   ]
  },
  {
   "cell_type": "code",
   "execution_count": 110,
   "id": "6526ec7d",
   "metadata": {},
   "outputs": [
    {
     "data": {
      "text/plain": [
       "31"
      ]
     },
     "execution_count": 110,
     "metadata": {},
     "output_type": "execute_result"
    }
   ],
   "source": [
    "np.argwhere(signal_y_truth==1)[0][0]"
   ]
  },
  {
   "cell_type": "markdown",
   "id": "eb7e0dd7",
   "metadata": {},
   "source": [
    "### Combine noise and signal"
   ]
  },
  {
   "cell_type": "code",
   "execution_count": 24,
   "id": "89c621c9",
   "metadata": {},
   "outputs": [],
   "source": [
    "y = np.append(noise_y, signal_y, axis = 0)\n",
    "X_Zxx = np.append(Zxx_noise, Zxx_signal, axis = 0)"
   ]
  },
  {
   "cell_type": "markdown",
   "id": "a3cf2943",
   "metadata": {},
   "source": [
    "### Shuffle and split"
   ]
  },
  {
   "cell_type": "code",
   "execution_count": 25,
   "id": "5ad833b8",
   "metadata": {},
   "outputs": [
    {
     "name": "stdout",
     "output_type": "stream",
     "text": [
      "(57219, 62, 1)\n",
      "(57219, 248, 13, 1)\n"
     ]
    }
   ],
   "source": [
    "print(y.shape)\n",
    "print(X_Zxx.shape)"
   ]
  },
  {
   "cell_type": "code",
   "execution_count": 26,
   "id": "205fc0cd",
   "metadata": {},
   "outputs": [],
   "source": [
    "np.random.seed(15)\n",
    "X, X_test, y, y_test = train_test_split(X_Zxx, y, test_size=0.1, random_state=15,shuffle=True)"
   ]
  },
  {
   "cell_type": "markdown",
   "id": "d6cf0baa",
   "metadata": {},
   "source": [
    "## CRED Model Training"
   ]
  },
  {
   "cell_type": "code",
   "execution_count": 27,
   "id": "46f31dae",
   "metadata": {},
   "outputs": [],
   "source": [
    "def lr_schedule(epoch):\n",
    "    \"\"\"\n",
    "    Learning rate is scheduled to be reduced after 40, 60, 80, 90 epochs.\n",
    "    \"\"\"\n",
    "    lr = 1e-2\n",
    "    if epoch > 60:\n",
    "        lr *= 0.5e-3\n",
    "    elif epoch > 40:\n",
    "        lr *= 1e-3\n",
    "    elif epoch > 20:\n",
    "        lr *= 1e-2\n",
    "    elif epoch > 10:\n",
    "        lr *= 1e-1\n",
    "    print('Learning rate: ', lr)\n",
    "    return lr"
   ]
  },
  {
   "cell_type": "code",
   "execution_count": 28,
   "id": "bbc8c6f5",
   "metadata": {},
   "outputs": [],
   "source": [
    "def block_CNN(filters, ker, inpC): \n",
    "    \"\"\"\n",
    "    Returns CNN residual blocks\n",
    "    \"\"\"\n",
    "    layer_1 = BatchNormalization()(inpC) \n",
    "    act_1 = Activation('relu')(layer_1) \n",
    "\n",
    "    conv_1 = Conv2D(filters, (ker-2, ker-2), padding = 'same')(act_1) \n",
    "    \n",
    "    layer_2 = BatchNormalization()(conv_1) \n",
    "    act_2 = Activation('relu')(layer_2) \n",
    "  \n",
    "    conv_2 = Conv2D(filters, (ker-2, ker-2), padding = 'same')(act_2) \n",
    "    return(conv_2)"
   ]
  },
  {
   "cell_type": "code",
   "execution_count": 29,
   "id": "381dfbe8",
   "metadata": {},
   "outputs": [],
   "source": [
    "def block_BiLSTM(inpR, filters, rnn_depth):\n",
    "    \"\"\"\n",
    "    Returns LSTM residual blocks\n",
    "    \"\"\"\n",
    "    x = inpR\n",
    "    for i in range(rnn_depth):\n",
    "        x_rnn = Bidirectional(LSTM(filters, return_sequences=True))(x)\n",
    "        x_rnn = Dropout(0.7)(x_rnn)\n",
    "        if i > 0 :\n",
    "            x = add([x, x_rnn])\n",
    "        else:\n",
    "            x = x_rnn      \n",
    "    return x"
   ]
  },
  {
   "cell_type": "code",
   "execution_count": 30,
   "id": "48f10d7c",
   "metadata": {},
   "outputs": [],
   "source": [
    "def model_cred(shape, filters):\n",
    "    \n",
    "    inp = Input(shape=shape, name='input')\n",
    "\n",
    "    conv2D_2 = Conv2D(filters[0], (9,9), strides = (2,2), padding = 'same', activation = 'relu')(inp) \n",
    "    res_conv_2 = keras.layers.add([block_CNN(filters[0], 9, conv2D_2), conv2D_2]) \n",
    "\n",
    "    conv2D_3 = Conv2D(filters[1], (5,5), strides = (2,2), padding = 'same', activation = 'relu')(res_conv_2) \n",
    "    res_conv_3 = keras.layers.add([block_CNN(filters[1], 5, conv2D_3),conv2D_3]) \n",
    "    \n",
    "    shape = K.int_shape(res_conv_3)   \n",
    "    reshaped = Reshape((shape[1], shape[2]*shape[3]))(res_conv_3)\n",
    "    \n",
    "    res_BIlstm = block_BiLSTM(reshaped, filters = filters[3], rnn_depth = 2)\n",
    " \n",
    "    UNIlstm = LSTM(filters[3], return_sequences=True)(res_BIlstm)\n",
    "    UNIlstm = Dropout(0.8)(UNIlstm)  \n",
    "    UNIlstm = BatchNormalization()(UNIlstm)\n",
    "   \n",
    "    dense_2 = TimeDistributed(Dense(filters[3], kernel_regularizer=l1(0.01), activation='relu'))(UNIlstm)\n",
    "    dense_2 = BatchNormalization()(dense_2)\n",
    "    dense_2 = Dropout(0.8)(dense_2)\n",
    "    \n",
    "    dense_3 = TimeDistributed(Dense(1, kernel_regularizer=l1(0.01), activation='sigmoid'))(dense_2)\n",
    "\n",
    "    out_model = Model(inputs=inp, outputs=dense_3)\n",
    "    return out_model"
   ]
  },
  {
   "cell_type": "code",
   "execution_count": 31,
   "id": "3595c7bc",
   "metadata": {},
   "outputs": [],
   "source": [
    "early_stopping_monitor = EarlyStopping(patience=5)\n",
    "    \n",
    "lr_scheduler = LearningRateScheduler(lr_schedule)\n",
    "    \n",
    "lr_reducer = ReduceLROnPlateau(factor=np.sqrt(0.1),\n",
    "                                   cooldown=0,\n",
    "                                   patience=5-2,\n",
    "                                   min_lr=0.5e-7)"
   ]
  },
  {
   "cell_type": "code",
   "execution_count": 32,
   "id": "8cb38c8c",
   "metadata": {},
   "outputs": [
    {
     "name": "stderr",
     "output_type": "stream",
     "text": [
      "2022-03-09 22:16:20.134961: I tensorflow/core/common_runtime/pluggable_device/pluggable_device_factory.cc:305] Could not identify NUMA node of platform GPU ID 0, defaulting to 0. Your kernel may not have been built with NUMA support.\n",
      "2022-03-09 22:16:20.136379: I tensorflow/core/common_runtime/pluggable_device/pluggable_device_factory.cc:271] Created TensorFlow device (/job:localhost/replica:0/task:0/device:GPU:0 with 0 MB memory) -> physical PluggableDevice (device: 0, name: METAL, pci bus id: <undefined>)\n"
     ]
    },
    {
     "name": "stdout",
     "output_type": "stream",
     "text": [
      "Metal device set to: Apple M1\n",
      "Learning rate:  0.01\n",
      "Model: \"model\"\n",
      "__________________________________________________________________________________________________\n",
      " Layer (type)                   Output Shape         Param #     Connected to                     \n",
      "==================================================================================================\n",
      " input (InputLayer)             [(None, 248, 13, 1)  0           []                               \n",
      "                                ]                                                                 \n",
      "                                                                                                  \n",
      " conv2d (Conv2D)                (None, 124, 7, 8)    656         ['input[0][0]']                  \n",
      "                                                                                                  \n",
      " batch_normalization (BatchNorm  (None, 124, 7, 8)   32          ['conv2d[0][0]']                 \n",
      " alization)                                                                                       \n",
      "                                                                                                  \n",
      " activation (Activation)        (None, 124, 7, 8)    0           ['batch_normalization[0][0]']    \n",
      "                                                                                                  \n",
      " conv2d_1 (Conv2D)              (None, 124, 7, 8)    3144        ['activation[0][0]']             \n",
      "                                                                                                  \n",
      " batch_normalization_1 (BatchNo  (None, 124, 7, 8)   32          ['conv2d_1[0][0]']               \n",
      " rmalization)                                                                                     \n",
      "                                                                                                  \n",
      " activation_1 (Activation)      (None, 124, 7, 8)    0           ['batch_normalization_1[0][0]']  \n",
      "                                                                                                  \n",
      " conv2d_2 (Conv2D)              (None, 124, 7, 8)    3144        ['activation_1[0][0]']           \n",
      "                                                                                                  \n",
      " add (Add)                      (None, 124, 7, 8)    0           ['conv2d_2[0][0]',               \n",
      "                                                                  'conv2d[0][0]']                 \n",
      "                                                                                                  \n",
      " conv2d_3 (Conv2D)              (None, 62, 4, 16)    3216        ['add[0][0]']                    \n",
      "                                                                                                  \n",
      " batch_normalization_2 (BatchNo  (None, 62, 4, 16)   64          ['conv2d_3[0][0]']               \n",
      " rmalization)                                                                                     \n",
      "                                                                                                  \n",
      " activation_2 (Activation)      (None, 62, 4, 16)    0           ['batch_normalization_2[0][0]']  \n",
      "                                                                                                  \n",
      " conv2d_4 (Conv2D)              (None, 62, 4, 16)    2320        ['activation_2[0][0]']           \n",
      "                                                                                                  \n",
      " batch_normalization_3 (BatchNo  (None, 62, 4, 16)   64          ['conv2d_4[0][0]']               \n",
      " rmalization)                                                                                     \n",
      "                                                                                                  \n",
      " activation_3 (Activation)      (None, 62, 4, 16)    0           ['batch_normalization_3[0][0]']  \n",
      "                                                                                                  \n",
      " conv2d_5 (Conv2D)              (None, 62, 4, 16)    2320        ['activation_3[0][0]']           \n",
      "                                                                                                  \n",
      " add_1 (Add)                    (None, 62, 4, 16)    0           ['conv2d_5[0][0]',               \n",
      "                                                                  'conv2d_3[0][0]']               \n",
      "                                                                                                  \n",
      " reshape (Reshape)              (None, 62, 64)       0           ['add_1[0][0]']                  \n",
      "                                                                                                  \n",
      " bidirectional (Bidirectional)  (None, 62, 128)      66048       ['reshape[0][0]']                \n",
      "                                                                                                  \n",
      " dropout (Dropout)              (None, 62, 128)      0           ['bidirectional[0][0]']          \n",
      "                                                                                                  \n",
      " bidirectional_1 (Bidirectional  (None, 62, 128)     98816       ['dropout[0][0]']                \n",
      " )                                                                                                \n",
      "                                                                                                  \n",
      " dropout_1 (Dropout)            (None, 62, 128)      0           ['bidirectional_1[0][0]']        \n",
      "                                                                                                  \n",
      " add_2 (Add)                    (None, 62, 128)      0           ['dropout[0][0]',                \n",
      "                                                                  'dropout_1[0][0]']              \n",
      "                                                                                                  \n",
      " lstm_2 (LSTM)                  (None, 62, 64)       49408       ['add_2[0][0]']                  \n",
      "                                                                                                  \n",
      " dropout_2 (Dropout)            (None, 62, 64)       0           ['lstm_2[0][0]']                 \n",
      "                                                                                                  \n",
      " batch_normalization_4 (BatchNo  (None, 62, 64)      256         ['dropout_2[0][0]']              \n",
      " rmalization)                                                                                     \n",
      "                                                                                                  \n",
      " time_distributed (TimeDistribu  (None, 62, 64)      4160        ['batch_normalization_4[0][0]']  \n",
      " ted)                                                                                             \n",
      "                                                                                                  \n",
      " batch_normalization_5 (BatchNo  (None, 62, 64)      256         ['time_distributed[0][0]']       \n",
      " rmalization)                                                                                     \n",
      "                                                                                                  \n",
      " dropout_3 (Dropout)            (None, 62, 64)       0           ['batch_normalization_5[0][0]']  \n",
      "                                                                                                  \n",
      " time_distributed_1 (TimeDistri  (None, 62, 1)       65          ['dropout_3[0][0]']              \n",
      " buted)                                                                                           \n",
      "                                                                                                  \n",
      "==================================================================================================\n",
      "Total params: 234,001\n",
      "Trainable params: 233,649\n",
      "Non-trainable params: 352\n",
      "__________________________________________________________________________________________________\n"
     ]
    }
   ],
   "source": [
    "model = model_cred((248, 13, 1), filters = [8, 16, 32, 64, 128, 256])\n",
    "model.compile(loss='binary_crossentropy',\n",
    "                  optimizer=tf.optimizers.Adam(lr=lr_schedule(0)),\n",
    "                  metrics=['binary_accuracy'])\n",
    "model.summary()"
   ]
  },
  {
   "cell_type": "code",
   "execution_count": 33,
   "id": "6057ef92",
   "metadata": {},
   "outputs": [],
   "source": [
    "seed_value = 15\n",
    "tf.random.set_seed(seed_value)"
   ]
  },
  {
   "cell_type": "code",
   "execution_count": 34,
   "id": "063059f6",
   "metadata": {},
   "outputs": [
    {
     "name": "stderr",
     "output_type": "stream",
     "text": [
      "2022-03-09 22:16:28.149916: W tensorflow/core/platform/profile_utils/cpu_utils.cc:128] Failed to get CPU frequency: 0 Hz\n"
     ]
    },
    {
     "name": "stdout",
     "output_type": "stream",
     "text": [
      "Learning rate:  0.01\n"
     ]
    },
    {
     "name": "stderr",
     "output_type": "stream",
     "text": [
      "2022-03-09 22:16:33.180335: I tensorflow/core/grappler/optimizers/custom_graph_optimizer_registry.cc:113] Plugin optimizer for device_type GPU is enabled.\n",
      "2022-03-09 22:16:34.260625: I tensorflow/core/grappler/optimizers/custom_graph_optimizer_registry.cc:113] Plugin optimizer for device_type GPU is enabled.\n",
      "2022-03-09 22:16:34.281268: I tensorflow/core/grappler/optimizers/custom_graph_optimizer_registry.cc:113] Plugin optimizer for device_type GPU is enabled.\n",
      "2022-03-09 22:16:34.493527: I tensorflow/core/grappler/optimizers/custom_graph_optimizer_registry.cc:113] Plugin optimizer for device_type GPU is enabled.\n",
      "2022-03-09 22:16:34.512860: I tensorflow/core/grappler/optimizers/custom_graph_optimizer_registry.cc:113] Plugin optimizer for device_type GPU is enabled.\n",
      "2022-03-09 22:16:34.685789: I tensorflow/core/grappler/optimizers/custom_graph_optimizer_registry.cc:113] Plugin optimizer for device_type GPU is enabled.\n",
      "2022-03-09 22:16:34.936903: I tensorflow/core/grappler/optimizers/custom_graph_optimizer_registry.cc:113] Plugin optimizer for device_type GPU is enabled.\n",
      "2022-03-09 22:16:35.106788: I tensorflow/core/grappler/optimizers/custom_graph_optimizer_registry.cc:113] Plugin optimizer for device_type GPU is enabled.\n",
      "2022-03-09 22:16:35.133282: I tensorflow/core/grappler/optimizers/custom_graph_optimizer_registry.cc:113] Plugin optimizer for device_type GPU is enabled.\n",
      "2022-03-09 22:16:35.350982: I tensorflow/core/grappler/optimizers/custom_graph_optimizer_registry.cc:113] Plugin optimizer for device_type GPU is enabled.\n",
      "2022-03-09 22:16:35.370213: I tensorflow/core/grappler/optimizers/custom_graph_optimizer_registry.cc:113] Plugin optimizer for device_type GPU is enabled.\n",
      "2022-03-09 22:16:59.942389: I tensorflow/core/grappler/optimizers/custom_graph_optimizer_registry.cc:113] Plugin optimizer for device_type GPU is enabled.\n",
      "2022-03-09 22:17:00.223807: I tensorflow/core/grappler/optimizers/custom_graph_optimizer_registry.cc:113] Plugin optimizer for device_type GPU is enabled.\n",
      "2022-03-09 22:17:00.240179: I tensorflow/core/grappler/optimizers/custom_graph_optimizer_registry.cc:113] Plugin optimizer for device_type GPU is enabled.\n",
      "2022-03-09 22:17:00.417557: I tensorflow/core/grappler/optimizers/custom_graph_optimizer_registry.cc:113] Plugin optimizer for device_type GPU is enabled.\n",
      "2022-03-09 22:17:00.428914: I tensorflow/core/grappler/optimizers/custom_graph_optimizer_registry.cc:113] Plugin optimizer for device_type GPU is enabled.\n",
      "2022-03-09 22:17:00.590677: I tensorflow/core/grappler/optimizers/custom_graph_optimizer_registry.cc:113] Plugin optimizer for device_type GPU is enabled.\n"
     ]
    },
    {
     "name": "stdout",
     "output_type": "stream",
     "text": [
      "Learning rate:  0.01\n",
      "Learning rate:  0.01\n",
      "Learning rate:  0.01\n",
      "Learning rate:  0.01\n",
      "Learning rate:  0.01\n",
      "Learning rate:  0.01\n",
      "Learning rate:  0.01\n",
      "Learning rate:  0.01\n",
      "Learning rate:  0.01\n",
      "Learning rate:  0.01\n",
      "Learning rate:  0.001\n",
      "Learning rate:  0.001\n",
      "Learning rate:  0.001\n",
      "Learning rate:  0.001\n",
      "Learning rate:  0.001\n",
      "Learning rate:  0.001\n",
      "Learning rate:  0.001\n",
      "Learning rate:  0.001\n",
      "Learning rate:  0.001\n",
      "Learning rate:  0.001\n",
      "Learning rate:  0.0001\n",
      "Learning rate:  0.0001\n",
      "Learning rate:  0.0001\n",
      "Learning rate:  0.0001\n",
      "Learning rate:  0.0001\n",
      "Learning rate:  0.0001\n",
      "Learning rate:  0.0001\n",
      "Learning rate:  0.0001\n",
      "Learning rate:  0.0001\n",
      "Learning rate:  0.0001\n",
      "Learning rate:  0.0001\n",
      "Learning rate:  0.0001\n",
      "Learning rate:  0.0001\n",
      "Learning rate:  0.0001\n",
      "Learning rate:  0.0001\n",
      "Learning rate:  0.0001\n",
      "Learning rate:  0.0001\n",
      "Learning rate:  0.0001\n",
      "Learning rate:  0.0001\n",
      "Learning rate:  0.0001\n",
      "Learning rate:  1e-05\n",
      "Learning rate:  1e-05\n",
      "Learning rate:  1e-05\n",
      "Learning rate:  1e-05\n",
      "Learning rate:  1e-05\n",
      "Learning rate:  1e-05\n",
      "Learning rate:  1e-05\n",
      "Learning rate:  1e-05\n"
     ]
    }
   ],
   "source": [
    "checkpointer = ModelCheckpoint(filepath='model_best.hdf5',\n",
    "                                       monitor='val_loss', verbose=0, mode='auto', save_best_only=True)\n",
    "start_time = time.time()  \n",
    "history = model.fit(\n",
    "    X,\n",
    "    y,\n",
    "    epochs=200,\n",
    "    batch_size=500,\n",
    "    verbose=0,\n",
    "    validation_split = 0.2,\n",
    "    max_queue_size=5,\n",
    "    callbacks = [checkpointer, lr_reducer, lr_scheduler, early_stopping_monitor] )\n",
    "end_time = time.time()"
   ]
  },
  {
   "cell_type": "code",
   "execution_count": 35,
   "id": "49594a47",
   "metadata": {},
   "outputs": [
    {
     "data": {
      "text/plain": [
       "[0.9683980345726013,\n",
       " 0.9683980345726013,\n",
       " 0.9683980345726013,\n",
       " 0.9928171038627625,\n",
       " 0.9905276894569397,\n",
       " 0.9982508420944214,\n",
       " 0.9974616169929504,\n",
       " 0.9932132959365845,\n",
       " 0.993014395236969,\n",
       " 0.9936987161636353,\n",
       " 0.9958221316337585,\n",
       " 0.9965455532073975,\n",
       " 0.9963732957839966,\n",
       " 0.9965596795082092,\n",
       " 0.9968994855880737,\n",
       " 0.9968994855880737,\n",
       " 0.9967772960662842,\n",
       " 0.9968399405479431,\n",
       " 0.9970717430114746,\n",
       " 0.9968650341033936,\n",
       " 0.9970106482505798,\n",
       " 0.9968634247779846,\n",
       " 0.9970153570175171,\n",
       " 0.9969260692596436,\n",
       " 0.9971359372138977,\n",
       " 0.9971218109130859,\n",
       " 0.9971280694007874,\n",
       " 0.9971312284469604,\n",
       " 0.9971562623977661,\n",
       " 0.9969746470451355,\n",
       " 0.9970545172691345,\n",
       " 0.9979861974716187,\n",
       " 0.997139036655426,\n",
       " 0.9972204566001892,\n",
       " 0.9969104528427124,\n",
       " 0.9971891641616821,\n",
       " 0.9969432950019836,\n",
       " 0.9970184564590454,\n",
       " 0.9970607757568359,\n",
       " 0.9969949722290039,\n",
       " 0.9971234202384949,\n",
       " 0.9970654249191284,\n",
       " 0.9971374869346619,\n",
       " 0.997078001499176,\n",
       " 0.9971421957015991,\n",
       " 0.9971187114715576,\n",
       " 0.9970763921737671,\n",
       " 0.9971296787261963,\n",
       " 0.9971515536308289]"
      ]
     },
     "execution_count": 35,
     "metadata": {},
     "output_type": "execute_result"
    }
   ],
   "source": [
    "history.history['val_binary_accuracy']"
   ]
  },
  {
   "cell_type": "markdown",
   "id": "14f2966d",
   "metadata": {},
   "source": [
    "# Detection "
   ]
  },
  {
   "cell_type": "code",
   "execution_count": 38,
   "id": "f9a36501",
   "metadata": {},
   "outputs": [],
   "source": [
    "def label(prob):\n",
    "    prediction = np.zeros(shape = prob.shape)\n",
    "    for i in range(len(prob)):\n",
    "        if prob[i] > 0.8:\n",
    "            prediction[i] = 1\n",
    "    return prediction"
   ]
  },
  {
   "cell_type": "code",
   "execution_count": 124,
   "id": "5659b832",
   "metadata": {},
   "outputs": [],
   "source": [
    "def Confusion_Matrix(test_array, y_true_array):\n",
    "    '''\n",
    "    The function is designed to create a confusion matrix about whether the signal is correctly detected\n",
    "    ----------------------------------\n",
    "    Input:\n",
    "    test_array: a list of stream that to be detected, the stream should have three channel\n",
    "    y_true_array: the ground truth of the corresponding stream in the test_list\n",
    "    ----------------------------------\n",
    "    Output:\n",
    "    return: a confusion matrix of the model, each row of the matrix corresponds to a predicted class and \n",
    "            each column of the matrix corresponds to an actual class\n",
    "\n",
    "    '''\n",
    "    matrix = pd.DataFrame(data = np.zeros(shape = (2,2)), columns = ['Signal', 'Noise'], index = ['Signal', 'Noise'])\n",
    "    y_prob_array = model.predict(test_array)\n",
    "    for i in range(len(y_prob_array)):\n",
    "        y_pred = label(y_prob_array[i])\n",
    "        truth = y_true_array[i]\n",
    "        if np.any(y_pred == 1) & np.any(truth == 1):\n",
    "            matrix.iloc[0,0] += 1\n",
    "        elif np.any(y_pred == 1) & np.all(truth == 0):\n",
    "            matrix.iloc[0,1] += 1\n",
    "        elif np.all(y_pred == 0) & np.any(truth == 1):\n",
    "            matrix.iloc[1,0] += 1\n",
    "        elif np.all(y_pred == 0) & np.all(truth == 0):\n",
    "            matrix.iloc[1,1] += 1\n",
    "    return matrix"
   ]
  },
  {
   "cell_type": "code",
   "execution_count": 126,
   "id": "66c4ec39",
   "metadata": {},
   "outputs": [
    {
     "data": {
      "text/html": [
       "<div>\n",
       "<style scoped>\n",
       "    .dataframe tbody tr th:only-of-type {\n",
       "        vertical-align: middle;\n",
       "    }\n",
       "\n",
       "    .dataframe tbody tr th {\n",
       "        vertical-align: top;\n",
       "    }\n",
       "\n",
       "    .dataframe thead th {\n",
       "        text-align: right;\n",
       "    }\n",
       "</style>\n",
       "<table border=\"1\" class=\"dataframe\">\n",
       "  <thead>\n",
       "    <tr style=\"text-align: right;\">\n",
       "      <th></th>\n",
       "      <th>Signal</th>\n",
       "      <th>Noise</th>\n",
       "    </tr>\n",
       "  </thead>\n",
       "  <tbody>\n",
       "    <tr>\n",
       "      <th>Signal</th>\n",
       "      <td>118.0</td>\n",
       "      <td>2.0</td>\n",
       "    </tr>\n",
       "    <tr>\n",
       "      <th>Noise</th>\n",
       "      <td>0.0</td>\n",
       "      <td>1788.0</td>\n",
       "    </tr>\n",
       "  </tbody>\n",
       "</table>\n",
       "</div>"
      ],
      "text/plain": [
       "        Signal   Noise\n",
       "Signal   118.0     2.0\n",
       "Noise      0.0  1788.0"
      ]
     },
     "execution_count": 126,
     "metadata": {},
     "output_type": "execute_result"
    }
   ],
   "source": [
    "Confusion_Matrix(X_test, y_test)"
   ]
  },
  {
   "cell_type": "code",
   "execution_count": 44,
   "id": "4badc380",
   "metadata": {},
   "outputs": [],
   "source": [
    "def detection(tr):\n",
    "    '''\n",
    "    ----------------------------------\n",
    "    Input:\n",
    "    st: the input should be a wave stream with the same scale of the training data, which is three chanel of the wave,\n",
    "        in which channel there are 2000 data points\n",
    "    ----------------------------------\n",
    "    Output:\n",
    "    return: time detected time of p-wave arrival; and if there is no signal, print('No p-wave signal') and return None\n",
    "    '''\n",
    "    # input process part\n",
    "    tr = tr.filter(\"bandpass\", freqmin=1, freqmax=45)\n",
    "    tr = tr.resample(100)\n",
    "    tr = tr.detrend(\"demean\")\n",
    "    tr = tr.normalize()\n",
    "    \n",
    "    # stft\n",
    "    f, t, Zxx = signal.stft(tr, fs = 100, nperseg=25)\n",
    "    temp = np.zeros(shape = (1, 13, 248))\n",
    "    temp[0] = Zxx\n",
    "    ip = np.zeros(shape = (1,248,13,1))\n",
    "    ip[0] = np.abs(temp).T\n",
    "    \n",
    "    # input into model\n",
    "    model.load_weights('model_best.hdf5')\n",
    "    y_prob = model.predict(ip)\n",
    "    y = label(y_prob[0])\n",
    "    \n",
    "    # time output\n",
    "    if np.all(y == 0):\n",
    "        print(\"No p-wave signal\")\n",
    "        return None\n",
    "    else:\n",
    "        t = np.argwhere(y==1)[0][0] ## get the index of the first '1' appear in the prediction\n",
    "        lap = tr.stats.endtime - tr.stats.starttime\n",
    "        arrival_time = tr.stats.starttime + lap / 61 * (t-1)\n",
    "        print('p-wave arrivies at', arrival_time)\n",
    "        return arrival_time\n"
   ]
  },
  {
   "cell_type": "code",
   "execution_count": 45,
   "id": "58242b74",
   "metadata": {},
   "outputs": [
    {
     "name": "stdout",
     "output_type": "stream",
     "text": [
      "p-wave arrivies at 2017-12-01T07:55:26.258213Z\n"
     ]
    },
    {
     "data": {
      "text/plain": [
       "2017-12-01T07:55:26.258213Z"
      ]
     },
     "execution_count": 45,
     "metadata": {},
     "output_type": "execute_result"
    }
   ],
   "source": [
    "tr = slice_trace(trace1)\n",
    "detection(tr)"
   ]
  },
  {
   "cell_type": "code",
   "execution_count": 130,
   "id": "3d63d879",
   "metadata": {},
   "outputs": [],
   "source": [
    "y_pred = model.predict(X_test)"
   ]
  },
  {
   "cell_type": "code",
   "execution_count": 65,
   "id": "3143ba16",
   "metadata": {},
   "outputs": [
    {
     "data": {
      "image/png": "[encoded data removed]",
      "text/plain": [
       "<Figure size 1080x288 with 1 Axes>"
      ]
     },
     "metadata": {
      "needs_background": "light"
     },
     "output_type": "display_data"
    }
   ],
   "source": [
    "fig, ax = plt.subplots(figsize=(15, 4))\n",
    "plt.plot(y_test[200].squeeze(), color='r', linewidth=2, label='True')\n",
    "plt.plot(y_pred[200].squeeze(),'--', color='b', linewidth=2, label='Predicted')\n",
    "plt.legend()\n",
    "plt.show()"
   ]
  }
 ],
 "metadata": {
  "kernelspec": {
   "display_name": "Python 3 (ipykernel)",
   "language": "python",
   "name": "python3"
  },
  "language_info": {
   "codemirror_mode": {
    "name": "ipython",
    "version": 3
   },
   "file_extension": ".py",
   "mimetype": "text/x-python",
   "name": "python",
   "nbconvert_exporter": "python",
   "pygments_lexer": "ipython3",
   "version": "3.8.12"
  }
 },
 "nbformat": 4,
 "nbformat_minor": 5
}
