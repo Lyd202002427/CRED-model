{
 "cells": [
  {
   "cell_type": "code",
   "execution_count": 1,
   "id": "b08522f0",
   "metadata": {},
   "outputs": [],
   "source": [
    "#pip install obspy"
   ]
  },
  {
   "cell_type": "code",
   "execution_count": 1,
   "id": "01ca42fe",
   "metadata": {},
   "outputs": [],
   "source": [
    "import numpy as np\n",
    "import obspy\n",
    "from obspy import read\n",
    "import pandas as pd\n",
    "import time\n",
    "import scipy\n",
    "\n",
    "from __future__ import print_function\n",
    "import keras\n",
    "from keras.layers import add, Reshape, Dense,Input, TimeDistributed, Dropout, Activation, LSTM, Conv2D, Bidirectional, BatchNormalization\n",
    "from keras.callbacks import ModelCheckpoint, LearningRateScheduler, EarlyStopping,ReduceLROnPlateau\n",
    "from keras.regularizers import l1\n",
    "from keras import backend as K\n",
    "from keras.models import Model\n",
    "import tensorflow as tf\n",
    "from sklearn.model_selection import train_test_split\n",
    "\n",
    "import matplotlib\n",
    "matplotlib.use('agg')\n",
    "import matplotlib.pyplot as plt\n",
    "from scipy import signal\n",
    "import os\n",
    "np.seterr(divide='ignore', invalid='ignore')\n",
    "import h5py\n",
    "from obspy.signal.trigger import trigger_onset\n",
    "np.warnings.filterwarnings('ignore')"
   ]
  },
  {
   "cell_type": "markdown",
   "id": "12ddeb1d",
   "metadata": {},
   "source": [
    "## Data Preprocess\n",
    "### Stream generation (no parameter changes)"
   ]
  },
  {
   "cell_type": "code",
   "execution_count": 2,
   "id": "3f75c523",
   "metadata": {},
   "outputs": [],
   "source": [
    "noise_filename = pd.read_csv('noise.csv', header = None)\n",
    "noise_stream = []\n",
    "for i in noise_filename[0]:\n",
    "    temp = obspy.read(\"data/noise/\" + i)\n",
    "    noise_stream.append(temp)\n",
    "    \n",
    "signal_filename = pd.read_csv('signal.csv', header = None)\n",
    "signal_stream = []\n",
    "for i in signal_filename[0]:\n",
    "    temp = obspy.read(\"data/signal/\" + i)\n",
    "    signal_stream.append(temp)"
   ]
  },
  {
   "cell_type": "code",
   "execution_count": 3,
   "id": "5a59bef5",
   "metadata": {},
   "outputs": [],
   "source": [
    "def slice_stream(st):\n",
    "    start_time = st[0].stats.starttime\n",
    "    end_time = st[0].stats.endtime\n",
    "    gap = (end_time - start_time)/4\n",
    "    st = st.slice(start_time + gap, end_time - gap)\n",
    "    return st"
   ]
  },
  {
   "cell_type": "code",
   "execution_count": 4,
   "id": "1b05ad8a",
   "metadata": {},
   "outputs": [],
   "source": [
    "noise_stream = list(map(slice_stream, noise_stream))\n",
    "signal_stream = list(map(slice_stream, signal_stream))"
   ]
  },
  {
   "cell_type": "code",
   "execution_count": 5,
   "id": "8d4c2a6e",
   "metadata": {},
   "outputs": [],
   "source": [
    "noise_stream = [n.filter(\"bandpass\", freqmin=1, freqmax=45) for n in noise_stream]\n",
    "noise_stream = [n.resample(100) for n in noise_stream]\n",
    "noise_stream = [n.detrend(\"demean\") for n in noise_stream]\n",
    "noise_stream = [n.normalize() for n in noise_stream]"
   ]
  },
  {
   "cell_type": "code",
   "execution_count": 6,
   "id": "fb58f15b",
   "metadata": {},
   "outputs": [],
   "source": [
    "signal_stream = [n.filter(\"bandpass\", freqmin=1, freqmax=45) for n in signal_stream]\n",
    "signal_stream = [n.resample(100) for n in signal_stream]\n",
    "signal_stream = [n.detrend(\"demean\") for n in signal_stream]\n",
    "signal_stream = [n.normalize() for n in signal_stream]"
   ]
  },
  {
   "cell_type": "code",
   "execution_count": 57,
   "id": "2f4280c5",
   "metadata": {},
   "outputs": [
    {
     "data": {
      "text/plain": [
       "-2.884344"
      ]
     },
     "execution_count": 57,
     "metadata": {},
     "output_type": "execute_result"
    }
   ],
   "source": [
    "length = signal_stream[0][0].stats.endtime - signal_stream[0][0].stats.starttime\n",
    "signal_stream[0][0].stats.starttime + length/2 -(signal_stream[0][0].stats.starttime + 36*length/61)"
   ]
  },
  {
   "cell_type": "markdown",
   "id": "f97826e6",
   "metadata": {},
   "source": [
    "### STFT "
   ]
  },
  {
   "cell_type": "code",
   "execution_count": 8,
   "id": "c21a2df3",
   "metadata": {},
   "outputs": [],
   "source": [
    "f, t, Zxx = signal.stft(signal_stream[0], fs = 100, nperseg=25)"
   ]
  },
  {
   "cell_type": "code",
   "execution_count": 9,
   "id": "59975e2a",
   "metadata": {},
   "outputs": [
    {
     "data": {
      "text/plain": [
       "(248, 13, 3)"
      ]
     },
     "execution_count": 9,
     "metadata": {},
     "output_type": "execute_result"
    }
   ],
   "source": [
    "Zxx = np.abs(Zxx).T\n",
    "Zxx.shape"
   ]
  },
  {
   "cell_type": "code",
   "execution_count": 11,
   "id": "3e9632f4",
   "metadata": {},
   "outputs": [],
   "source": [
    "noise_length = len(noise_stream)\n",
    "signal_length = len(signal_stream)\n",
    "\n",
    "f_signal = []\n",
    "t_signal = []\n",
    "Zxx_signal = np.zeros(shape = (signal_length, 248, 13, 3))\n",
    "\n",
    "for i in range(signal_length):\n",
    "    f, t, Zxx = signal.stft(signal_stream[i], fs = 100, nperseg=25)\n",
    "    f_signal.append(f)\n",
    "    t_signal.append(t)\n",
    "    Zxx_signal[i] = np.abs(Zxx).T\n",
    "\n",
    "f_noise = []\n",
    "t_noise = []\n",
    "Zxx_noise = np.zeros(shape = (noise_length, 248, 13, 3))\n",
    "\n",
    "for i in range(noise_length):\n",
    "    f, t, Zxx = signal.stft(noise_stream[i], fs = 100, nperseg=25)\n",
    "    f_noise.append(f)\n",
    "    t_noise.append(t)\n",
    "    Zxx_noise[i] = np.abs(Zxx).T"
   ]
  },
  {
   "cell_type": "markdown",
   "id": "14ac9fe6",
   "metadata": {},
   "source": [
    "### ground truth generation (Change dimensions)\n",
    "\n"
   ]
  },
  {
   "cell_type": "code",
   "execution_count": 71,
   "id": "6e1b7a5e",
   "metadata": {},
   "outputs": [],
   "source": [
    "## the time lap of the data is about 32 seconds and we would like to set the value appox. 0.5 sec before p-wave arrival\n",
    "## and approx. 3 sec after p-wave arrival to be 1 and others be 0\n",
    "\n",
    "noise_y = np.zeros(shape = (noise_length, 62, 1))\n",
    "\n",
    "signal_y_truth = np.append(np.append(np.zeros(shape=(31,1)), np.ones(shape=(6,1)),axis=0), np.zeros(shape=(25,1)),axis=0)\n",
    "signal_y = np.zeros(shape = (signal_length, 62, 1))\n",
    "for i in range(signal_length):\n",
    "    signal_y[i] = signal_y_truth"
   ]
  },
  {
   "cell_type": "code",
   "execution_count": 91,
   "id": "925b6727",
   "metadata": {},
   "outputs": [
    {
     "data": {
      "text/plain": [
       "31"
      ]
     },
     "execution_count": 91,
     "metadata": {},
     "output_type": "execute_result"
    }
   ],
   "source": [
    "np.argwhere(signal_y_truth==1)[0][0]"
   ]
  },
  {
   "cell_type": "markdown",
   "id": "eb7e0dd7",
   "metadata": {},
   "source": [
    "### Combine noise and signal"
   ]
  },
  {
   "cell_type": "code",
   "execution_count": 73,
   "id": "89c621c9",
   "metadata": {},
   "outputs": [],
   "source": [
    "y = np.append(noise_y, signal_y, axis = 0)\n",
    "X_Zxx = np.append(Zxx_noise, Zxx_signal, axis = 0)"
   ]
  },
  {
   "cell_type": "markdown",
   "id": "a3cf2943",
   "metadata": {},
   "source": [
    "### Shuffle and split"
   ]
  },
  {
   "cell_type": "code",
   "execution_count": 74,
   "id": "5ad833b8",
   "metadata": {},
   "outputs": [
    {
     "name": "stdout",
     "output_type": "stream",
     "text": [
      "(19073, 62, 1)\n",
      "(19073, 248, 13, 3)\n"
     ]
    }
   ],
   "source": [
    "print(y.shape)\n",
    "print(X_Zxx.shape)"
   ]
  },
  {
   "cell_type": "code",
   "execution_count": 75,
   "id": "205fc0cd",
   "metadata": {},
   "outputs": [],
   "source": [
    "np.random.seed(15)\n",
    "X_1, X1_val, y_1, y1_val = train_test_split(X_Zxx, y, test_size=0.3, random_state=15,shuffle=True)"
   ]
  },
  {
   "cell_type": "markdown",
   "id": "d6cf0baa",
   "metadata": {},
   "source": [
    "## CRED Model Training"
   ]
  },
  {
   "cell_type": "code",
   "execution_count": 78,
   "id": "46f31dae",
   "metadata": {},
   "outputs": [],
   "source": [
    "def lr_schedule(epoch):\n",
    "    \"\"\"\n",
    "    Learning rate is scheduled to be reduced after 40, 60, 80, 90 epochs.\n",
    "    \"\"\"\n",
    "    lr = 1e-3\n",
    "    if epoch > 60:\n",
    "        lr *= 0.5e-3\n",
    "    elif epoch > 40:\n",
    "        lr *= 1e-3\n",
    "    elif epoch > 20:\n",
    "        lr *= 1e-2\n",
    "    elif epoch > 10:\n",
    "        lr *= 1e-1\n",
    "    print('Learning rate: ', lr)\n",
    "    return lr"
   ]
  },
  {
   "cell_type": "code",
   "execution_count": 79,
   "id": "bbc8c6f5",
   "metadata": {},
   "outputs": [],
   "source": [
    "def block_CNN(filters, ker, inpC): \n",
    "    \"\"\"\n",
    "    Returns CNN residual blocks\n",
    "    \"\"\"\n",
    "    layer_1 = BatchNormalization()(inpC) \n",
    "    act_1 = Activation('relu')(layer_1) \n",
    "\n",
    "    conv_1 = Conv2D(filters, (ker-2, ker-2), padding = 'same')(act_1) \n",
    "    \n",
    "    layer_2 = BatchNormalization()(conv_1) \n",
    "    act_2 = Activation('relu')(layer_2) \n",
    "  \n",
    "    conv_2 = Conv2D(filters, (ker-2, ker-2), padding = 'same')(act_2) \n",
    "    return(conv_2)"
   ]
  },
  {
   "cell_type": "code",
   "execution_count": 80,
   "id": "381dfbe8",
   "metadata": {},
   "outputs": [],
   "source": [
    "def block_BiLSTM(inpR, filters, rnn_depth):\n",
    "    \"\"\"\n",
    "    Returns LSTM residual blocks\n",
    "    \"\"\"\n",
    "    x = inpR\n",
    "    for i in range(rnn_depth):\n",
    "        x_rnn = Bidirectional(LSTM(filters, return_sequences=True))(x)\n",
    "        x_rnn = Dropout(0.7)(x_rnn)\n",
    "        if i > 0 :\n",
    "            x = add([x, x_rnn])\n",
    "        else:\n",
    "            x = x_rnn      \n",
    "    return x"
   ]
  },
  {
   "cell_type": "code",
   "execution_count": 81,
   "id": "48f10d7c",
   "metadata": {},
   "outputs": [],
   "source": [
    "def model_cred(shape, filters):\n",
    "    \n",
    "    inp = Input(shape=shape, name='input')\n",
    "\n",
    "    conv2D_2 = Conv2D(filters[0], (9,9), strides = (2,2), padding = 'same', activation = 'relu')(inp) \n",
    "    res_conv_2 = keras.layers.add([block_CNN(filters[0], 9, conv2D_2), conv2D_2]) \n",
    "\n",
    "    conv2D_3 = Conv2D(filters[1], (5,5), strides = (2,2), padding = 'same', activation = 'relu')(res_conv_2) \n",
    "    res_conv_3 = keras.layers.add([block_CNN(filters[1], 5, conv2D_3),conv2D_3]) \n",
    "    \n",
    "    shape = K.int_shape(res_conv_3)   \n",
    "    reshaped = Reshape((shape[1], shape[2]*shape[3]))(res_conv_3)\n",
    "    \n",
    "    res_BIlstm = block_BiLSTM(reshaped, filters = filters[3], rnn_depth = 2)\n",
    " \n",
    "    UNIlstm = LSTM(filters[3], return_sequences=True)(res_BIlstm)\n",
    "    UNIlstm = Dropout(0.8)(UNIlstm)  \n",
    "    UNIlstm = BatchNormalization()(UNIlstm)\n",
    "   \n",
    "    dense_2 = TimeDistributed(Dense(filters[3], kernel_regularizer=l1(0.01), activation='relu'))(UNIlstm)\n",
    "    dense_2 = BatchNormalization()(dense_2)\n",
    "    dense_2 = Dropout(0.8)(dense_2)\n",
    "    \n",
    "    dense_3 = TimeDistributed(Dense(1, kernel_regularizer=l1(0.01), activation='sigmoid'))(dense_2)\n",
    "\n",
    "    out_model = Model(inputs=inp, outputs=dense_3)\n",
    "    return out_model"
   ]
  },
  {
   "cell_type": "code",
   "execution_count": 82,
   "id": "3595c7bc",
   "metadata": {},
   "outputs": [],
   "source": [
    "early_stopping_monitor = EarlyStopping(patience=5)\n",
    "    \n",
    "lr_scheduler = LearningRateScheduler(lr_schedule)\n",
    "    \n",
    "lr_reducer = ReduceLROnPlateau(factor=np.sqrt(0.1),\n",
    "                                   cooldown=0,\n",
    "                                   patience=5-2,\n",
    "                                   min_lr=0.5e-7)"
   ]
  },
  {
   "cell_type": "code",
   "execution_count": 83,
   "id": "8cb38c8c",
   "metadata": {},
   "outputs": [
    {
     "name": "stdout",
     "output_type": "stream",
     "text": [
      "Learning rate:  0.001\n",
      "Model: \"model_6\"\n",
      "__________________________________________________________________________________________________\n",
      " Layer (type)                   Output Shape         Param #     Connected to                     \n",
      "==================================================================================================\n",
      " input (InputLayer)             [(None, 248, 13, 3)  0           []                               \n",
      "                                ]                                                                 \n",
      "                                                                                                  \n",
      " conv2d_36 (Conv2D)             (None, 124, 7, 8)    1952        ['input[0][0]']                  \n",
      "                                                                                                  \n",
      " batch_normalization_36 (BatchN  (None, 124, 7, 8)   32          ['conv2d_36[0][0]']              \n",
      " ormalization)                                                                                    \n",
      "                                                                                                  \n",
      " activation_24 (Activation)     (None, 124, 7, 8)    0           ['batch_normalization_36[0][0]'] \n",
      "                                                                                                  \n",
      " conv2d_37 (Conv2D)             (None, 124, 7, 8)    3144        ['activation_24[0][0]']          \n",
      "                                                                                                  \n",
      " batch_normalization_37 (BatchN  (None, 124, 7, 8)   32          ['conv2d_37[0][0]']              \n",
      " ormalization)                                                                                    \n",
      "                                                                                                  \n",
      " activation_25 (Activation)     (None, 124, 7, 8)    0           ['batch_normalization_37[0][0]'] \n",
      "                                                                                                  \n",
      " conv2d_38 (Conv2D)             (None, 124, 7, 8)    3144        ['activation_25[0][0]']          \n",
      "                                                                                                  \n",
      " add_18 (Add)                   (None, 124, 7, 8)    0           ['conv2d_38[0][0]',              \n",
      "                                                                  'conv2d_36[0][0]']              \n",
      "                                                                                                  \n",
      " conv2d_39 (Conv2D)             (None, 62, 4, 16)    3216        ['add_18[0][0]']                 \n",
      "                                                                                                  \n",
      " batch_normalization_38 (BatchN  (None, 62, 4, 16)   64          ['conv2d_39[0][0]']              \n",
      " ormalization)                                                                                    \n",
      "                                                                                                  \n",
      " activation_26 (Activation)     (None, 62, 4, 16)    0           ['batch_normalization_38[0][0]'] \n",
      "                                                                                                  \n",
      " conv2d_40 (Conv2D)             (None, 62, 4, 16)    2320        ['activation_26[0][0]']          \n",
      "                                                                                                  \n",
      " batch_normalization_39 (BatchN  (None, 62, 4, 16)   64          ['conv2d_40[0][0]']              \n",
      " ormalization)                                                                                    \n",
      "                                                                                                  \n",
      " activation_27 (Activation)     (None, 62, 4, 16)    0           ['batch_normalization_39[0][0]'] \n",
      "                                                                                                  \n",
      " conv2d_41 (Conv2D)             (None, 62, 4, 16)    2320        ['activation_27[0][0]']          \n",
      "                                                                                                  \n",
      " add_19 (Add)                   (None, 62, 4, 16)    0           ['conv2d_41[0][0]',              \n",
      "                                                                  'conv2d_39[0][0]']              \n",
      "                                                                                                  \n",
      " reshape_6 (Reshape)            (None, 62, 64)       0           ['add_19[0][0]']                 \n",
      "                                                                                                  \n",
      " bidirectional_12 (Bidirectiona  (None, 62, 128)     66048       ['reshape_6[0][0]']              \n",
      " l)                                                                                               \n",
      "                                                                                                  \n",
      " dropout_24 (Dropout)           (None, 62, 128)      0           ['bidirectional_12[0][0]']       \n",
      "                                                                                                  \n",
      " bidirectional_13 (Bidirectiona  (None, 62, 128)     98816       ['dropout_24[0][0]']             \n",
      " l)                                                                                               \n",
      "                                                                                                  \n",
      " dropout_25 (Dropout)           (None, 62, 128)      0           ['bidirectional_13[0][0]']       \n",
      "                                                                                                  \n",
      " add_20 (Add)                   (None, 62, 128)      0           ['dropout_24[0][0]',             \n",
      "                                                                  'dropout_25[0][0]']             \n",
      "                                                                                                  \n",
      " lstm_20 (LSTM)                 (None, 62, 64)       49408       ['add_20[0][0]']                 \n",
      "                                                                                                  \n",
      " dropout_26 (Dropout)           (None, 62, 64)       0           ['lstm_20[0][0]']                \n",
      "                                                                                                  \n",
      " batch_normalization_40 (BatchN  (None, 62, 64)      256         ['dropout_26[0][0]']             \n",
      " ormalization)                                                                                    \n",
      "                                                                                                  \n",
      " time_distributed_12 (TimeDistr  (None, 62, 64)      4160        ['batch_normalization_40[0][0]'] \n",
      " ibuted)                                                                                          \n",
      "                                                                                                  \n",
      " batch_normalization_41 (BatchN  (None, 62, 64)      256         ['time_distributed_12[0][0]']    \n",
      " ormalization)                                                                                    \n",
      "                                                                                                  \n",
      " dropout_27 (Dropout)           (None, 62, 64)       0           ['batch_normalization_41[0][0]'] \n",
      "                                                                                                  \n",
      " time_distributed_13 (TimeDistr  (None, 62, 1)       65          ['dropout_27[0][0]']             \n",
      " ibuted)                                                                                          \n",
      "                                                                                                  \n",
      "==================================================================================================\n",
      "Total params: 235,297\n",
      "Trainable params: 234,945\n",
      "Non-trainable params: 352\n",
      "__________________________________________________________________________________________________\n"
     ]
    }
   ],
   "source": [
    "model = model_cred((248, 13, 3), filters = [8, 16, 32, 64, 128, 256])\n",
    "model.compile(loss='binary_crossentropy',\n",
    "                  optimizer=tf.optimizers.Adam(lr=lr_schedule(0)),\n",
    "                  metrics=['binary_accuracy'])\n",
    "model.summary()"
   ]
  },
  {
   "cell_type": "code",
   "execution_count": 84,
   "id": "6057ef92",
   "metadata": {},
   "outputs": [],
   "source": [
    "seed_value = 15\n",
    "tf.random.set_seed(seed_value)"
   ]
  },
  {
   "cell_type": "code",
   "execution_count": 85,
   "id": "063059f6",
   "metadata": {},
   "outputs": [
    {
     "name": "stdout",
     "output_type": "stream",
     "text": [
      "Learning rate:  0.001\n"
     ]
    },
    {
     "name": "stderr",
     "output_type": "stream",
     "text": [
      "2022-03-06 16:40:56.367576: I tensorflow/core/grappler/optimizers/custom_graph_optimizer_registry.cc:113] Plugin optimizer for device_type GPU is enabled.\n",
      "2022-03-06 16:40:59.714696: I tensorflow/core/grappler/optimizers/custom_graph_optimizer_registry.cc:113] Plugin optimizer for device_type GPU is enabled.\n",
      "2022-03-06 16:40:59.855412: I tensorflow/core/grappler/optimizers/custom_graph_optimizer_registry.cc:113] Plugin optimizer for device_type GPU is enabled.\n",
      "2022-03-06 16:41:00.684557: I tensorflow/core/grappler/optimizers/custom_graph_optimizer_registry.cc:113] Plugin optimizer for device_type GPU is enabled.\n",
      "2022-03-06 16:41:00.766647: I tensorflow/core/grappler/optimizers/custom_graph_optimizer_registry.cc:113] Plugin optimizer for device_type GPU is enabled.\n",
      "2022-03-06 16:41:02.567261: I tensorflow/core/grappler/optimizers/custom_graph_optimizer_registry.cc:113] Plugin optimizer for device_type GPU is enabled.\n",
      "2022-03-06 16:41:03.922579: I tensorflow/core/grappler/optimizers/custom_graph_optimizer_registry.cc:113] Plugin optimizer for device_type GPU is enabled.\n",
      "2022-03-06 16:41:04.748313: I tensorflow/core/grappler/optimizers/custom_graph_optimizer_registry.cc:113] Plugin optimizer for device_type GPU is enabled.\n",
      "2022-03-06 16:41:04.846886: I tensorflow/core/grappler/optimizers/custom_graph_optimizer_registry.cc:113] Plugin optimizer for device_type GPU is enabled.\n",
      "2022-03-06 16:41:05.858872: I tensorflow/core/grappler/optimizers/custom_graph_optimizer_registry.cc:113] Plugin optimizer for device_type GPU is enabled.\n",
      "2022-03-06 16:41:06.348170: I tensorflow/core/grappler/optimizers/custom_graph_optimizer_registry.cc:113] Plugin optimizer for device_type GPU is enabled.\n",
      "2022-03-06 16:41:19.186015: I tensorflow/core/grappler/optimizers/custom_graph_optimizer_registry.cc:113] Plugin optimizer for device_type GPU is enabled.\n",
      "2022-03-06 16:41:19.551949: I tensorflow/core/grappler/optimizers/custom_graph_optimizer_registry.cc:113] Plugin optimizer for device_type GPU is enabled.\n",
      "2022-03-06 16:41:19.569962: I tensorflow/core/grappler/optimizers/custom_graph_optimizer_registry.cc:113] Plugin optimizer for device_type GPU is enabled.\n",
      "2022-03-06 16:41:19.809509: I tensorflow/core/grappler/optimizers/custom_graph_optimizer_registry.cc:113] Plugin optimizer for device_type GPU is enabled.\n",
      "2022-03-06 16:41:19.820384: I tensorflow/core/grappler/optimizers/custom_graph_optimizer_registry.cc:113] Plugin optimizer for device_type GPU is enabled.\n",
      "2022-03-06 16:41:20.026851: I tensorflow/core/grappler/optimizers/custom_graph_optimizer_registry.cc:113] Plugin optimizer for device_type GPU is enabled.\n"
     ]
    },
    {
     "name": "stdout",
     "output_type": "stream",
     "text": [
      "Learning rate:  0.001\n",
      "Learning rate:  0.001\n",
      "Learning rate:  0.001\n",
      "Learning rate:  0.001\n",
      "Learning rate:  0.001\n",
      "Learning rate:  0.001\n",
      "Learning rate:  0.001\n",
      "Learning rate:  0.001\n",
      "Learning rate:  0.001\n",
      "Learning rate:  0.001\n",
      "Learning rate:  0.0001\n",
      "Learning rate:  0.0001\n",
      "Learning rate:  0.0001\n",
      "Learning rate:  0.0001\n",
      "Learning rate:  0.0001\n",
      "Learning rate:  0.0001\n",
      "Learning rate:  0.0001\n",
      "Learning rate:  0.0001\n",
      "Learning rate:  0.0001\n",
      "Learning rate:  0.0001\n",
      "Learning rate:  1e-05\n",
      "Learning rate:  1e-05\n",
      "Learning rate:  1e-05\n",
      "Learning rate:  1e-05\n",
      "Learning rate:  1e-05\n",
      "Learning rate:  1e-05\n",
      "Learning rate:  1e-05\n",
      "Learning rate:  1e-05\n",
      "Learning rate:  1e-05\n",
      "Learning rate:  1e-05\n",
      "Learning rate:  1e-05\n",
      "Learning rate:  1e-05\n",
      "Learning rate:  1e-05\n",
      "Learning rate:  1e-05\n",
      "Learning rate:  1e-05\n",
      "Learning rate:  1e-05\n",
      "Learning rate:  1e-05\n",
      "Learning rate:  1e-05\n",
      "Learning rate:  1e-05\n",
      "Learning rate:  1e-05\n",
      "Learning rate:  1e-06\n",
      "Learning rate:  1e-06\n",
      "Learning rate:  1e-06\n",
      "Learning rate:  1e-06\n",
      "Learning rate:  1e-06\n",
      "Learning rate:  1e-06\n",
      "Learning rate:  1e-06\n",
      "Learning rate:  1e-06\n",
      "Learning rate:  1e-06\n",
      "Learning rate:  1e-06\n",
      "Learning rate:  1e-06\n",
      "Learning rate:  1e-06\n",
      "Learning rate:  1e-06\n"
     ]
    }
   ],
   "source": [
    "checkpointer = ModelCheckpoint(filepath='model_best.hdf5',\n",
    "                                       monitor='val_loss', verbose=0, mode='auto', save_best_only=True)\n",
    "start_time = time.time()  \n",
    "history = model.fit(\n",
    "    X_1,\n",
    "    y_1,\n",
    "    epochs=200,\n",
    "    batch_size=500,\n",
    "    verbose=0,\n",
    "    validation_data = (X1_val, y1_val),\n",
    "    max_queue_size=5,\n",
    "    callbacks = [checkpointer, lr_reducer, lr_scheduler, early_stopping_monitor] )\n",
    "end_time = time.time()"
   ]
  },
  {
   "cell_type": "code",
   "execution_count": 86,
   "id": "dbe72c24",
   "metadata": {},
   "outputs": [
    {
     "data": {
      "text/plain": [
       "[0.9937084913253784,\n",
       " 0.9937084913253784,\n",
       " 0.9937084913253784,\n",
       " 0.9937084913253784,\n",
       " 0.9937084913253784,\n",
       " 0.9937084913253784,\n",
       " 0.9937084913253784,\n",
       " 0.9937084913253784,\n",
       " 0.9937084913253784,\n",
       " 0.9937084913253784,\n",
       " 0.9937084913253784,\n",
       " 0.9937084913253784,\n",
       " 0.9937084913253784,\n",
       " 0.9937084913253784,\n",
       " 0.9937084913253784,\n",
       " 0.9937084913253784,\n",
       " 0.9937084913253784,\n",
       " 0.9937084913253784,\n",
       " 0.9937084913253784,\n",
       " 0.9937084913253784,\n",
       " 0.9937084913253784,\n",
       " 0.9937084913253784,\n",
       " 0.9937084913253784,\n",
       " 0.9937084913253784,\n",
       " 0.9937084913253784,\n",
       " 0.9937084913253784,\n",
       " 0.9937084913253784,\n",
       " 0.9937084913253784,\n",
       " 0.9937084913253784,\n",
       " 0.9937084913253784,\n",
       " 0.9937084913253784,\n",
       " 0.9937084913253784,\n",
       " 0.9937084913253784,\n",
       " 0.9937084913253784,\n",
       " 0.9937084913253784,\n",
       " 0.9937084913253784,\n",
       " 0.9937084913253784,\n",
       " 0.9937084913253784,\n",
       " 0.9937084913253784,\n",
       " 0.9937084913253784,\n",
       " 0.9937084913253784,\n",
       " 0.9937084913253784,\n",
       " 0.9937084913253784,\n",
       " 0.9937084913253784,\n",
       " 0.9937084913253784,\n",
       " 0.9937084913253784,\n",
       " 0.9937084913253784,\n",
       " 0.9937084913253784,\n",
       " 0.9937084913253784,\n",
       " 0.9937084913253784,\n",
       " 0.9937084913253784,\n",
       " 0.9937084913253784,\n",
       " 0.9937084913253784,\n",
       " 0.9937084913253784]"
      ]
     },
     "execution_count": 86,
     "metadata": {},
     "output_type": "execute_result"
    }
   ],
   "source": [
    "history.history['val_binary_accuracy']"
   ]
  },
  {
   "cell_type": "markdown",
   "id": "80fb734b",
   "metadata": {},
   "source": [
    "# Detection "
   ]
  },
  {
   "cell_type": "code",
   "execution_count": null,
   "id": "09821f0d",
   "metadata": {},
   "outputs": [],
   "source": [
    "def detection(st):\n",
    "    '''\n",
    "    ----------------------------------\n",
    "    Input:\n",
    "    st: the input should be a wave stream with the same scale of the training data, which is three chanel of the wave \n",
    "        , in which channel there are 2000 data points\n",
    "    ----------------------------------\n",
    "    Output:\n",
    "    time: time detected time of p-wave arrival; and if there is no signal, print('No signal')\n",
    "    '''\n",
    "    # input process part\n",
    "    st = slice_stream(st)\n",
    "    st = st.filter(\"bandpass\", freqmin=1, freqmax=45)\n",
    "    st = st.resample(100)\n",
    "    st = st.detrend(\"demean\")\n",
    "    st = st.normalize()\n",
    "    \n",
    "    # stft\n",
    "    f, t, Zxx = signal.stft(st, fs = 100, nperseg=25)\n",
    "    Zxx = np.abs(Zxx).T\n",
    "    \n",
    "    # input into model\n",
    "    model.load_weights('model_best.hdf5')\n",
    "    y = model.predict(Zxx)\n",
    "    \n",
    "    # time output\n",
    "    if np.all(y == 0):\n",
    "        print(\"No signal\")\n",
    "    else:\n",
    "        t = np.argwhere(y==1)[0][0] ## get the index of the first '1' appear in the prediction\n",
    "        lap = st[0].stats.endtime - st[0].stats.starttime\n",
    "        arrival_time = st[0].stats.starttime + lap / 61 * (t-1)\n",
    "        return arrival_time\n",
    "        \n",
    "        \n",
    "        "
   ]
  }
 ],
 "metadata": {
  "kernelspec": {
   "display_name": "Python 3 (ipykernel)",
   "language": "python",
   "name": "python3"
  },
  "language_info": {
   "codemirror_mode": {
    "name": "ipython",
    "version": 3
   },
   "file_extension": ".py",
   "mimetype": "text/x-python",
   "name": "python",
   "nbconvert_exporter": "python",
   "pygments_lexer": "ipython3",
   "version": "3.9.7"
  }
 },
 "nbformat": 4,
 "nbformat_minor": 5
}
