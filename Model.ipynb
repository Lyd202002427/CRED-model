{
 "cells": [
  {
   "cell_type": "code",
   "execution_count": 1,
   "id": "b08522f0",
   "metadata": {},
   "outputs": [],
   "source": [
    "#pip install obspy"
   ]
  },
  {
   "cell_type": "code",
   "execution_count": 1,
   "id": "01ca42fe",
   "metadata": {},
   "outputs": [],
   "source": [
    "import numpy as np\n",
    "import obspy\n",
    "from obspy import read\n",
    "import pandas as pd\n",
    "import time\n",
    "import scipy\n",
    "\n",
    "from __future__ import print_function\n",
    "import keras\n",
    "from keras.layers import add, Reshape, Dense,Input, TimeDistributed, Dropout, Activation, LSTM, Conv2D, Bidirectional, BatchNormalization\n",
    "from keras.callbacks import ModelCheckpoint, LearningRateScheduler, EarlyStopping,ReduceLROnPlateau\n",
    "from keras.regularizers import l1\n",
    "from keras import backend as K\n",
    "from keras.models import Model\n",
    "import tensorflow as tf\n",
    "from sklearn.model_selection import train_test_split\n",
    "\n",
    "import matplotlib\n",
    "matplotlib.use('agg')\n",
    "import matplotlib.pyplot as plt\n",
    "%matplotlib inline\n",
    "from scipy import signal\n",
    "import os\n",
    "np.seterr(divide='ignore', invalid='ignore')\n",
    "import h5py\n",
    "#from obspy.signal.trigger import trigger_onset\n",
    "np.warnings.filterwarnings('ignore')"
   ]
  },
  {
   "cell_type": "markdown",
   "id": "12ddeb1d",
   "metadata": {},
   "source": [
    "## Data Preprocess\n",
    "### Stream generation (no parameter changes)\n"
   ]
  },
  {
   "cell_type": "code",
   "execution_count": 2,
   "id": "3f75c523",
   "metadata": {},
   "outputs": [],
   "source": [
    "noise_filename = pd.read_csv('noise.csv', header = None)\n",
    "noise_trace = []\n",
    "for i in noise_filename[0]:\n",
    "    temp = obspy.read(\"data/noise/\" + i)\n",
    "    te = [temp[0],temp[1],temp[2]]\n",
    "    noise_trace.extend(te)\n",
    "    \n",
    "signal_filename = pd.read_csv('signal.csv', header = None)\n",
    "signal_trace = []\n",
    "for i in signal_filename[0]:\n",
    "    temp = obspy.read(\"data/signal/\" + i)\n",
    "    te = [temp[0],temp[1],temp[2]]\n",
    "    signal_trace.extend(te)"
   ]
  },
  {
   "cell_type": "code",
   "execution_count": 3,
   "id": "7ea249b8",
   "metadata": {},
   "outputs": [],
   "source": [
    "## store some stream\n",
    "trace1 = signal_trace[0]\n",
    "trace2 = noise_trace[0]\n"
   ]
  },
  {
   "cell_type": "code",
   "execution_count": 4,
   "id": "5a59bef5",
   "metadata": {},
   "outputs": [],
   "source": [
    "def slice_trace(tr):\n",
    "    start_time = tr.stats.starttime\n",
    "    end_time = tr.stats.endtime\n",
    "    gap = (end_time - start_time)/4\n",
    "    tr = tr.slice(start_time + gap, end_time - gap)\n",
    "    return tr"
   ]
  },
  {
   "cell_type": "code",
   "execution_count": 5,
   "id": "1b05ad8a",
   "metadata": {},
   "outputs": [],
   "source": [
    "# slice only middle 1000 samples of the stream data\n",
    "noise_trace = list(map(slice_trace, noise_trace))\n",
    "signal_trace = list(map(slice_trace, signal_trace))"
   ]
  },
  {
   "cell_type": "code",
   "execution_count": 6,
   "id": "8d4c2a6e",
   "metadata": {},
   "outputs": [],
   "source": [
    "#band-pass filter between 1 and 45 Hz\n",
    "noise_trace = [n.filter(\"bandpass\", freqmin=1, freqmax=45) for n in noise_trace]\n",
    "#resample at 100 HZ\n",
    "noise_trace = [n.resample(100) for n in noise_trace]\n",
    "#detrende all the traces by removing the mean\n",
    "noise_trace = [n.detrend(\"demean\") for n in noise_trace]\n",
    "#normalize\n",
    "noise_trace = [n.normalize() for n in noise_trace]"
   ]
  },
  {
   "cell_type": "code",
   "execution_count": 7,
   "id": "fb58f15b",
   "metadata": {},
   "outputs": [],
   "source": [
    "#band-pass filter between 1 and 45 Hz\n",
    "signal_trace = [n.filter(\"bandpass\", freqmin=1, freqmax=45) for n in signal_trace]\n",
    "#resample at 100 HZ\n",
    "signal_trace = [n.resample(100) for n in signal_trace]\n",
    "#detrende all the traces by removing the mean\n",
    "signal_trace = [n.detrend(\"demean\") for n in signal_trace]\n",
    "#normalize\n",
    "signal_trace = [n.normalize() for n in signal_trace]"
   ]
  },
  {
   "cell_type": "markdown",
   "id": "f97826e6",
   "metadata": {},
   "source": [
    "### STFT "
   ]
  },
  {
   "cell_type": "code",
   "execution_count": 43,
   "id": "c21a2df3",
   "metadata": {},
   "outputs": [],
   "source": [
    "f, t, Zxx = signal.stft(signal_trace[0], fs = 100, nperseg=25)"
   ]
  },
  {
   "cell_type": "code",
   "execution_count": 48,
   "id": "961f3657",
   "metadata": {},
   "outputs": [
    {
     "data": {
      "text/plain": [
       "(248, 13, 1)"
      ]
     },
     "execution_count": 48,
     "metadata": {},
     "output_type": "execute_result"
    }
   ],
   "source": [
    "x = np.zeros(shape = (1, 13, 248))\n",
    "x[0] = Zxx\n",
    "np.abs(x).T.shape"
   ]
  },
  {
   "cell_type": "code",
   "execution_count": 8,
   "id": "4463d10e",
   "metadata": {},
   "outputs": [],
   "source": [
    "# stft of the data\n",
    "noise_length = len(noise_trace)\n",
    "signal_length = len(signal_trace)\n",
    "\n",
    "Zxx_signal = np.zeros(shape = (signal_length, 248, 13, 1))\n",
    "\n",
    "for i in range(signal_length):\n",
    "    f, t, Zxx = signal.stft(signal_trace[i], fs = 100, nperseg=25)\n",
    "    temp = np.zeros(shape = (1, 13, 248))\n",
    "    temp[0] = Zxx\n",
    "    Zxx_signal[i] = np.abs(temp).T\n",
    "\n",
    "Zxx_noise = np.zeros(shape = (noise_length, 248, 13, 1))\n",
    "\n",
    "for i in range(noise_length):\n",
    "    f, t, Zxx = signal.stft(noise_trace[i], fs = 100, nperseg=25)\n",
    "    temp = np.zeros(shape = (1, 13, 248))\n",
    "    temp[0] = Zxx\n",
    "    Zxx_noise[i] = np.abs(temp).T"
   ]
  },
  {
   "cell_type": "markdown",
   "id": "14ac9fe6",
   "metadata": {},
   "source": [
    "### ground truth generation (Change dimensions)\n",
    "\n"
   ]
  },
  {
   "cell_type": "code",
   "execution_count": 9,
   "id": "6e1b7a5e",
   "metadata": {},
   "outputs": [],
   "source": [
    "## the time lap of the data is about 32 seconds and we would like to set the value at the p-wave arrival time\n",
    "# and the aftwards data to be 1\n",
    "\n",
    "noise_y = np.zeros(shape = (noise_length, 62, 1))\n",
    "\n",
    "signal_y_truth = np.append(np.zeros(shape=(31,1)), np.ones(shape=(31,1)),axis=0)\n",
    "signal_y = np.zeros(shape = (signal_length, 62, 1))\n",
    "for i in range(signal_length):\n",
    "    signal_y[i] = signal_y_truth"
   ]
  },
  {
   "cell_type": "code",
   "execution_count": 110,
   "id": "6526ec7d",
   "metadata": {},
   "outputs": [
    {
     "data": {
      "text/plain": [
       "31"
      ]
     },
     "execution_count": 110,
     "metadata": {},
     "output_type": "execute_result"
    }
   ],
   "source": [
    "np.argwhere(signal_y_truth==1)[0][0]"
   ]
  },
  {
   "cell_type": "markdown",
   "id": "eb7e0dd7",
   "metadata": {},
   "source": [
    "### Combine noise and signal"
   ]
  },
  {
   "cell_type": "code",
   "execution_count": 10,
   "id": "89c621c9",
   "metadata": {},
   "outputs": [],
   "source": [
    "y = np.append(noise_y, signal_y, axis = 0)\n",
    "X_Zxx = np.append(Zxx_noise, Zxx_signal, axis = 0)"
   ]
  },
  {
   "cell_type": "markdown",
   "id": "a3cf2943",
   "metadata": {},
   "source": [
    "### Shuffle and split"
   ]
  },
  {
   "cell_type": "code",
   "execution_count": 11,
   "id": "5ad833b8",
   "metadata": {},
   "outputs": [
    {
     "name": "stdout",
     "output_type": "stream",
     "text": [
      "(57219, 62, 1)\n",
      "(57219, 248, 13, 1)\n"
     ]
    }
   ],
   "source": [
    "print(y.shape)\n",
    "print(X_Zxx.shape)"
   ]
  },
  {
   "cell_type": "code",
   "execution_count": 12,
   "id": "205fc0cd",
   "metadata": {},
   "outputs": [],
   "source": [
    "np.random.seed(15)\n",
    "X, X_test, y, y_test = train_test_split(X_Zxx, y, test_size=0.1, random_state=15,shuffle=True)"
   ]
  },
  {
   "cell_type": "markdown",
   "id": "d6cf0baa",
   "metadata": {},
   "source": [
    "## CRED Model Training"
   ]
  },
  {
   "cell_type": "code",
   "execution_count": 13,
   "id": "46f31dae",
   "metadata": {},
   "outputs": [],
   "source": [
    "def lr_schedule(epoch):\n",
    "    \"\"\"\n",
    "    Learning rate is scheduled to be reduced after 40, 60, 80, 90 epochs.\n",
    "    \"\"\"\n",
    "    lr = 1e-2\n",
    "    if epoch > 60:\n",
    "        lr *= 0.5e-3\n",
    "    elif epoch > 40:\n",
    "        lr *= 1e-3\n",
    "    elif epoch > 20:\n",
    "        lr *= 1e-2\n",
    "    elif epoch > 10:\n",
    "        lr *= 1e-1\n",
    "    print('Learning rate: ', lr)\n",
    "    return lr"
   ]
  },
  {
   "cell_type": "code",
   "execution_count": 14,
   "id": "bbc8c6f5",
   "metadata": {},
   "outputs": [],
   "source": [
    "def block_CNN(filters, ker, inpC): \n",
    "    \"\"\"\n",
    "    Returns CNN residual blocks\n",
    "    \"\"\"\n",
    "    layer_1 = BatchNormalization()(inpC) \n",
    "    act_1 = Activation('relu')(layer_1) \n",
    "\n",
    "    conv_1 = Conv2D(filters, (ker-2, ker-2), padding = 'same')(act_1) \n",
    "    \n",
    "    layer_2 = BatchNormalization()(conv_1) \n",
    "    act_2 = Activation('relu')(layer_2) \n",
    "  \n",
    "    conv_2 = Conv2D(filters, (ker-2, ker-2), padding = 'same')(act_2) \n",
    "    return(conv_2)"
   ]
  },
  {
   "cell_type": "code",
   "execution_count": 15,
   "id": "381dfbe8",
   "metadata": {},
   "outputs": [],
   "source": [
    "def block_BiLSTM(inpR, filters, rnn_depth):\n",
    "    \"\"\"\n",
    "    Returns LSTM residual blocks\n",
    "    \"\"\"\n",
    "    x = inpR\n",
    "    for i in range(rnn_depth):\n",
    "        x_rnn = Bidirectional(LSTM(filters, return_sequences=True))(x)\n",
    "        x_rnn = Dropout(0.7)(x_rnn)\n",
    "        if i > 0 :\n",
    "            x = add([x, x_rnn])\n",
    "        else:\n",
    "            x = x_rnn      \n",
    "    return x"
   ]
  },
  {
   "cell_type": "code",
   "execution_count": 16,
   "id": "48f10d7c",
   "metadata": {},
   "outputs": [],
   "source": [
    "def model_cred(shape, filters):\n",
    "    \n",
    "    inp = Input(shape=shape, name='input')\n",
    "\n",
    "    conv2D_2 = Conv2D(filters[0], (9,9), strides = (2,2), padding = 'same', activation = 'relu')(inp) \n",
    "    res_conv_2 = keras.layers.add([block_CNN(filters[0], 9, conv2D_2), conv2D_2]) \n",
    "\n",
    "    conv2D_3 = Conv2D(filters[1], (5,5), strides = (2,2), padding = 'same', activation = 'relu')(res_conv_2) \n",
    "    res_conv_3 = keras.layers.add([block_CNN(filters[1], 5, conv2D_3),conv2D_3]) \n",
    "    \n",
    "    shape = K.int_shape(res_conv_3)   \n",
    "    reshaped = Reshape((shape[1], shape[2]*shape[3]))(res_conv_3)\n",
    "    \n",
    "    res_BIlstm = block_BiLSTM(reshaped, filters = filters[3], rnn_depth = 2)\n",
    " \n",
    "    UNIlstm = LSTM(filters[3], return_sequences=True)(res_BIlstm)\n",
    "    UNIlstm = Dropout(0.8)(UNIlstm)  \n",
    "    UNIlstm = BatchNormalization()(UNIlstm)\n",
    "   \n",
    "    dense_2 = TimeDistributed(Dense(filters[3], kernel_regularizer=l1(0.01), activation='relu'))(UNIlstm)\n",
    "    dense_2 = BatchNormalization()(dense_2)\n",
    "    dense_2 = Dropout(0.8)(dense_2)\n",
    "    \n",
    "    dense_3 = TimeDistributed(Dense(1, kernel_regularizer=l1(0.01), activation='sigmoid'))(dense_2)\n",
    "\n",
    "    out_model = Model(inputs=inp, outputs=dense_3)\n",
    "    return out_model"
   ]
  },
  {
   "cell_type": "code",
   "execution_count": 17,
   "id": "3595c7bc",
   "metadata": {},
   "outputs": [],
   "source": [
    "early_stopping_monitor = EarlyStopping(patience=5)\n",
    "    \n",
    "lr_scheduler = LearningRateScheduler(lr_schedule)\n",
    "    \n",
    "lr_reducer = ReduceLROnPlateau(factor=np.sqrt(0.1),\n",
    "                                   cooldown=0,\n",
    "                                   patience=5-2,\n",
    "                                   min_lr=0.5e-7)"
   ]
  },
  {
   "cell_type": "code",
   "execution_count": 18,
   "id": "8cb38c8c",
   "metadata": {},
   "outputs": [
    {
     "name": "stdout",
     "output_type": "stream",
     "text": [
      "Metal device set to: Apple M1\n"
     ]
    },
    {
     "name": "stderr",
     "output_type": "stream",
     "text": [
      "2022-03-10 09:06:26.428862: I tensorflow/core/common_runtime/pluggable_device/pluggable_device_factory.cc:305] Could not identify NUMA node of platform GPU ID 0, defaulting to 0. Your kernel may not have been built with NUMA support.\n",
      "2022-03-10 09:06:26.430452: I tensorflow/core/common_runtime/pluggable_device/pluggable_device_factory.cc:271] Created TensorFlow device (/job:localhost/replica:0/task:0/device:GPU:0 with 0 MB memory) -> physical PluggableDevice (device: 0, name: METAL, pci bus id: <undefined>)\n"
     ]
    },
    {
     "name": "stdout",
     "output_type": "stream",
     "text": [
      "Learning rate:  0.01\n",
      "Model: \"model\"\n",
      "__________________________________________________________________________________________________\n",
      " Layer (type)                   Output Shape         Param #     Connected to                     \n",
      "==================================================================================================\n",
      " input (InputLayer)             [(None, 248, 13, 1)  0           []                               \n",
      "                                ]                                                                 \n",
      "                                                                                                  \n",
      " conv2d (Conv2D)                (None, 124, 7, 8)    656         ['input[0][0]']                  \n",
      "                                                                                                  \n",
      " batch_normalization (BatchNorm  (None, 124, 7, 8)   32          ['conv2d[0][0]']                 \n",
      " alization)                                                                                       \n",
      "                                                                                                  \n",
      " activation (Activation)        (None, 124, 7, 8)    0           ['batch_normalization[0][0]']    \n",
      "                                                                                                  \n",
      " conv2d_1 (Conv2D)              (None, 124, 7, 8)    3144        ['activation[0][0]']             \n",
      "                                                                                                  \n",
      " batch_normalization_1 (BatchNo  (None, 124, 7, 8)   32          ['conv2d_1[0][0]']               \n",
      " rmalization)                                                                                     \n",
      "                                                                                                  \n",
      " activation_1 (Activation)      (None, 124, 7, 8)    0           ['batch_normalization_1[0][0]']  \n",
      "                                                                                                  \n",
      " conv2d_2 (Conv2D)              (None, 124, 7, 8)    3144        ['activation_1[0][0]']           \n",
      "                                                                                                  \n",
      " add (Add)                      (None, 124, 7, 8)    0           ['conv2d_2[0][0]',               \n",
      "                                                                  'conv2d[0][0]']                 \n",
      "                                                                                                  \n",
      " conv2d_3 (Conv2D)              (None, 62, 4, 16)    3216        ['add[0][0]']                    \n",
      "                                                                                                  \n",
      " batch_normalization_2 (BatchNo  (None, 62, 4, 16)   64          ['conv2d_3[0][0]']               \n",
      " rmalization)                                                                                     \n",
      "                                                                                                  \n",
      " activation_2 (Activation)      (None, 62, 4, 16)    0           ['batch_normalization_2[0][0]']  \n",
      "                                                                                                  \n",
      " conv2d_4 (Conv2D)              (None, 62, 4, 16)    2320        ['activation_2[0][0]']           \n",
      "                                                                                                  \n",
      " batch_normalization_3 (BatchNo  (None, 62, 4, 16)   64          ['conv2d_4[0][0]']               \n",
      " rmalization)                                                                                     \n",
      "                                                                                                  \n",
      " activation_3 (Activation)      (None, 62, 4, 16)    0           ['batch_normalization_3[0][0]']  \n",
      "                                                                                                  \n",
      " conv2d_5 (Conv2D)              (None, 62, 4, 16)    2320        ['activation_3[0][0]']           \n",
      "                                                                                                  \n",
      " add_1 (Add)                    (None, 62, 4, 16)    0           ['conv2d_5[0][0]',               \n",
      "                                                                  'conv2d_3[0][0]']               \n",
      "                                                                                                  \n",
      " reshape (Reshape)              (None, 62, 64)       0           ['add_1[0][0]']                  \n",
      "                                                                                                  \n",
      " bidirectional (Bidirectional)  (None, 62, 128)      66048       ['reshape[0][0]']                \n",
      "                                                                                                  \n",
      " dropout (Dropout)              (None, 62, 128)      0           ['bidirectional[0][0]']          \n",
      "                                                                                                  \n",
      " bidirectional_1 (Bidirectional  (None, 62, 128)     98816       ['dropout[0][0]']                \n",
      " )                                                                                                \n",
      "                                                                                                  \n",
      " dropout_1 (Dropout)            (None, 62, 128)      0           ['bidirectional_1[0][0]']        \n",
      "                                                                                                  \n",
      " add_2 (Add)                    (None, 62, 128)      0           ['dropout[0][0]',                \n",
      "                                                                  'dropout_1[0][0]']              \n",
      "                                                                                                  \n",
      " lstm_2 (LSTM)                  (None, 62, 64)       49408       ['add_2[0][0]']                  \n",
      "                                                                                                  \n",
      " dropout_2 (Dropout)            (None, 62, 64)       0           ['lstm_2[0][0]']                 \n",
      "                                                                                                  \n",
      " batch_normalization_4 (BatchNo  (None, 62, 64)      256         ['dropout_2[0][0]']              \n",
      " rmalization)                                                                                     \n",
      "                                                                                                  \n",
      " time_distributed (TimeDistribu  (None, 62, 64)      4160        ['batch_normalization_4[0][0]']  \n",
      " ted)                                                                                             \n",
      "                                                                                                  \n",
      " batch_normalization_5 (BatchNo  (None, 62, 64)      256         ['time_distributed[0][0]']       \n",
      " rmalization)                                                                                     \n",
      "                                                                                                  \n",
      " dropout_3 (Dropout)            (None, 62, 64)       0           ['batch_normalization_5[0][0]']  \n",
      "                                                                                                  \n",
      " time_distributed_1 (TimeDistri  (None, 62, 1)       65          ['dropout_3[0][0]']              \n",
      " buted)                                                                                           \n",
      "                                                                                                  \n",
      "==================================================================================================\n",
      "Total params: 234,001\n",
      "Trainable params: 233,649\n",
      "Non-trainable params: 352\n",
      "__________________________________________________________________________________________________\n"
     ]
    }
   ],
   "source": [
    "model = model_cred((248, 13, 1), filters = [8, 16, 32, 64, 128, 256])\n",
    "model.compile(loss='binary_crossentropy',\n",
    "                  optimizer=tf.optimizers.Adam(lr=lr_schedule(0)),\n",
    "                  metrics=['binary_accuracy'])\n",
    "model.summary()"
   ]
  },
  {
   "cell_type": "code",
   "execution_count": 19,
   "id": "6057ef92",
   "metadata": {},
   "outputs": [],
   "source": [
    "seed_value = 15\n",
    "tf.random.set_seed(seed_value)"
   ]
  },
  {
   "cell_type": "code",
   "execution_count": 20,
   "id": "063059f6",
   "metadata": {},
   "outputs": [
    {
     "name": "stderr",
     "output_type": "stream",
     "text": [
      "2022-03-10 09:06:36.011757: W tensorflow/core/platform/profile_utils/cpu_utils.cc:128] Failed to get CPU frequency: 0 Hz\n"
     ]
    },
    {
     "name": "stdout",
     "output_type": "stream",
     "text": [
      "Learning rate:  0.01\n"
     ]
    },
    {
     "name": "stderr",
     "output_type": "stream",
     "text": [
      "2022-03-10 09:06:39.995660: I tensorflow/core/grappler/optimizers/custom_graph_optimizer_registry.cc:113] Plugin optimizer for device_type GPU is enabled.\n",
      "2022-03-10 09:06:41.312222: I tensorflow/core/grappler/optimizers/custom_graph_optimizer_registry.cc:113] Plugin optimizer for device_type GPU is enabled.\n",
      "2022-03-10 09:06:41.326739: I tensorflow/core/grappler/optimizers/custom_graph_optimizer_registry.cc:113] Plugin optimizer for device_type GPU is enabled.\n",
      "2022-03-10 09:06:41.626118: I tensorflow/core/grappler/optimizers/custom_graph_optimizer_registry.cc:113] Plugin optimizer for device_type GPU is enabled.\n",
      "2022-03-10 09:06:41.636401: I tensorflow/core/grappler/optimizers/custom_graph_optimizer_registry.cc:113] Plugin optimizer for device_type GPU is enabled.\n",
      "2022-03-10 09:06:41.843397: I tensorflow/core/grappler/optimizers/custom_graph_optimizer_registry.cc:113] Plugin optimizer for device_type GPU is enabled.\n",
      "2022-03-10 09:06:42.281995: I tensorflow/core/grappler/optimizers/custom_graph_optimizer_registry.cc:113] Plugin optimizer for device_type GPU is enabled.\n",
      "2022-03-10 09:06:42.464281: I tensorflow/core/grappler/optimizers/custom_graph_optimizer_registry.cc:113] Plugin optimizer for device_type GPU is enabled.\n",
      "2022-03-10 09:06:42.485385: I tensorflow/core/grappler/optimizers/custom_graph_optimizer_registry.cc:113] Plugin optimizer for device_type GPU is enabled.\n",
      "2022-03-10 09:06:42.762317: I tensorflow/core/grappler/optimizers/custom_graph_optimizer_registry.cc:113] Plugin optimizer for device_type GPU is enabled.\n",
      "2022-03-10 09:06:42.780797: I tensorflow/core/grappler/optimizers/custom_graph_optimizer_registry.cc:113] Plugin optimizer for device_type GPU is enabled.\n",
      "2022-03-10 09:07:07.937118: I tensorflow/core/grappler/optimizers/custom_graph_optimizer_registry.cc:113] Plugin optimizer for device_type GPU is enabled.\n",
      "2022-03-10 09:07:08.232938: I tensorflow/core/grappler/optimizers/custom_graph_optimizer_registry.cc:113] Plugin optimizer for device_type GPU is enabled.\n",
      "2022-03-10 09:07:08.256269: I tensorflow/core/grappler/optimizers/custom_graph_optimizer_registry.cc:113] Plugin optimizer for device_type GPU is enabled.\n",
      "2022-03-10 09:07:08.430258: I tensorflow/core/grappler/optimizers/custom_graph_optimizer_registry.cc:113] Plugin optimizer for device_type GPU is enabled.\n",
      "2022-03-10 09:07:08.442348: I tensorflow/core/grappler/optimizers/custom_graph_optimizer_registry.cc:113] Plugin optimizer for device_type GPU is enabled.\n",
      "2022-03-10 09:07:08.601782: I tensorflow/core/grappler/optimizers/custom_graph_optimizer_registry.cc:113] Plugin optimizer for device_type GPU is enabled.\n"
     ]
    },
    {
     "name": "stdout",
     "output_type": "stream",
     "text": [
      "Learning rate:  0.01\n",
      "Learning rate:  0.01\n",
      "Learning rate:  0.01\n",
      "Learning rate:  0.01\n",
      "Learning rate:  0.01\n",
      "Learning rate:  0.01\n",
      "Learning rate:  0.01\n",
      "Learning rate:  0.01\n",
      "Learning rate:  0.01\n",
      "Learning rate:  0.01\n",
      "Learning rate:  0.001\n",
      "Learning rate:  0.001\n",
      "Learning rate:  0.001\n",
      "Learning rate:  0.001\n",
      "Learning rate:  0.001\n",
      "Learning rate:  0.001\n",
      "Learning rate:  0.001\n",
      "Learning rate:  0.001\n",
      "Learning rate:  0.001\n",
      "Learning rate:  0.001\n",
      "Learning rate:  0.0001\n",
      "Learning rate:  0.0001\n",
      "Learning rate:  0.0001\n",
      "Learning rate:  0.0001\n",
      "Learning rate:  0.0001\n",
      "Learning rate:  0.0001\n",
      "Learning rate:  0.0001\n",
      "Learning rate:  0.0001\n",
      "Learning rate:  0.0001\n",
      "Learning rate:  0.0001\n",
      "Learning rate:  0.0001\n",
      "Learning rate:  0.0001\n"
     ]
    }
   ],
   "source": [
    "checkpointer = ModelCheckpoint(filepath='model_best.hdf5',\n",
    "                                       monitor='val_loss', verbose=0, mode='auto', save_best_only=True)\n",
    "start_time = time.time()  \n",
    "history = model.fit(\n",
    "    X,\n",
    "    y,\n",
    "    epochs=200,\n",
    "    batch_size=500,\n",
    "    verbose=0,\n",
    "    validation_split = 0.2,\n",
    "    max_queue_size=5,\n",
    "    callbacks = [checkpointer, lr_reducer, lr_scheduler, early_stopping_monitor] )\n",
    "end_time = time.time()"
   ]
  },
  {
   "cell_type": "code",
   "execution_count": 21,
   "id": "49594a47",
   "metadata": {},
   "outputs": [
    {
     "data": {
      "text/plain": [
       "[0.9683980345726013,\n",
       " 0.9683980345726013,\n",
       " 0.9683980345726013,\n",
       " 0.9831318259239197,\n",
       " 0.9933683276176453,\n",
       " 0.9811274409294128,\n",
       " 0.9941324591636658,\n",
       " 0.989300012588501,\n",
       " 0.9900547862052917,\n",
       " 0.993014395236969,\n",
       " 0.9913091063499451,\n",
       " 0.9937911033630371,\n",
       " 0.9935092329978943,\n",
       " 0.9937002658843994,\n",
       " 0.9949545860290527,\n",
       " 0.993850588798523,\n",
       " 0.9952661991119385,\n",
       " 0.9950485229492188,\n",
       " 0.9955997467041016,\n",
       " 0.9936407804489136,\n",
       " 0.9954525232315063,\n",
       " 0.9950516819953918,\n",
       " 0.9953303933143616,\n",
       " 0.9954352974891663,\n",
       " 0.995812714099884,\n",
       " 0.9956232309341431,\n",
       " 0.99590665102005,\n",
       " 0.9959238767623901,\n",
       " 0.9957156181335449,\n",
       " 0.9954337477684021,\n",
       " 0.9954259395599365,\n",
       " 0.9958847165107727,\n",
       " 0.9955762624740601]"
      ]
     },
     "execution_count": 21,
     "metadata": {},
     "output_type": "execute_result"
    }
   ],
   "source": [
    "history.history['val_binary_accuracy']"
   ]
  },
  {
   "cell_type": "markdown",
   "id": "14f2966d",
   "metadata": {},
   "source": [
    "# Detection "
   ]
  },
  {
   "cell_type": "code",
   "execution_count": 38,
   "id": "f9a36501",
   "metadata": {},
   "outputs": [],
   "source": [
    "def label(prob):\n",
    "    prediction = np.zeros(shape = prob.shape)\n",
    "    for i in range(len(prob)):\n",
    "        if prob[i] > 0.9:\n",
    "            prediction[i] = 1\n",
    "    return prediction"
   ]
  },
  {
   "cell_type": "code",
   "execution_count": 39,
   "id": "5659b832",
   "metadata": {},
   "outputs": [],
   "source": [
    "def Confusion_Matrix(test_array, y_true_array):\n",
    "    '''\n",
    "    The function is designed to create a confusion matrix about whether the signal is correctly detected\n",
    "    ----------------------------------\n",
    "    Input:\n",
    "    test_array: a list of stream that to be detected, the stream should have three channel\n",
    "    y_true_array: the ground truth of the corresponding stream in the test_list\n",
    "    ----------------------------------\n",
    "    Output:\n",
    "    return: a confusion matrix of the model, each row of the matrix corresponds to a predicted class and \n",
    "            each column of the matrix corresponds to an actual class\n",
    "\n",
    "    '''\n",
    "    matrix = pd.DataFrame(data = np.zeros(shape = (2,2)), columns = ['Signal', 'Noise'], index = ['Signal', 'Noise'])\n",
    "    y_prob_array = model.predict(test_array)\n",
    "    for i in range(len(y_prob_array)):\n",
    "        y_pred = label(y_prob_array[i])\n",
    "        truth = y_true_array[i]\n",
    "        if np.any(y_pred == 1) & np.any(truth == 1):\n",
    "            matrix.iloc[0,0] += 1\n",
    "        elif np.any(y_pred == 1) & np.all(truth == 0):\n",
    "            matrix.iloc[0,1] += 1\n",
    "        elif np.all(y_pred == 0) & np.any(truth == 1):\n",
    "            matrix.iloc[1,0] += 1\n",
    "        elif np.all(y_pred == 0) & np.all(truth == 0):\n",
    "            matrix.iloc[1,1] += 1\n",
    "    return matrix"
   ]
  },
  {
   "cell_type": "code",
   "execution_count": 40,
   "id": "66c4ec39",
   "metadata": {},
   "outputs": [
    {
     "data": {
      "text/html": [
       "<div>\n",
       "<style scoped>\n",
       "    .dataframe tbody tr th:only-of-type {\n",
       "        vertical-align: middle;\n",
       "    }\n",
       "\n",
       "    .dataframe tbody tr th {\n",
       "        vertical-align: top;\n",
       "    }\n",
       "\n",
       "    .dataframe thead th {\n",
       "        text-align: right;\n",
       "    }\n",
       "</style>\n",
       "<table border=\"1\" class=\"dataframe\">\n",
       "  <thead>\n",
       "    <tr style=\"text-align: right;\">\n",
       "      <th></th>\n",
       "      <th>Signal</th>\n",
       "      <th>Noise</th>\n",
       "    </tr>\n",
       "  </thead>\n",
       "  <tbody>\n",
       "    <tr>\n",
       "      <th>Signal</th>\n",
       "      <td>380.0</td>\n",
       "      <td>9.0</td>\n",
       "    </tr>\n",
       "    <tr>\n",
       "      <th>Noise</th>\n",
       "      <td>6.0</td>\n",
       "      <td>5327.0</td>\n",
       "    </tr>\n",
       "  </tbody>\n",
       "</table>\n",
       "</div>"
      ],
      "text/plain": [
       "        Signal   Noise\n",
       "Signal   380.0     9.0\n",
       "Noise      6.0  5327.0"
      ]
     },
     "execution_count": 40,
     "metadata": {},
     "output_type": "execute_result"
    }
   ],
   "source": [
    "Confusion_Matrix(X_test, y_test)"
   ]
  },
  {
   "cell_type": "code",
   "execution_count": 41,
   "id": "fcf9d056",
   "metadata": {},
   "outputs": [
    {
     "data": {
      "text/plain": [
       "0.98064516129032264"
      ]
     },
     "execution_count": 41,
     "metadata": {},
     "output_type": "execute_result"
    }
   ],
   "source": [
    "precision = Confusion_Matrix(X_test, y_test).iloc[0,0]/(Confusion_Matrix(X_test, y_test).iloc[0,0]+Confusion_Matrix(X_test, y_test).iloc[0,1])\n",
    "recall = Confusion_Matrix(X_test, y_test).iloc[0,0]/(Confusion_Matrix(X_test, y_test).iloc[0,0]+Confusion_Matrix(X_test, y_test).iloc[1,0])\n",
    "f1 = 2*(precision * recall)/(precision+recall)\n",
    "f1"
   ]
  },
  {
   "cell_type": "code",
   "execution_count": 44,
   "id": "4badc380",
   "metadata": {},
   "outputs": [],
   "source": [
    "def detection(tr):\n",
    "    '''\n",
    "    ----------------------------------\n",
    "    Input:\n",
    "    st: the input should be a wave stream with the same scale of the training data, which is three chanel of the wave,\n",
    "        in which channel there are 2000 data points\n",
    "    ----------------------------------\n",
    "    Output:\n",
    "    return: time detected time of p-wave arrival; and if there is no signal, print('No p-wave signal') and return None\n",
    "    '''\n",
    "    # input process part\n",
    "    tr = tr.filter(\"bandpass\", freqmin=1, freqmax=45)\n",
    "    tr = tr.resample(100)\n",
    "    tr = tr.detrend(\"demean\")\n",
    "    tr = tr.normalize()\n",
    "    \n",
    "    # stft\n",
    "    f, t, Zxx = signal.stft(tr, fs = 100, nperseg=25)\n",
    "    temp = np.zeros(shape = (1, 13, 248))\n",
    "    temp[0] = Zxx\n",
    "    ip = np.zeros(shape = (1,248,13,1))\n",
    "    ip[0] = np.abs(temp).T\n",
    "    \n",
    "    # input into model\n",
    "    model.load_weights('model_best.hdf5')\n",
    "    y_prob = model.predict(ip)\n",
    "    y = label(y_prob[0])\n",
    "    \n",
    "    # time output\n",
    "    if np.all(y == 0):\n",
    "        print(\"No p-wave signal\")\n",
    "        return None\n",
    "    else:\n",
    "        t = np.argwhere(y==1)[0][0] ## get the index of the first '1' appear in the prediction\n",
    "        lap = tr.stats.endtime - tr.stats.starttime\n",
    "        arrival_time = tr.stats.starttime + lap / 61 * (t-1)\n",
    "        print('p-wave arrivies at', arrival_time)\n",
    "        return arrival_time\n"
   ]
  },
  {
   "cell_type": "code",
   "execution_count": 45,
   "id": "58242b74",
   "metadata": {},
   "outputs": [
    {
     "name": "stdout",
     "output_type": "stream",
     "text": [
      "p-wave arrivies at 2017-12-01T07:55:26.258213Z\n"
     ]
    },
    {
     "data": {
      "text/plain": [
       "2017-12-01T07:55:26.258213Z"
      ]
     },
     "execution_count": 45,
     "metadata": {},
     "output_type": "execute_result"
    }
   ],
   "source": [
    "tr = slice_trace(trace1)\n",
    "detection(tr)"
   ]
  },
  {
   "cell_type": "code",
   "execution_count": 26,
   "id": "3d63d879",
   "metadata": {},
   "outputs": [],
   "source": [
    "y_pred = model.predict(X_test)"
   ]
  },
  {
   "cell_type": "code",
   "execution_count": 28,
   "id": "852cad8d",
   "metadata": {},
   "outputs": [
    {
     "data": {
      "text/plain": [
       "array([[[[  1.71004342e-02],\n",
       "         [  5.47011638e-02],\n",
       "         [  5.15462307e-02],\n",
       "         ..., \n",
       "         [  2.06167712e-04],\n",
       "         [  1.74718036e-04],\n",
       "         [  5.27311584e-05]],\n",
       "\n",
       "        [[  1.26342583e-01],\n",
       "         [  1.01091530e-01],\n",
       "         [  8.31314213e-03],\n",
       "         ..., \n",
       "         [  4.01888752e-05],\n",
       "         [  3.08781379e-05],\n",
       "         [  2.69052672e-05]],\n",
       "\n",
       "        [[  1.47124492e-01],\n",
       "         [  1.10373395e-01],\n",
       "         [  6.34945610e-02],\n",
       "         ..., \n",
       "         [  1.94033920e-05],\n",
       "         [  1.52828092e-05],\n",
       "         [  1.34849336e-05]],\n",
       "\n",
       "        ..., \n",
       "        [[  1.57243607e-01],\n",
       "         [  1.97701037e-01],\n",
       "         [  1.67338128e-01],\n",
       "         ..., \n",
       "         [  1.81020016e-05],\n",
       "         [  1.40531028e-05],\n",
       "         [  1.23111221e-05]],\n",
       "\n",
       "        [[  1.40728020e-01],\n",
       "         [  8.57942772e-02],\n",
       "         [  4.20794058e-03],\n",
       "         ..., \n",
       "         [  1.29641785e-03],\n",
       "         [  7.70236226e-04],\n",
       "         [  2.99476705e-04]],\n",
       "\n",
       "        [[  0.00000000e+00],\n",
       "         [  0.00000000e+00],\n",
       "         [  0.00000000e+00],\n",
       "         ..., \n",
       "         [  0.00000000e+00],\n",
       "         [  0.00000000e+00],\n",
       "         [  0.00000000e+00]]],\n",
       "\n",
       "\n",
       "       [[[  5.56453516e-03],\n",
       "         [  4.20004238e-02],\n",
       "         [  8.82741355e-02],\n",
       "         ..., \n",
       "         [  7.82593494e-03],\n",
       "         [  4.70478560e-03],\n",
       "         [  1.59146004e-03]],\n",
       "\n",
       "        [[  2.13089516e-01],\n",
       "         [  1.30992450e-01],\n",
       "         [  7.07901236e-03],\n",
       "         ..., \n",
       "         [  1.81516182e-05],\n",
       "         [  1.41214741e-05],\n",
       "         [  1.23844510e-05]],\n",
       "\n",
       "        [[  9.08799286e-02],\n",
       "         [  1.16443283e-01],\n",
       "         [  9.26135394e-02],\n",
       "         ..., \n",
       "         [  1.35561094e-05],\n",
       "         [  1.06773738e-05],\n",
       "         [  9.41730095e-06]],\n",
       "\n",
       "        ..., \n",
       "        [[  7.59737033e-03],\n",
       "         [  3.35446006e-03],\n",
       "         [  1.96350059e-02],\n",
       "         ..., \n",
       "         [  4.76858853e-05],\n",
       "         [  3.60692988e-05],\n",
       "         [  3.11751937e-05]],\n",
       "\n",
       "        [[  1.76431211e-01],\n",
       "         [  8.17730502e-02],\n",
       "         [  3.26150738e-03],\n",
       "         ..., \n",
       "         [  7.79763721e-03],\n",
       "         [  4.65804894e-03],\n",
       "         [  1.59680171e-03]],\n",
       "\n",
       "        [[  0.00000000e+00],\n",
       "         [  0.00000000e+00],\n",
       "         [  0.00000000e+00],\n",
       "         ..., \n",
       "         [  0.00000000e+00],\n",
       "         [  0.00000000e+00],\n",
       "         [  0.00000000e+00]]],\n",
       "\n",
       "\n",
       "       [[[  3.14876998e-02],\n",
       "         [  2.67399441e-02],\n",
       "         [  1.75747431e-02],\n",
       "         ..., \n",
       "         [  1.00021285e-03],\n",
       "         [  6.01534865e-04],\n",
       "         [  2.13940171e-04]],\n",
       "\n",
       "        [[  3.89381946e-03],\n",
       "         [  7.80130080e-03],\n",
       "         [  1.89622627e-04],\n",
       "         ..., \n",
       "         [  1.20489880e-05],\n",
       "         [  9.08161310e-06],\n",
       "         [  7.83510498e-06]],\n",
       "\n",
       "        [[  6.29663032e-04],\n",
       "         [  1.22854756e-02],\n",
       "         [  2.85442121e-02],\n",
       "         ..., \n",
       "         [  1.12723449e-05],\n",
       "         [  8.41070387e-06],\n",
       "         [  7.21601547e-06]],\n",
       "\n",
       "        ..., \n",
       "        [[  2.87119365e-01],\n",
       "         [  1.69307941e-01],\n",
       "         [  1.05209192e-02],\n",
       "         ..., \n",
       "         [  7.89257168e-06],\n",
       "         [  6.48414423e-06],\n",
       "         [  5.84022067e-06]],\n",
       "\n",
       "        [[  3.05251102e-02],\n",
       "         [  1.01848134e-02],\n",
       "         [  2.11741917e-02],\n",
       "         ..., \n",
       "         [  6.49200314e-04],\n",
       "         [  3.99798337e-04],\n",
       "         [  1.26324993e-04]],\n",
       "\n",
       "        [[  0.00000000e+00],\n",
       "         [  0.00000000e+00],\n",
       "         [  0.00000000e+00],\n",
       "         ..., \n",
       "         [  0.00000000e+00],\n",
       "         [  0.00000000e+00],\n",
       "         [  0.00000000e+00]]],\n",
       "\n",
       "\n",
       "       ..., \n",
       "       [[[  9.44404083e-03],\n",
       "         [  4.49048350e-03],\n",
       "         [  6.60652881e-05],\n",
       "         ..., \n",
       "         [  3.97095551e-04],\n",
       "         [  2.38616016e-04],\n",
       "         [  8.09422028e-05]],\n",
       "\n",
       "        [[  4.69186580e-03],\n",
       "         [  5.27284305e-05],\n",
       "         [  1.17620619e-03],\n",
       "         ..., \n",
       "         [  2.31831715e-06],\n",
       "         [  1.76017713e-06],\n",
       "         [  1.52422644e-06]],\n",
       "\n",
       "        [[  3.63280152e-02],\n",
       "         [  2.12269787e-02],\n",
       "         [  3.19066182e-04],\n",
       "         ..., \n",
       "         [  1.06727969e-06],\n",
       "         [  8.78322695e-07],\n",
       "         [  7.91780461e-07]],\n",
       "\n",
       "        ..., \n",
       "        [[  7.96478222e-03],\n",
       "         [  2.07931224e-03],\n",
       "         [  3.36801236e-03],\n",
       "         ..., \n",
       "         [  2.84572058e-06],\n",
       "         [  2.19816706e-06],\n",
       "         [  1.92074601e-06]],\n",
       "\n",
       "        [[  7.12249904e-05],\n",
       "         [  3.48395277e-03],\n",
       "         [  5.23670846e-03],\n",
       "         ..., \n",
       "         [  3.98934704e-04],\n",
       "         [  2.43747678e-04],\n",
       "         [  8.00194235e-05]],\n",
       "\n",
       "        [[  0.00000000e+00],\n",
       "         [  0.00000000e+00],\n",
       "         [  0.00000000e+00],\n",
       "         ..., \n",
       "         [  0.00000000e+00],\n",
       "         [  0.00000000e+00],\n",
       "         [  0.00000000e+00]]],\n",
       "\n",
       "\n",
       "       [[[  1.39027691e-01],\n",
       "         [  1.20185831e-01],\n",
       "         [  8.79080997e-02],\n",
       "         ..., \n",
       "         [  1.15300553e-02],\n",
       "         [  6.93719275e-03],\n",
       "         [  2.35628063e-03]],\n",
       "\n",
       "        [[  1.41343618e-01],\n",
       "         [  1.16415838e-01],\n",
       "         [  7.61016522e-02],\n",
       "         ..., \n",
       "         [  1.56386738e-05],\n",
       "         [  1.23898089e-05],\n",
       "         [  1.09586783e-05]],\n",
       "\n",
       "        [[  4.99537534e-01],\n",
       "         [  4.21481081e-01],\n",
       "         [  2.32593458e-01],\n",
       "         ..., \n",
       "         [  1.21609171e-05],\n",
       "         [  9.29974102e-06],\n",
       "         [  8.08486970e-06]],\n",
       "\n",
       "        ..., \n",
       "        [[  3.25542556e-02],\n",
       "         [  1.04438450e-02],\n",
       "         [  2.59925565e-02],\n",
       "         ..., \n",
       "         [  4.95551226e-06],\n",
       "         [  3.54815408e-06],\n",
       "         [  2.97408981e-06]],\n",
       "\n",
       "        [[  2.02905480e-01],\n",
       "         [  1.09216193e-01],\n",
       "         [  2.27450486e-02],\n",
       "         ..., \n",
       "         [  1.11312581e-02],\n",
       "         [  6.69775854e-03],\n",
       "         [  2.26106033e-03]],\n",
       "\n",
       "        [[  0.00000000e+00],\n",
       "         [  0.00000000e+00],\n",
       "         [  0.00000000e+00],\n",
       "         ..., \n",
       "         [  0.00000000e+00],\n",
       "         [  0.00000000e+00],\n",
       "         [  0.00000000e+00]]],\n",
       "\n",
       "\n",
       "       [[[  1.49650624e-02],\n",
       "         [  3.58892924e-03],\n",
       "         [  2.54312940e-03],\n",
       "         ..., \n",
       "         [  1.09931859e-03],\n",
       "         [  6.51443366e-04],\n",
       "         [  2.16519665e-04]],\n",
       "\n",
       "        [[  1.34618135e-01],\n",
       "         [  1.57965567e-01],\n",
       "         [  1.38994842e-01],\n",
       "         ..., \n",
       "         [  3.54434020e-05],\n",
       "         [  2.66035433e-05],\n",
       "         [  2.28998354e-05]],\n",
       "\n",
       "        [[  2.95763288e-01],\n",
       "         [  2.00667749e-01],\n",
       "         [  5.19867509e-02],\n",
       "         ..., \n",
       "         [  2.85412117e-05],\n",
       "         [  2.20188560e-05],\n",
       "         [  1.92278458e-05]],\n",
       "\n",
       "        ..., \n",
       "        [[  2.14866837e-01],\n",
       "         [  1.34187116e-01],\n",
       "         [  2.32969800e-02],\n",
       "         ..., \n",
       "         [  9.36207000e-06],\n",
       "         [  7.23476339e-06],\n",
       "         [  6.32630003e-06]],\n",
       "\n",
       "        [[  2.06284841e-01],\n",
       "         [  3.63683625e-02],\n",
       "         [  9.77249321e-02],\n",
       "         ..., \n",
       "         [  1.10043146e-03],\n",
       "         [  7.14883306e-04],\n",
       "         [  1.94797866e-04]],\n",
       "\n",
       "        [[  0.00000000e+00],\n",
       "         [  0.00000000e+00],\n",
       "         [  0.00000000e+00],\n",
       "         ..., \n",
       "         [  0.00000000e+00],\n",
       "         [  0.00000000e+00],\n",
       "         [  0.00000000e+00]]]])"
      ]
     },
     "execution_count": 28,
     "metadata": {},
     "output_type": "execute_result"
    }
   ],
   "source": [
    "X_test"
   ]
  },
  {
   "cell_type": "code",
   "execution_count": 27,
   "id": "3143ba16",
   "metadata": {},
   "outputs": [
    {
     "data": {
      "image/png": "[encoded data removed]",
      "text/plain": [
       "<Figure size 1080x288 with 1 Axes>"
      ]
     },
     "metadata": {
      "needs_background": "light"
     },
     "output_type": "display_data"
    }
   ],
   "source": [
    "fig, ax = plt.subplots(figsize=(15, 4))\n",
    "plt.plot(y_test[200].squeeze(), color='r', linewidth=2, label='True')\n",
    "plt.plot(y_pred[200].squeeze(),'--', color='b', linewidth=2, label='Predicted')\n",
    "plt.legend()\n",
    "plt.show()"
   ]
  }
 ],
 "metadata": {
  "kernelspec": {
   "display_name": "Python 3 (ipykernel)",
   "language": "python",
   "name": "python3"
  },
  "language_info": {
   "codemirror_mode": {
    "name": "ipython",
    "version": 3
   },
   "file_extension": ".py",
   "mimetype": "text/x-python",
   "name": "python",
   "nbconvert_exporter": "python",
   "pygments_lexer": "ipython3",
   "version": "3.8.12"
  }
 },
 "nbformat": 4,
 "nbformat_minor": 5
}
