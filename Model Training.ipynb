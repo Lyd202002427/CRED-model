{
 "cells": [
  {
   "cell_type": "code",
   "execution_count": 1,
   "id": "441344c6",
   "metadata": {},
   "outputs": [],
   "source": [
    "import numpy as np\n",
    "import obspy\n",
    "from obspy import read\n",
    "import pandas as pd\n",
    "import time\n",
    "import scipy\n",
    "import random\n",
    "\n",
    "from __future__ import print_function\n",
    "import keras\n",
    "from keras.layers import add, Reshape, Dense,Input, TimeDistributed, Dropout, Activation, LSTM, Conv2D, Bidirectional, BatchNormalization\n",
    "from keras.callbacks import ModelCheckpoint, LearningRateScheduler, EarlyStopping,ReduceLROnPlateau\n",
    "from keras.regularizers import l1\n",
    "from keras import backend as K\n",
    "from keras.models import Model, load_model\n",
    "import tensorflow as tf\n",
    "from sklearn.model_selection import train_test_split\n",
    "\n",
    "import matplotlib\n",
    "matplotlib.use('agg')\n",
    "import matplotlib.pyplot as plt\n",
    "%matplotlib inline\n",
    "from scipy import signal\n",
    "import os\n",
    "np.seterr(divide='ignore', invalid='ignore')\n",
    "import h5py\n",
    "#from obspy.signal.trigger import trigger_onset\n",
    "np.warnings.filterwarnings('ignore')"
   ]
  },
  {
   "cell_type": "markdown",
   "id": "4931ef16",
   "metadata": {},
   "source": [
    "### read data"
   ]
  },
  {
   "cell_type": "code",
   "execution_count": 4,
   "id": "97d79174",
   "metadata": {},
   "outputs": [],
   "source": [
    "noise_filename = pd.read_csv('noise.csv', header = None)\n",
    "noise_trace = []\n",
    "for i in noise_filename[0]:\n",
    "    temp = obspy.read(\"data/noise/\" + i)\n",
    "    te = [temp[0],temp[1],temp[2]]\n",
    "    noise_trace.extend(te)\n",
    "    \n",
    "signal_filename = pd.read_csv('signal.csv', header = None)\n",
    "signal_trace = []\n",
    "for i in signal_filename[0]:\n",
    "    temp = obspy.read(\"data/signal/\" + i)\n",
    "    te = [temp[0],temp[1],temp[2]]\n",
    "    signal_trace.extend(te)"
   ]
  },
  {
   "cell_type": "markdown",
   "id": "2d855590",
   "metadata": {},
   "source": [
    "### data slice"
   ]
  },
  {
   "cell_type": "code",
   "execution_count": 5,
   "id": "ddc3e1b7",
   "metadata": {},
   "outputs": [],
   "source": [
    "def slice_trace(tr):\n",
    "    start_time = tr.stats.starttime\n",
    "    end_time = tr.stats.endtime\n",
    "    gap = (end_time - start_time)/4\n",
    "    tr = tr.slice(start_time + gap, end_time - gap)\n",
    "    return tr\n",
    "\n",
    "\n",
    "def slice_sig(tr_type, list_type):\n",
    "    sampling_rate = 31.25\n",
    "    p_win = (.5, 3)\n",
    "    out_trace = []\n",
    "    out_y = np.zeros(shape = (len(tr_type), 62, 1))\n",
    "    for i in range(len(tr_type)):\n",
    "        cut = int((list_type[i]*p_win[1]+p_win[0])*sampling_rate)\n",
    "        tr = tr_type[i]\n",
    "        tr.data = tr.data[cut:1000+cut]\n",
    "        s = int(np.around(((1000-cut)/1000)*62, decimals=0))\n",
    "        y_truth = np.append(np.zeros(shape=(s,1)), np.ones(shape=(62-s,1)),axis=0)\n",
    "        out_trace.append(tr)\n",
    "        out_y[i] = y_truth\n",
    "    return out_trace, out_y"
   ]
  },
  {
   "cell_type": "code",
   "execution_count": 6,
   "id": "25bd66b7",
   "metadata": {},
   "outputs": [],
   "source": [
    "random.seed(0)\n",
    "list1=[]\n",
    "for i in range(len(signal_trace)):\n",
    "    k = random.random()\n",
    "    list1.append(k)"
   ]
  },
  {
   "cell_type": "code",
   "execution_count": 7,
   "id": "8a914ba2",
   "metadata": {},
   "outputs": [],
   "source": [
    "noise_trace = list(map(slice_trace, noise_trace))\n",
    "signal_trace, signal_y = slice_sig(signal_trace, list1)\n",
    "noise_y = np.zeros(shape = (len(noise_trace), 62, 1))"
   ]
  },
  {
   "cell_type": "markdown",
   "id": "598f196f",
   "metadata": {},
   "source": [
    "### data preprocess"
   ]
  },
  {
   "cell_type": "code",
   "execution_count": 8,
   "id": "366ca7c9",
   "metadata": {},
   "outputs": [],
   "source": [
    "def preprocess(tr):\n",
    "    #band-pass filter between 1 and 45 Hz\n",
    "    tr = [n.filter(\"bandpass\", freqmin=1, freqmax=45) for n in tr]\n",
    "    #resample at 100 HZ\n",
    "    tr = [n.resample(200) for n in tr]\n",
    "    #detrende all the traces by removing the mean\n",
    "    tr = [n.detrend(\"demean\") for n in tr]\n",
    "    #normalize\n",
    "    tr = [n.normalize() for n in tr]\n",
    "    return tr"
   ]
  },
  {
   "cell_type": "code",
   "execution_count": 9,
   "id": "3f95d79b",
   "metadata": {},
   "outputs": [],
   "source": [
    "# Preprocess\n",
    "noise_trace = preprocess(noise_trace)\n",
    "signal_trace = preprocess(signal_trace)"
   ]
  },
  {
   "cell_type": "markdown",
   "id": "a7dc5e7a",
   "metadata": {},
   "source": [
    "### STFT"
   ]
  },
  {
   "cell_type": "code",
   "execution_count": 10,
   "id": "0e8b8595",
   "metadata": {},
   "outputs": [
    {
     "name": "stdout",
     "output_type": "stream",
     "text": [
      "248\n"
     ]
    }
   ],
   "source": [
    "#change the nperseg from 40 to 52 and check the shape\n",
    "f, t, Zxx = signal.stft(signal_trace[0], fs = 100, nperseg=51)\n",
    "Zxx.shape\n",
    "print(len(t))"
   ]
  },
  {
   "cell_type": "code",
   "execution_count": 11,
   "id": "0e2183fa",
   "metadata": {},
   "outputs": [],
   "source": [
    "## accordingly change the shape here\n",
    "def STFT(tr):\n",
    "    tr_length = len(tr)\n",
    "    Zxx_tr = np.zeros(shape = (tr_length, 248, 26, 1))\n",
    "    for i in range(tr_length):\n",
    "        f, t, Zxx = signal.stft(tr[i], fs = 100, nperseg=51)\n",
    "        temp = np.zeros(shape = (1, 26, 248))\n",
    "        temp[0] = Zxx\n",
    "        Zxx_tr[i] = np.abs(temp).T\n",
    "    return Zxx_tr"
   ]
  },
  {
   "cell_type": "code",
   "execution_count": 12,
   "id": "48dfdd55",
   "metadata": {},
   "outputs": [],
   "source": [
    "Zxx_signal = STFT(signal_trace)\n",
    "Zxx_noise = STFT(noise_trace)"
   ]
  },
  {
   "cell_type": "code",
   "execution_count": 13,
   "id": "d5e01fea",
   "metadata": {},
   "outputs": [
    {
     "data": {
      "image/png": "[encoded data removed]",
      "text/plain": [
       "<Figure size 1080x288 with 1 Axes>"
      ]
     },
     "metadata": {
      "needs_background": "light"
     },
     "output_type": "display_data"
    }
   ],
   "source": [
    "fig, ax = plt.subplots(figsize=(15, 4))\n",
    "fs, ts, Zxxs = signal.stft(signal_trace[15], fs = 100, nperseg=48)\n",
    "plt.pcolormesh(ts, fs, np.abs(Zxxs), shading='flat',cmap = 'hot')\n",
    "plt.title('STFT Magnitude Signal')\n",
    "plt.ylabel('Frequency [Hz]')\n",
    "plt.xlabel('Time [sec]')\n",
    "plt.show()"
   ]
  },
  {
   "cell_type": "code",
   "execution_count": 14,
   "id": "16b38931",
   "metadata": {},
   "outputs": [
    {
     "data": {
      "image/png": "[encoded data removed]",
      "text/plain": [
       "<Figure size 1080x288 with 1 Axes>"
      ]
     },
     "metadata": {
      "needs_background": "light"
     },
     "output_type": "display_data"
    }
   ],
   "source": [
    "fig, ax = plt.subplots(figsize=(15, 4))\n",
    "fs, ts, Zxxs = signal.stft(noise_trace[15], fs = 100, nperseg=48)\n",
    "plt.pcolormesh(ts, fs, np.abs(Zxxs), shading='flat',cmap = 'hot')\n",
    "plt.title('STFT Magnitude Signal')\n",
    "plt.ylabel('Frequency [Hz]')\n",
    "plt.xlabel('Time [sec]')\n",
    "plt.show()"
   ]
  },
  {
   "cell_type": "code",
   "execution_count": 15,
   "id": "1df0dfcc",
   "metadata": {},
   "outputs": [
    {
     "name": "stdout",
     "output_type": "stream",
     "text": [
      "(57219, 62, 1)\n",
      "(57219, 248, 26, 1)\n"
     ]
    }
   ],
   "source": [
    "y = np.append(noise_y, signal_y, axis = 0)\n",
    "X_Zxx = np.append(Zxx_noise, Zxx_signal, axis = 0)\n",
    "print(y.shape)\n",
    "print(X_Zxx.shape)"
   ]
  },
  {
   "cell_type": "markdown",
   "id": "114b7f0b",
   "metadata": {},
   "source": [
    "### shuffle"
   ]
  },
  {
   "cell_type": "code",
   "execution_count": 20,
   "id": "5f4e9a51",
   "metadata": {},
   "outputs": [],
   "source": [
    "np.random.seed(15)\n",
    "X, X_test, y, y_test = train_test_split(X_Zxx, y, test_size=0.05, random_state=15,shuffle=True)"
   ]
  },
  {
   "cell_type": "markdown",
   "id": "b1c533af",
   "metadata": {},
   "source": [
    "### CRED Model Training"
   ]
  },
  {
   "cell_type": "code",
   "execution_count": 13,
   "id": "5d0d6a34",
   "metadata": {},
   "outputs": [],
   "source": [
    "def lr_schedule(epoch):\n",
    "    \"\"\"\n",
    "    Learning rate is scheduled to be reduced after 40, 60, 80, 90 epochs.\n",
    "    \"\"\"\n",
    "    lr = 1e-3\n",
    "    if epoch > 60:\n",
    "        lr *= 0.5e-3\n",
    "    elif epoch > 40:\n",
    "        lr *= 1e-3\n",
    "    elif epoch > 20:\n",
    "        lr *= 1e-2\n",
    "    elif epoch > 10:\n",
    "        lr *= 1e-1\n",
    "    print('Learning rate: ', lr)\n",
    "    return lr"
   ]
  },
  {
   "cell_type": "code",
   "execution_count": 14,
   "id": "bc511039",
   "metadata": {},
   "outputs": [],
   "source": [
    "def block_CNN(filters, ker, inpC): \n",
    "    \"\"\"\n",
    "    Returns CNN residual blocks\n",
    "    \"\"\"\n",
    "    layer_1 = BatchNormalization()(inpC) \n",
    "    act_1 = Activation('relu')(layer_1) \n",
    "\n",
    "    conv_1 = Conv2D(filters, (ker-2, ker-2), padding = 'same')(act_1) \n",
    "    \n",
    "    layer_2 = BatchNormalization()(conv_1) \n",
    "    act_2 = Activation('relu')(layer_2) \n",
    "  \n",
    "    conv_2 = Conv2D(filters, (ker-2, ker-2), padding = 'same')(act_2)\n",
    "    \n",
    "    layer_3 = BatchNormalization()(conv_2) \n",
    "    act_3 = Activation('relu')(layer_3)\n",
    "    \n",
    "    conv_3 = Conv2D(filters, (ker-2, ker-2), padding = 'same')(act_3)\n",
    "    \n",
    "    return(conv_3)"
   ]
  },
  {
   "cell_type": "code",
   "execution_count": 15,
   "id": "2316a6b0",
   "metadata": {},
   "outputs": [],
   "source": [
    "def block_BiLSTM(inpR, filters, rnn_depth):\n",
    "    \"\"\"\n",
    "    Returns LSTM residual blocks\n",
    "    \"\"\"\n",
    "    x = inpR\n",
    "    for i in range(rnn_depth):\n",
    "        x_rnn = Bidirectional(LSTM(filters, return_sequences=True))(x)\n",
    "        x_rnn = Dropout(0.7)(x_rnn)\n",
    "        if i > 0 :\n",
    "            x = add([x, x_rnn])\n",
    "        else:\n",
    "            x = x_rnn      \n",
    "    return x"
   ]
  },
  {
   "cell_type": "code",
   "execution_count": 16,
   "id": "29fc34a4",
   "metadata": {},
   "outputs": [],
   "source": [
    "def model_cred(shape, filters):\n",
    "    \n",
    "    inp = Input(shape=shape, name='input')\n",
    "\n",
    "    conv2D_2 = Conv2D(filters[0], (9,9), strides = (2,2), padding = 'same', activation = 'relu')(inp) \n",
    "    res_conv_2 = keras.layers.add([block_CNN(filters[0], 9, conv2D_2), conv2D_2]) \n",
    "\n",
    "    conv2D_3 = Conv2D(filters[1], (5,5), strides = (2,2), padding = 'same', activation = 'relu')(res_conv_2) \n",
    "    res_conv_3 = keras.layers.add([block_CNN(filters[1], 5, conv2D_3),conv2D_3]) \n",
    "    \n",
    "    shape = K.int_shape(res_conv_3)   \n",
    "    reshaped = Reshape((shape[1], shape[2]*shape[3]))(res_conv_3)\n",
    "    \n",
    "    res_BIlstm = block_BiLSTM(reshaped, filters = filters[3], rnn_depth = 2)\n",
    " \n",
    "    UNIlstm = LSTM(filters[3], return_sequences=True)(res_BIlstm)\n",
    "    UNIlstm = Dropout(0.8)(UNIlstm)  \n",
    "    UNIlstm = BatchNormalization()(UNIlstm)\n",
    "   \n",
    "    dense_2 = TimeDistributed(Dense(filters[3], kernel_regularizer=l1(0.01), activation='relu'))(UNIlstm)\n",
    "    dense_2 = BatchNormalization()(dense_2)\n",
    "    dense_2 = Dropout(0.8)(dense_2)\n",
    "    \n",
    "    dense_3 = TimeDistributed(Dense(1, kernel_regularizer=l1(0.01), activation='sigmoid'))(dense_2)\n",
    "\n",
    "    out_model = Model(inputs=inp, outputs=dense_3)\n",
    "    return out_model"
   ]
  },
  {
   "cell_type": "code",
   "execution_count": 17,
   "id": "446c50ff",
   "metadata": {},
   "outputs": [],
   "source": [
    "early_stopping_monitor = EarlyStopping(patience=5)\n",
    "    \n",
    "lr_scheduler = LearningRateScheduler(lr_schedule)\n",
    "    \n",
    "lr_reducer = ReduceLROnPlateau(factor=np.sqrt(0.1),\n",
    "                                   cooldown=0,\n",
    "                                   patience=5-2,\n",
    "                                   min_lr=5e-5)"
   ]
  },
  {
   "cell_type": "code",
   "execution_count": 18,
   "id": "3735e0c1",
   "metadata": {},
   "outputs": [
    {
     "name": "stdout",
     "output_type": "stream",
     "text": [
      "Metal device set to: Apple M1\n"
     ]
    },
    {
     "name": "stderr",
     "output_type": "stream",
     "text": [
      "2022-03-13 15:34:39.333155: I tensorflow/core/common_runtime/pluggable_device/pluggable_device_factory.cc:305] Could not identify NUMA node of platform GPU ID 0, defaulting to 0. Your kernel may not have been built with NUMA support.\n",
      "2022-03-13 15:34:39.335041: I tensorflow/core/common_runtime/pluggable_device/pluggable_device_factory.cc:271] Created TensorFlow device (/job:localhost/replica:0/task:0/device:GPU:0 with 0 MB memory) -> physical PluggableDevice (device: 0, name: METAL, pci bus id: <undefined>)\n"
     ]
    },
    {
     "name": "stdout",
     "output_type": "stream",
     "text": [
      "Learning rate:  0.001\n",
      "Model: \"model\"\n",
      "__________________________________________________________________________________________________\n",
      " Layer (type)                   Output Shape         Param #     Connected to                     \n",
      "==================================================================================================\n",
      " input (InputLayer)             [(None, 248, 26, 1)  0           []                               \n",
      "                                ]                                                                 \n",
      "                                                                                                  \n",
      " conv2d (Conv2D)                (None, 124, 13, 8)   656         ['input[0][0]']                  \n",
      "                                                                                                  \n",
      " batch_normalization (BatchNorm  (None, 124, 13, 8)  32          ['conv2d[0][0]']                 \n",
      " alization)                                                                                       \n",
      "                                                                                                  \n",
      " activation (Activation)        (None, 124, 13, 8)   0           ['batch_normalization[0][0]']    \n",
      "                                                                                                  \n",
      " conv2d_1 (Conv2D)              (None, 124, 13, 8)   3144        ['activation[0][0]']             \n",
      "                                                                                                  \n",
      " batch_normalization_1 (BatchNo  (None, 124, 13, 8)  32          ['conv2d_1[0][0]']               \n",
      " rmalization)                                                                                     \n",
      "                                                                                                  \n",
      " activation_1 (Activation)      (None, 124, 13, 8)   0           ['batch_normalization_1[0][0]']  \n",
      "                                                                                                  \n",
      " conv2d_2 (Conv2D)              (None, 124, 13, 8)   3144        ['activation_1[0][0]']           \n",
      "                                                                                                  \n",
      " batch_normalization_2 (BatchNo  (None, 124, 13, 8)  32          ['conv2d_2[0][0]']               \n",
      " rmalization)                                                                                     \n",
      "                                                                                                  \n",
      " activation_2 (Activation)      (None, 124, 13, 8)   0           ['batch_normalization_2[0][0]']  \n",
      "                                                                                                  \n",
      " conv2d_3 (Conv2D)              (None, 124, 13, 8)   3144        ['activation_2[0][0]']           \n",
      "                                                                                                  \n",
      " add (Add)                      (None, 124, 13, 8)   0           ['conv2d_3[0][0]',               \n",
      "                                                                  'conv2d[0][0]']                 \n",
      "                                                                                                  \n",
      " conv2d_4 (Conv2D)              (None, 62, 7, 16)    3216        ['add[0][0]']                    \n",
      "                                                                                                  \n",
      " batch_normalization_3 (BatchNo  (None, 62, 7, 16)   64          ['conv2d_4[0][0]']               \n",
      " rmalization)                                                                                     \n",
      "                                                                                                  \n",
      " activation_3 (Activation)      (None, 62, 7, 16)    0           ['batch_normalization_3[0][0]']  \n",
      "                                                                                                  \n",
      " conv2d_5 (Conv2D)              (None, 62, 7, 16)    2320        ['activation_3[0][0]']           \n",
      "                                                                                                  \n",
      " batch_normalization_4 (BatchNo  (None, 62, 7, 16)   64          ['conv2d_5[0][0]']               \n",
      " rmalization)                                                                                     \n",
      "                                                                                                  \n",
      " activation_4 (Activation)      (None, 62, 7, 16)    0           ['batch_normalization_4[0][0]']  \n",
      "                                                                                                  \n",
      " conv2d_6 (Conv2D)              (None, 62, 7, 16)    2320        ['activation_4[0][0]']           \n",
      "                                                                                                  \n",
      " batch_normalization_5 (BatchNo  (None, 62, 7, 16)   64          ['conv2d_6[0][0]']               \n",
      " rmalization)                                                                                     \n",
      "                                                                                                  \n",
      " activation_5 (Activation)      (None, 62, 7, 16)    0           ['batch_normalization_5[0][0]']  \n",
      "                                                                                                  \n",
      " conv2d_7 (Conv2D)              (None, 62, 7, 16)    2320        ['activation_5[0][0]']           \n",
      "                                                                                                  \n",
      " add_1 (Add)                    (None, 62, 7, 16)    0           ['conv2d_7[0][0]',               \n",
      "                                                                  'conv2d_4[0][0]']               \n",
      "                                                                                                  \n",
      " reshape (Reshape)              (None, 62, 112)      0           ['add_1[0][0]']                  \n",
      "                                                                                                  \n",
      " bidirectional (Bidirectional)  (None, 62, 128)      90624       ['reshape[0][0]']                \n",
      "                                                                                                  \n",
      " dropout (Dropout)              (None, 62, 128)      0           ['bidirectional[0][0]']          \n",
      "                                                                                                  \n",
      " bidirectional_1 (Bidirectional  (None, 62, 128)     98816       ['dropout[0][0]']                \n",
      " )                                                                                                \n",
      "                                                                                                  \n",
      " dropout_1 (Dropout)            (None, 62, 128)      0           ['bidirectional_1[0][0]']        \n",
      "                                                                                                  \n",
      " add_2 (Add)                    (None, 62, 128)      0           ['dropout[0][0]',                \n",
      "                                                                  'dropout_1[0][0]']              \n",
      "                                                                                                  \n",
      " lstm_2 (LSTM)                  (None, 62, 64)       49408       ['add_2[0][0]']                  \n",
      "                                                                                                  \n",
      " dropout_2 (Dropout)            (None, 62, 64)       0           ['lstm_2[0][0]']                 \n",
      "                                                                                                  \n",
      " batch_normalization_6 (BatchNo  (None, 62, 64)      256         ['dropout_2[0][0]']              \n",
      " rmalization)                                                                                     \n",
      "                                                                                                  \n",
      " time_distributed (TimeDistribu  (None, 62, 64)      4160        ['batch_normalization_6[0][0]']  \n",
      " ted)                                                                                             \n",
      "                                                                                                  \n",
      " batch_normalization_7 (BatchNo  (None, 62, 64)      256         ['time_distributed[0][0]']       \n"
     ]
    },
    {
     "name": "stdout",
     "output_type": "stream",
     "text": [
      " rmalization)                                                                                     \n",
      "                                                                                                  \n",
      " dropout_3 (Dropout)            (None, 62, 64)       0           ['batch_normalization_7[0][0]']  \n",
      "                                                                                                  \n",
      " time_distributed_1 (TimeDistri  (None, 62, 1)       65          ['dropout_3[0][0]']              \n",
      " buted)                                                                                           \n",
      "                                                                                                  \n",
      "==================================================================================================\n",
      "Total params: 264,137\n",
      "Trainable params: 263,737\n",
      "Non-trainable params: 400\n",
      "__________________________________________________________________________________________________\n"
     ]
    }
   ],
   "source": [
    "model = model_cred((248, 26, 1), filters = [8, 16, 32, 64, 128, 256])\n",
    "model.compile(loss='binary_crossentropy',\n",
    "                  optimizer=tf.optimizers.Adam(lr=lr_schedule(0)),\n",
    "                  metrics=['binary_accuracy'])\n",
    "model.summary()"
   ]
  },
  {
   "cell_type": "code",
   "execution_count": 19,
   "id": "e5b1987b",
   "metadata": {},
   "outputs": [],
   "source": [
    "seed_value = 15\n",
    "tf.random.set_seed(seed_value)"
   ]
  },
  {
   "cell_type": "code",
   "execution_count": 20,
   "id": "f139abd3",
   "metadata": {},
   "outputs": [
    {
     "name": "stderr",
     "output_type": "stream",
     "text": [
      "2022-03-13 15:35:04.054121: W tensorflow/core/platform/profile_utils/cpu_utils.cc:128] Failed to get CPU frequency: 0 Hz\n"
     ]
    },
    {
     "name": "stdout",
     "output_type": "stream",
     "text": [
      "Learning rate:  0.001\n"
     ]
    },
    {
     "name": "stderr",
     "output_type": "stream",
     "text": [
      "2022-03-13 15:35:08.412834: I tensorflow/core/grappler/optimizers/custom_graph_optimizer_registry.cc:113] Plugin optimizer for device_type GPU is enabled.\n",
      "2022-03-13 15:35:09.678257: I tensorflow/core/grappler/optimizers/custom_graph_optimizer_registry.cc:113] Plugin optimizer for device_type GPU is enabled.\n",
      "2022-03-13 15:35:09.701333: I tensorflow/core/grappler/optimizers/custom_graph_optimizer_registry.cc:113] Plugin optimizer for device_type GPU is enabled.\n",
      "2022-03-13 15:35:10.036847: I tensorflow/core/grappler/optimizers/custom_graph_optimizer_registry.cc:113] Plugin optimizer for device_type GPU is enabled.\n",
      "2022-03-13 15:35:10.050598: I tensorflow/core/grappler/optimizers/custom_graph_optimizer_registry.cc:113] Plugin optimizer for device_type GPU is enabled.\n",
      "2022-03-13 15:35:10.307307: I tensorflow/core/grappler/optimizers/custom_graph_optimizer_registry.cc:113] Plugin optimizer for device_type GPU is enabled.\n",
      "2022-03-13 15:35:10.704234: I tensorflow/core/grappler/optimizers/custom_graph_optimizer_registry.cc:113] Plugin optimizer for device_type GPU is enabled.\n",
      "2022-03-13 15:35:11.026834: I tensorflow/core/grappler/optimizers/custom_graph_optimizer_registry.cc:113] Plugin optimizer for device_type GPU is enabled.\n",
      "2022-03-13 15:35:11.202561: I tensorflow/core/grappler/optimizers/custom_graph_optimizer_registry.cc:113] Plugin optimizer for device_type GPU is enabled.\n",
      "2022-03-13 15:35:11.382873: I tensorflow/core/grappler/optimizers/custom_graph_optimizer_registry.cc:113] Plugin optimizer for device_type GPU is enabled.\n",
      "2022-03-13 15:35:11.403365: I tensorflow/core/grappler/optimizers/custom_graph_optimizer_registry.cc:113] Plugin optimizer for device_type GPU is enabled.\n",
      "2022-03-13 15:35:53.952781: I tensorflow/core/grappler/optimizers/custom_graph_optimizer_registry.cc:113] Plugin optimizer for device_type GPU is enabled.\n",
      "2022-03-13 15:35:54.378339: I tensorflow/core/grappler/optimizers/custom_graph_optimizer_registry.cc:113] Plugin optimizer for device_type GPU is enabled.\n",
      "2022-03-13 15:35:54.655655: I tensorflow/core/grappler/optimizers/custom_graph_optimizer_registry.cc:113] Plugin optimizer for device_type GPU is enabled.\n",
      "2022-03-13 15:35:55.005430: I tensorflow/core/grappler/optimizers/custom_graph_optimizer_registry.cc:113] Plugin optimizer for device_type GPU is enabled.\n",
      "2022-03-13 15:35:55.016997: I tensorflow/core/grappler/optimizers/custom_graph_optimizer_registry.cc:113] Plugin optimizer for device_type GPU is enabled.\n",
      "2022-03-13 15:35:55.181272: I tensorflow/core/grappler/optimizers/custom_graph_optimizer_registry.cc:113] Plugin optimizer for device_type GPU is enabled.\n"
     ]
    },
    {
     "name": "stdout",
     "output_type": "stream",
     "text": [
      "Learning rate:  0.001\n",
      "Learning rate:  0.001\n",
      "Learning rate:  0.001\n",
      "Learning rate:  0.001\n",
      "Learning rate:  0.001\n",
      "Learning rate:  0.001\n",
      "Learning rate:  0.001\n",
      "Learning rate:  0.001\n",
      "Learning rate:  0.001\n",
      "Learning rate:  0.001\n",
      "Learning rate:  0.0001\n",
      "Learning rate:  0.0001\n",
      "Learning rate:  0.0001\n",
      "Learning rate:  0.0001\n",
      "Learning rate:  0.0001\n",
      "Learning rate:  0.0001\n",
      "Learning rate:  0.0001\n",
      "Learning rate:  0.0001\n",
      "Learning rate:  0.0001\n",
      "Learning rate:  0.0001\n",
      "Learning rate:  1e-05\n",
      "Learning rate:  1e-05\n",
      "Learning rate:  1e-05\n"
     ]
    }
   ],
   "source": [
    "checkpointer = ModelCheckpoint(filepath='model_best_07.hdf5',\n",
    "                                       monitor='val_loss', verbose=0, mode='auto', save_best_only=True)\n",
    "start_time = time.time()  \n",
    "history = model.fit(\n",
    "    X,\n",
    "    y,\n",
    "    epochs=200,\n",
    "    batch_size=500,\n",
    "    verbose=0,\n",
    "    validation_split = 0.2,\n",
    "    max_queue_size=5,\n",
    "    callbacks = [checkpointer, lr_reducer, lr_scheduler, early_stopping_monitor] )\n",
    "end_time = time.time()"
   ]
  },
  {
   "cell_type": "code",
   "execution_count": 21,
   "id": "b2a48bdc",
   "metadata": {},
   "outputs": [],
   "source": [
    "model.save(\"final_model_07.h5\")"
   ]
  },
  {
   "cell_type": "code",
   "execution_count": 22,
   "id": "7ff821fb",
   "metadata": {},
   "outputs": [
    {
     "data": {
      "image/png": "[encoded data removed]",
      "text/plain": [
       "<Figure size 1080x288 with 2 Axes>"
      ]
     },
     "metadata": {
      "needs_background": "light"
     },
     "output_type": "display_data"
    }
   ],
   "source": [
    "fig, axes = plt.subplots(ncols=2, nrows=1, figsize=(15, 4))\n",
    "\n",
    "axes[0].plot(history.history['loss'],label='Training loss')\n",
    "axes[0].plot(history.history['val_loss'],label='Validation loss')\n",
    "axes[0].set_ylabel('binary_crossentropy', fontsize=10)\n",
    "axes[0].set_xlabel('Epochs', fontsize=10)\n",
    "axes[0].legend()\n",
    "axes[0].grid()\n",
    "\n",
    "axes[1].plot(history.history['binary_accuracy'],label='Training accuracy')\n",
    "axes[1].plot(history.history['val_binary_accuracy'],label='Validation accuracy')\n",
    "axes[1].set_ylabel('binary_crossentropy', fontsize=10)\n",
    "axes[1].set_xlabel('Epochs', fontsize=10)\n",
    "axes[1].legend()\n",
    "axes[1].grid()"
   ]
  },
  {
   "cell_type": "markdown",
   "id": "eac67175",
   "metadata": {},
   "source": [
    "### detection"
   ]
  },
  {
   "cell_type": "code",
   "execution_count": 26,
   "id": "03880bb6",
   "metadata": {},
   "outputs": [],
   "source": [
    "def label(prob):\n",
    "    prediction = np.zeros(shape = prob.shape)\n",
    "    for i in range(len(prob)):\n",
    "        if prob[i] > 0.67:\n",
    "            prediction[i] = 1\n",
    "    return prediction"
   ]
  },
  {
   "cell_type": "code",
   "execution_count": 27,
   "id": "3fc0e31c",
   "metadata": {},
   "outputs": [],
   "source": [
    "def detection(tr):\n",
    "    '''\n",
    "    ----------------------------------\n",
    "    Input:\n",
    "    st: the input should be a wave stream with the same scale of the training data, which is three chanel of the wave,\n",
    "        in which channel there are 1000 data points\n",
    "    ----------------------------------\n",
    "    Output:\n",
    "    return: time detected time of p-wave arrival; and if there is no signal, print('No p-wave signal') and return None\n",
    "    '''\n",
    "    tr = tr.filter(\"bandpass\", freqmin=1, freqmax=45)\n",
    "    tr = tr.resample(200)\n",
    "    tr = tr.detrend(\"demean\")\n",
    "    tr = tr.normalize()\n",
    " \n",
    "    # stft\n",
    "    f, t, Zxx = signal.stft(tr, fs = 100, nperseg=51)\n",
    "    temp = np.zeros(shape = (1, 26, 248))\n",
    "    temp[0] = Zxx\n",
    "    ip = np.zeros(shape = (1,248,26,1))\n",
    "    ip[0] = np.abs(temp).T\n",
    "    \n",
    "    # input into model\n",
    "    y_prob = model.predict(ip)\n",
    "    y = label(y_prob[0])\n",
    "    \n",
    "    # time output\n",
    "    if np.all(y == 0):\n",
    "        print(\"No p-wave signal\")\n",
    "        return None\n",
    "    else:\n",
    "        t = np.argwhere(y==1)[0][0] ## get the index of the first '1' appear in the prediction\n",
    "        lap = tr.stats.endtime - tr.stats.starttime\n",
    "        arrival_time = tr.stats.starttime + lap / 62 * t\n",
    "        print('p-wave arrivies at', arrival_time)\n",
    "        return arrival_time"
   ]
  },
  {
   "cell_type": "code",
   "execution_count": 31,
   "id": "49235515",
   "metadata": {},
   "outputs": [],
   "source": [
    "model = load_model(\"final_model_51_3CNN_200_06.h5\")\n",
    "model.load_weights(\"model_best_51_3CNN_200_06.hdf5\")"
   ]
  },
  {
   "cell_type": "code",
   "execution_count": 32,
   "id": "64b3226a",
   "metadata": {},
   "outputs": [],
   "source": [
    "y_pred = model.predict(X_test)"
   ]
  },
  {
   "cell_type": "code",
   "execution_count": 33,
   "id": "b22bea1b",
   "metadata": {},
   "outputs": [
    {
     "data": {
      "image/png": "[encoded data removed]",
      "text/plain": [
       "<Figure size 1080x288 with 1 Axes>"
      ]
     },
     "metadata": {
      "needs_background": "light"
     },
     "output_type": "display_data"
    }
   ],
   "source": [
    "fig, ax = plt.subplots(figsize=(15, 4))\n",
    "plt.plot(y_test[171].squeeze(), color='r', linewidth=2, label='True')\n",
    "plt.plot(y_pred[171].squeeze(),'--', color='b', linewidth=2, label='Predicted')\n",
    "plt.legend()\n",
    "plt.show()"
   ]
  },
  {
   "cell_type": "code",
   "execution_count": null,
   "id": "22892356",
   "metadata": {},
   "outputs": [],
   "source": []
  }
 ],
 "metadata": {
  "kernelspec": {
   "display_name": "Python 3 (ipykernel)",
   "language": "python",
   "name": "python3"
  },
  "language_info": {
   "codemirror_mode": {
    "name": "ipython",
    "version": 3
   },
   "file_extension": ".py",
   "mimetype": "text/x-python",
   "name": "python",
   "nbconvert_exporter": "python",
   "pygments_lexer": "ipython3",
   "version": "3.9.7"
  }
 },
 "nbformat": 4,
 "nbformat_minor": 5
}
