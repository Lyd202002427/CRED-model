{
 "cells": [
  {
   "cell_type": "code",
   "execution_count": 505,
   "id": "3e97f40d",
   "metadata": {},
   "outputs": [],
   "source": [
    "import numpy as np\n",
    "import obspy\n",
    "import scipy\n",
    "from obspy import read\n",
    "import matplotlib.pyplot as plt \n",
    "import time\n",
    "\n",
    "from __future__ import print_function\n",
    "import keras\n",
    "import tensorflow as tf\n",
    "from keras.layers import add, Reshape, Dense,Input, TimeDistributed, Dropout, Activation, LSTM, Conv2D, Bidirectional, BatchNormalization \n",
    "from keras.callbacks import ModelCheckpoint, LearningRateScheduler, EarlyStopping,ReduceLROnPlateau\n",
    "from keras.regularizers import l1\n",
    "from keras import backend as K\n",
    "from keras.models import Model\n",
    "from sklearn.model_selection import train_test_split\n",
    "import matplotlib\n",
    "matplotlib.use('agg')\n",
    "import matplotlib.pyplot as plt\n",
    "import numpy as np\n",
    "from scipy import signal\n",
    "import os\n",
    "np.seterr(divide='ignore', invalid='ignore')\n",
    "import h5py\n",
    "from obspy.signal.trigger import trigger_onset\n",
    "np.warnings.filterwarnings('ignore')"
   ]
  },
  {
   "cell_type": "markdown",
   "id": "b9723539",
   "metadata": {},
   "source": [
    "## Grillo Data"
   ]
  },
  {
   "cell_type": "code",
   "execution_count": 448,
   "id": "b65e9155",
   "metadata": {
    "scrolled": true
   },
   "outputs": [
    {
     "name": "stdout",
     "output_type": "stream",
     "text": [
      "3\n"
     ]
    }
   ],
   "source": [
    "s1 = read(\"/Users/borongwang/Desktop/LSE/PC/lse_challenge/data/signal/1512114894_015_P.mseed\")\n",
    "print(len(s1))"
   ]
  },
  {
   "cell_type": "code",
   "execution_count": 449,
   "id": "91edb110",
   "metadata": {},
   "outputs": [
    {
     "data": {
      "text/plain": [
       "3 Trace(s) in Stream:\n",
       ".015..BHX | 2017-12-01T07:54:54.001000Z - 2017-12-01T07:55:57.969000Z | 31.2 Hz, 2000 samples\n",
       ".015..BHY | 2017-12-01T07:54:54.001000Z - 2017-12-01T07:55:57.969000Z | 31.2 Hz, 2000 samples\n",
       ".015..BHZ | 2017-12-01T07:54:54.001000Z - 2017-12-01T07:55:57.969000Z | 31.2 Hz, 2000 samples"
      ]
     },
     "execution_count": 449,
     "metadata": {},
     "output_type": "execute_result"
    }
   ],
   "source": [
    "s1"
   ]
  },
  {
   "cell_type": "code",
   "execution_count": 450,
   "id": "811e9e36",
   "metadata": {},
   "outputs": [],
   "source": [
    "s1.plot(outfile=\"signal1.png\")"
   ]
  },
  {
   "cell_type": "code",
   "execution_count": 451,
   "id": "02fdb43b",
   "metadata": {},
   "outputs": [
    {
     "name": "stdout",
     "output_type": "stream",
     "text": [
      "<class 'numpy.ndarray'>\n",
      "[ 0.          0.01803802 -0.04592396 ...,  0.02292396  0.01096198\n",
      "  0.        ]\n"
     ]
    }
   ],
   "source": [
    "tr_s1 = s1[1]\n",
    "trace_data = tr_s1.data\n",
    "print(type(trace_data))\n",
    "print(trace_data)"
   ]
  },
  {
   "cell_type": "code",
   "execution_count": 452,
   "id": "7af8cb1c",
   "metadata": {},
   "outputs": [
    {
     "data": {
      "text/plain": [
       "2000"
      ]
     },
     "execution_count": 452,
     "metadata": {},
     "output_type": "execute_result"
    }
   ],
   "source": [
    "len(trace_data)"
   ]
  },
  {
   "cell_type": "markdown",
   "id": "574555de",
   "metadata": {},
   "source": [
    "### Detrend"
   ]
  },
  {
   "cell_type": "code",
   "execution_count": 453,
   "id": "4ab729bd",
   "metadata": {},
   "outputs": [],
   "source": [
    "s = s1.detrend(\"demean\")"
   ]
  },
  {
   "cell_type": "code",
   "execution_count": 454,
   "id": "4ed1acb5",
   "metadata": {},
   "outputs": [
    {
     "data": {
      "text/plain": [
       "array([ 0.00228925,  0.02032727, -0.04363471, ...,  0.02521321,\n",
       "        0.01325123,  0.00228925])"
      ]
     },
     "execution_count": 454,
     "metadata": {},
     "output_type": "execute_result"
    }
   ],
   "source": [
    "s[1].data"
   ]
  },
  {
   "cell_type": "code",
   "execution_count": 455,
   "id": "14ef093e",
   "metadata": {},
   "outputs": [
    {
     "data": {
      "text/plain": [
       "2000"
      ]
     },
     "execution_count": 455,
     "metadata": {},
     "output_type": "execute_result"
    }
   ],
   "source": [
    "len(s[1].data)"
   ]
  },
  {
   "cell_type": "markdown",
   "id": "d88ac042",
   "metadata": {},
   "source": [
    "### Bandpass filter between 1 and 45Hz"
   ]
  },
  {
   "cell_type": "code",
   "execution_count": 456,
   "id": "f566a079",
   "metadata": {},
   "outputs": [],
   "source": [
    "s = s.filter(\"bandpass\", freqmin=1, freqmax=45)"
   ]
  },
  {
   "cell_type": "code",
   "execution_count": 457,
   "id": "7c58483e",
   "metadata": {},
   "outputs": [
    {
     "data": {
      "text/plain": [
       "array([ 0.00175945,  0.0146993 , -0.0424117 , ...,  0.00657167,\n",
       "       -0.00272553, -0.0068781 ])"
      ]
     },
     "execution_count": 457,
     "metadata": {},
     "output_type": "execute_result"
    }
   ],
   "source": [
    "s[1].data"
   ]
  },
  {
   "cell_type": "code",
   "execution_count": 458,
   "id": "b3eebd46",
   "metadata": {},
   "outputs": [
    {
     "data": {
      "text/plain": [
       "2000"
      ]
     },
     "execution_count": 458,
     "metadata": {},
     "output_type": "execute_result"
    }
   ],
   "source": [
    "len(s[1].data)"
   ]
  },
  {
   "cell_type": "markdown",
   "id": "b3b0c459",
   "metadata": {},
   "source": [
    "### Resampled at 100 HZ"
   ]
  },
  {
   "cell_type": "code",
   "execution_count": 459,
   "id": "4ef0086c",
   "metadata": {},
   "outputs": [],
   "source": [
    "s = s.resample(100)"
   ]
  },
  {
   "cell_type": "code",
   "execution_count": 460,
   "id": "c60b75b8",
   "metadata": {},
   "outputs": [
    {
     "data": {
      "text/plain": [
       "array([ 0.00283503,  0.0039782 ,  0.00282766, ..., -0.003435  ,\n",
       "       -0.00170013,  0.00060302])"
      ]
     },
     "execution_count": 460,
     "metadata": {},
     "output_type": "execute_result"
    }
   ],
   "source": [
    "s[1].data"
   ]
  },
  {
   "cell_type": "code",
   "execution_count": 461,
   "id": "9018d2d8",
   "metadata": {},
   "outputs": [
    {
     "data": {
      "text/plain": [
       "6400"
      ]
     },
     "execution_count": 461,
     "metadata": {},
     "output_type": "execute_result"
    }
   ],
   "source": [
    "len(s[1].data)"
   ]
  },
  {
   "cell_type": "markdown",
   "id": "c45c644b",
   "metadata": {},
   "source": [
    "### Normalize"
   ]
  },
  {
   "cell_type": "code",
   "execution_count": 462,
   "id": "7b15d7ab",
   "metadata": {},
   "outputs": [],
   "source": [
    "s = s.normalize()"
   ]
  },
  {
   "cell_type": "code",
   "execution_count": 463,
   "id": "2f93c481",
   "metadata": {},
   "outputs": [
    {
     "data": {
      "text/plain": [
       "array([ 0.00117299,  0.00164597,  0.00116994, ..., -0.00142122,\n",
       "       -0.00070343,  0.0002495 ])"
      ]
     },
     "execution_count": 463,
     "metadata": {},
     "output_type": "execute_result"
    }
   ],
   "source": [
    "s[1].data"
   ]
  },
  {
   "cell_type": "code",
   "execution_count": 464,
   "id": "11da6219",
   "metadata": {},
   "outputs": [
    {
     "data": {
      "text/plain": [
       "6400"
      ]
     },
     "execution_count": 464,
     "metadata": {},
     "output_type": "execute_result"
    }
   ],
   "source": [
    "len(s[1].data)"
   ]
  },
  {
   "cell_type": "code",
   "execution_count": 465,
   "id": "ed3908f1",
   "metadata": {},
   "outputs": [],
   "source": [
    "s.plot(outfile=\"tf.png\")"
   ]
  },
  {
   "cell_type": "markdown",
   "id": "64a11c4f",
   "metadata": {},
   "source": [
    "### STFT"
   ]
  },
  {
   "cell_type": "code",
   "execution_count": 473,
   "id": "73ace848",
   "metadata": {},
   "outputs": [],
   "source": [
    "from scipy import signal"
   ]
  },
  {
   "cell_type": "code",
   "execution_count": 474,
   "id": "03486d06",
   "metadata": {},
   "outputs": [
    {
     "name": "stdout",
     "output_type": "stream",
     "text": [
      "(3, 41, 161)\n"
     ]
    }
   ],
   "source": [
    "f, t, Zxx = signal.stft(s, fs=100,nperseg=80)\n",
    "print(Zxx.shape)"
   ]
  },
  {
   "cell_type": "code",
   "execution_count": 475,
   "id": "7d378d33",
   "metadata": {},
   "outputs": [
    {
     "data": {
      "text/plain": [
       "(3, 41, 161)"
      ]
     },
     "execution_count": 475,
     "metadata": {},
     "output_type": "execute_result"
    }
   ],
   "source": [
    "#Zxx = np.abs(Zxx)\n",
    "#Zxx = Zxx.T\n",
    "Zxx.shape"
   ]
  },
  {
   "cell_type": "code",
   "execution_count": 476,
   "id": "c393e28b",
   "metadata": {},
   "outputs": [
    {
     "data": {
      "text/plain": [
       "(50.0, 0.0)"
      ]
     },
     "execution_count": 476,
     "metadata": {},
     "output_type": "execute_result"
    }
   ],
   "source": [
    "max(f),min(f)"
   ]
  },
  {
   "cell_type": "code",
   "execution_count": 477,
   "id": "3d7cd362",
   "metadata": {},
   "outputs": [
    {
     "data": {
      "text/plain": [
       "64.0"
      ]
     },
     "execution_count": 477,
     "metadata": {},
     "output_type": "execute_result"
    }
   ],
   "source": [
    "max(t)-min(t)"
   ]
  },
  {
   "cell_type": "code",
   "execution_count": 478,
   "id": "59b7ea5f",
   "metadata": {},
   "outputs": [
    {
     "data": {
      "text/plain": [
       "[]"
      ]
     },
     "execution_count": 478,
     "metadata": {},
     "output_type": "execute_result"
    }
   ],
   "source": [
    "fig, ax = plt.subplots()\n",
    "#f, t, Zxx = signal.stft(sig, fs, window='hann', nperseg=1024)\n",
    "ind=np.argsort(f) # returns the indices of the sorted f vector\n",
    "f=f[ind]\n",
    "Zxx=Zxx[:,ind,:]\n",
    "plt.pcolormesh(t, f, np.abs(Zxx[0,:,:]*np.conj(Zxx[0,:,:])), shading='gouraud')\n",
    "plt.plot(outfile=\"stft.png\")"
   ]
  },
  {
   "cell_type": "markdown",
   "id": "1dce2ad6",
   "metadata": {},
   "source": [
    "## Code"
   ]
  },
  {
   "cell_type": "code",
   "execution_count": 509,
   "id": "8fbb74b6",
   "metadata": {},
   "outputs": [],
   "source": [
    "noise_filename = pd.read_csv('noise.csv', header = None)\n",
    "noise_stream = []\n",
    "for i in noise_filename[0]:\n",
    "    temp = obspy.read(\"data/noise/\" + i)\n",
    "    noise_stream.append(temp)\n",
    "    \n",
    "signal_filename = pd.read_csv('signal.csv', header = None)\n",
    "signal_stream = []\n",
    "for i in signal_filename[0]:\n",
    "    temp = obspy.read(\"data/signal/\" + i)\n",
    "    signal_stream.append(temp)"
   ]
  },
  {
   "cell_type": "code",
   "execution_count": 510,
   "id": "8714a40a",
   "metadata": {},
   "outputs": [],
   "source": [
    "def slice_stream(st):\n",
    "    start_time = st[0].stats.starttime\n",
    "    end_time = st[0].stats.endtime\n",
    "    gap = (end_time - start_time)/4\n",
    "    st = st.slice(start_time + gap, end_time - gap)\n",
    "    return st"
   ]
  },
  {
   "cell_type": "code",
   "execution_count": 511,
   "id": "a1f3fb8c",
   "metadata": {},
   "outputs": [],
   "source": [
    "noise_stream = list(map(slice_stream,noise_stream))\n",
    "signal_stream = list(map(slice_stream,signal_stream))"
   ]
  },
  {
   "cell_type": "code",
   "execution_count": 512,
   "id": "fc3e8233",
   "metadata": {},
   "outputs": [],
   "source": [
    "noise_stream = [n.filter(\"bandpass\", freqmin=1, freqmax=45) for n in noise_stream]\n",
    "noise_stream = [n.resample(100) for n in noise_stream]\n",
    "noise_stream = [n.detrend(\"demean\") for n in noise_stream]\n",
    "noise_stream = [n.normalize() for n in noise_stream]"
   ]
  },
  {
   "cell_type": "code",
   "execution_count": 513,
   "id": "8d44039e",
   "metadata": {},
   "outputs": [],
   "source": [
    "signal_stream = [n.filter(\"bandpass\", freqmin=1, freqmax=45) for n in signal_stream]\n",
    "signal_stream = [n.resample(100) for n in signal_stream]\n",
    "signal_stream = [n.detrend(\"demean\") for n in signal_stream]\n",
    "signal_stream = [n.normalize() for n in signal_stream]"
   ]
  },
  {
   "cell_type": "code",
   "execution_count": 514,
   "id": "dc8de400",
   "metadata": {},
   "outputs": [
    {
     "data": {
      "text/plain": [
       "(17850, 1223)"
      ]
     },
     "execution_count": 514,
     "metadata": {},
     "output_type": "execute_result"
    }
   ],
   "source": [
    "len(noise_stream), len(signal_stream)"
   ]
  },
  {
   "cell_type": "code",
   "execution_count": 515,
   "id": "9d453e78",
   "metadata": {},
   "outputs": [],
   "source": [
    "signal_stream[0].plot(outfile=\"signal11.png\")"
   ]
  },
  {
   "cell_type": "code",
   "execution_count": 516,
   "id": "13b45c80",
   "metadata": {},
   "outputs": [],
   "source": [
    "f, t, Zxx = signal.stft(signal_stream[0], fs = 100, nperseg=50)"
   ]
  },
  {
   "cell_type": "code",
   "execution_count": 517,
   "id": "c6fdee5f",
   "metadata": {},
   "outputs": [
    {
     "data": {
      "text/plain": [
       "(129, 26, 3)"
      ]
     },
     "execution_count": 517,
     "metadata": {},
     "output_type": "execute_result"
    }
   ],
   "source": [
    "Zxx = np.abs(Zxx).T\n",
    "Zxx.shape"
   ]
  },
  {
   "cell_type": "code",
   "execution_count": 518,
   "id": "1f087175",
   "metadata": {},
   "outputs": [],
   "source": [
    "noise_length = len(noise_stream)\n",
    "noise_y = np.zeros(shape = (noise_length, 33, 1))\n",
    "\n",
    "signal_length = len(signal_stream)\n",
    "signal_y_truth = np.append(np.zeros(shape=(16,1)), np.ones(shape=(17,1)),axis=0)\n",
    "signal_y = np.zeros(shape = (signal_length, 33, 1))\n",
    "for i in range(signal_length):\n",
    "    signal_y[i] = signal_y_truth"
   ]
  },
  {
   "cell_type": "code",
   "execution_count": 519,
   "id": "3514c7fa",
   "metadata": {},
   "outputs": [],
   "source": [
    "f_signal = []\n",
    "t_signal = []\n",
    "Zxx_signal = np.zeros(shape = (signal_length, 129, 26, 3))\n",
    "\n",
    "for i in range(signal_length):\n",
    "    f, t, Zxx = signal.stft(signal_stream[i], fs = 100, nperseg=50)\n",
    "    f_signal.append(f)\n",
    "    t_signal.append(t)\n",
    "    Zxx_signal[i] = np.abs(Zxx).T\n",
    "\n",
    "f_noise = []\n",
    "t_noise = []\n",
    "Zxx_noise = np.zeros(shape = (noise_length, 129, 26, 3))\n",
    "\n",
    "for i in range(noise_length):\n",
    "    f, t, Zxx = signal.stft(noise_stream[i], fs = 100, nperseg=50)\n",
    "    f_noise.append(f)\n",
    "    t_noise.append(t)\n",
    "    Zxx_noise[i] = np.abs(Zxx).T"
   ]
  },
  {
   "cell_type": "code",
   "execution_count": 520,
   "id": "3877c1ee",
   "metadata": {},
   "outputs": [],
   "source": [
    "y = np.append(noise_y, signal_y, axis = 0)\n",
    "X_Zxx = np.append(Zxx_noise, Zxx_signal, axis = 0)"
   ]
  },
  {
   "cell_type": "code",
   "execution_count": 521,
   "id": "1d402c5e",
   "metadata": {},
   "outputs": [
    {
     "name": "stdout",
     "output_type": "stream",
     "text": [
      "(19073, 33, 1)\n",
      "(19073, 129, 26, 3)\n"
     ]
    }
   ],
   "source": [
    "print(y.shape)\n",
    "print(X_Zxx.shape)"
   ]
  },
  {
   "cell_type": "markdown",
   "id": "76b9c2a9",
   "metadata": {},
   "source": [
    "## Model CRED"
   ]
  },
  {
   "cell_type": "code",
   "execution_count": 522,
   "id": "8388d25a",
   "metadata": {},
   "outputs": [],
   "source": [
    "def lr_schedule(epoch):\n",
    "    \"\"\"\n",
    "    Learning rate is scheduled to be reduced after 40, 60, 80, 90 epochs.\n",
    "    \"\"\"\n",
    "    lr = 1e-3\n",
    "    if epoch > 60:\n",
    "        lr *= 0.5e-3\n",
    "    elif epoch > 40:\n",
    "        lr *= 1e-3\n",
    "    elif epoch > 20:\n",
    "        lr *= 1e-2\n",
    "    elif epoch > 10:\n",
    "        lr *= 1e-1\n",
    "    print('Learning rate: ', lr)\n",
    "    return lr"
   ]
  },
  {
   "cell_type": "code",
   "execution_count": 523,
   "id": "eae09139",
   "metadata": {},
   "outputs": [],
   "source": [
    "def block_CNN(filters, ker, inpC): \n",
    "    \"\"\"\n",
    "    Returns CNN residual blocks\n",
    "    \"\"\"\n",
    "    layer_1 = BatchNormalization()(inpC) \n",
    "    act_1 = Activation('relu')(layer_1) \n",
    "\n",
    "    conv_1 = Conv2D(filters, (ker-2, ker-2), padding = 'same')(act_1) \n",
    "    \n",
    "    layer_2 = BatchNormalization()(conv_1) \n",
    "    act_2 = Activation('relu')(layer_2) \n",
    "  \n",
    "    conv_2 = Conv2D(filters, (ker-2, ker-2), padding = 'same')(act_2) \n",
    "    return(conv_2) "
   ]
  },
  {
   "cell_type": "code",
   "execution_count": 524,
   "id": "24db35c5",
   "metadata": {},
   "outputs": [],
   "source": [
    "def block_BiLSTM(inpR, filters, rnn_depth):\n",
    "    \"\"\"\n",
    "    Returns LSTM residual blocks\n",
    "    \"\"\"\n",
    "    x = inpR\n",
    "    for i in range(rnn_depth):\n",
    "        x_rnn = Bidirectional(LSTM(filters, return_sequences=True))(x)\n",
    "        x_rnn = Dropout(0.7)(x_rnn)\n",
    "        if i > 0 :\n",
    "            x = add([x, x_rnn])\n",
    "        else:\n",
    "            x = x_rnn      \n",
    "    return x\n",
    "     "
   ]
  },
  {
   "cell_type": "code",
   "execution_count": 525,
   "id": "02fd8553",
   "metadata": {},
   "outputs": [],
   "source": [
    "def model_cred(shape, filters):\n",
    "    \n",
    "    inp = Input(shape=shape, name='input')\n",
    "\n",
    "    conv2D_2 = Conv2D(filters[0], (9,9), strides = (2,2), padding = 'same', activation = 'relu')(inp) \n",
    "    res_conv_2 = keras.layers.add([block_CNN(filters[0], 9, conv2D_2), conv2D_2]) \n",
    "\n",
    "    conv2D_3 = Conv2D(filters[1], (5,5), strides = (2,2), padding = 'same', activation = 'relu')(res_conv_2) \n",
    "    res_conv_3 = keras.layers.add([block_CNN(filters[1], 5, conv2D_3),conv2D_3]) \n",
    "    \n",
    "    shape = K.int_shape(res_conv_3)   \n",
    "    reshaped = Reshape((shape[1], shape[2]*shape[3]))(res_conv_3)\n",
    "    \n",
    "    res_BIlstm = block_BiLSTM(reshaped, filters = filters[3], rnn_depth = 2)\n",
    " \n",
    "    UNIlstm = LSTM(filters[3], return_sequences=True)(res_BIlstm)\n",
    "    UNIlstm = Dropout(0.8)(UNIlstm)  \n",
    "    UNIlstm = BatchNormalization()(UNIlstm)\n",
    "   \n",
    "    dense_2 = TimeDistributed(Dense(filters[3], kernel_regularizer=l1(0.01), activation='relu'))(UNIlstm)\n",
    "    dense_2 = BatchNormalization()(dense_2)\n",
    "    dense_2 = Dropout(0.8)(dense_2)\n",
    "    \n",
    "    dense_3 = TimeDistributed(Dense(1, kernel_regularizer=l1(0.01), activation='sigmoid'))(dense_2)\n",
    "\n",
    "    out_model = Model(inputs=inp, outputs=dense_3)\n",
    "    return out_model  "
   ]
  },
  {
   "cell_type": "code",
   "execution_count": 526,
   "id": "f181aa6a",
   "metadata": {},
   "outputs": [],
   "source": [
    "early_stopping_monitor = EarlyStopping(patience=5)\n",
    "    \n",
    "lr_scheduler = LearningRateScheduler(lr_schedule)\n",
    "    \n",
    "lr_reducer = ReduceLROnPlateau(factor=np.sqrt(0.1),\n",
    "                                   cooldown=0,\n",
    "                                   patience=5-2,\n",
    "                                   min_lr=0.5e-7)"
   ]
  },
  {
   "cell_type": "code",
   "execution_count": 527,
   "id": "90d4000f",
   "metadata": {
    "scrolled": true
   },
   "outputs": [
    {
     "name": "stdout",
     "output_type": "stream",
     "text": [
      "Learning rate:  0.001\n",
      "Model: \"model_8\"\n",
      "__________________________________________________________________________________________________\n",
      " Layer (type)                   Output Shape         Param #     Connected to                     \n",
      "==================================================================================================\n",
      " input (InputLayer)             [(None, 129, 26, 3)  0           []                               \n",
      "                                ]                                                                 \n",
      "                                                                                                  \n",
      " conv2d_48 (Conv2D)             (None, 65, 13, 8)    1952        ['input[0][0]']                  \n",
      "                                                                                                  \n",
      " batch_normalization_48 (BatchN  (None, 65, 13, 8)   32          ['conv2d_48[0][0]']              \n",
      " ormalization)                                                                                    \n",
      "                                                                                                  \n",
      " activation_32 (Activation)     (None, 65, 13, 8)    0           ['batch_normalization_48[0][0]'] \n",
      "                                                                                                  \n",
      " conv2d_49 (Conv2D)             (None, 65, 13, 8)    3144        ['activation_32[0][0]']          \n",
      "                                                                                                  \n",
      " batch_normalization_49 (BatchN  (None, 65, 13, 8)   32          ['conv2d_49[0][0]']              \n",
      " ormalization)                                                                                    \n",
      "                                                                                                  \n",
      " activation_33 (Activation)     (None, 65, 13, 8)    0           ['batch_normalization_49[0][0]'] \n",
      "                                                                                                  \n",
      " conv2d_50 (Conv2D)             (None, 65, 13, 8)    3144        ['activation_33[0][0]']          \n",
      "                                                                                                  \n",
      " add_24 (Add)                   (None, 65, 13, 8)    0           ['conv2d_50[0][0]',              \n",
      "                                                                  'conv2d_48[0][0]']              \n",
      "                                                                                                  \n",
      " conv2d_51 (Conv2D)             (None, 33, 7, 16)    3216        ['add_24[0][0]']                 \n",
      "                                                                                                  \n",
      " batch_normalization_50 (BatchN  (None, 33, 7, 16)   64          ['conv2d_51[0][0]']              \n",
      " ormalization)                                                                                    \n",
      "                                                                                                  \n",
      " activation_34 (Activation)     (None, 33, 7, 16)    0           ['batch_normalization_50[0][0]'] \n",
      "                                                                                                  \n",
      " conv2d_52 (Conv2D)             (None, 33, 7, 16)    2320        ['activation_34[0][0]']          \n",
      "                                                                                                  \n",
      " batch_normalization_51 (BatchN  (None, 33, 7, 16)   64          ['conv2d_52[0][0]']              \n",
      " ormalization)                                                                                    \n",
      "                                                                                                  \n",
      " activation_35 (Activation)     (None, 33, 7, 16)    0           ['batch_normalization_51[0][0]'] \n",
      "                                                                                                  \n",
      " conv2d_53 (Conv2D)             (None, 33, 7, 16)    2320        ['activation_35[0][0]']          \n",
      "                                                                                                  \n",
      " add_25 (Add)                   (None, 33, 7, 16)    0           ['conv2d_53[0][0]',              \n",
      "                                                                  'conv2d_51[0][0]']              \n",
      "                                                                                                  \n",
      " reshape_8 (Reshape)            (None, 33, 112)      0           ['add_25[0][0]']                 \n",
      "                                                                                                  \n",
      " bidirectional_16 (Bidirectiona  (None, 33, 128)     90624       ['reshape_8[0][0]']              \n",
      " l)                                                                                               \n",
      "                                                                                                  \n",
      " dropout_32 (Dropout)           (None, 33, 128)      0           ['bidirectional_16[0][0]']       \n",
      "                                                                                                  \n",
      " bidirectional_17 (Bidirectiona  (None, 33, 128)     98816       ['dropout_32[0][0]']             \n",
      " l)                                                                                               \n",
      "                                                                                                  \n",
      " dropout_33 (Dropout)           (None, 33, 128)      0           ['bidirectional_17[0][0]']       \n",
      "                                                                                                  \n",
      " add_26 (Add)                   (None, 33, 128)      0           ['dropout_32[0][0]',             \n",
      "                                                                  'dropout_33[0][0]']             \n",
      "                                                                                                  \n",
      " lstm_26 (LSTM)                 (None, 33, 64)       49408       ['add_26[0][0]']                 \n",
      "                                                                                                  \n",
      " dropout_34 (Dropout)           (None, 33, 64)       0           ['lstm_26[0][0]']                \n",
      "                                                                                                  \n",
      " batch_normalization_52 (BatchN  (None, 33, 64)      256         ['dropout_34[0][0]']             \n",
      " ormalization)                                                                                    \n",
      "                                                                                                  \n",
      " time_distributed_16 (TimeDistr  (None, 33, 64)      4160        ['batch_normalization_52[0][0]'] \n",
      " ibuted)                                                                                          \n",
      "                                                                                                  \n",
      " batch_normalization_53 (BatchN  (None, 33, 64)      256         ['time_distributed_16[0][0]']    \n",
      " ormalization)                                                                                    \n",
      "                                                                                                  \n",
      " dropout_35 (Dropout)           (None, 33, 64)       0           ['batch_normalization_53[0][0]'] \n",
      "                                                                                                  \n",
      " time_distributed_17 (TimeDistr  (None, 33, 1)       65          ['dropout_35[0][0]']             \n",
      " ibuted)                                                                                          \n",
      "                                                                                                  \n",
      "==================================================================================================\n",
      "Total params: 259,873\n",
      "Trainable params: 259,521\n",
      "Non-trainable params: 352\n",
      "__________________________________________________________________________________________________\n"
     ]
    }
   ],
   "source": [
    "model = model_cred((129, 26, 3), filters = [8, 16, 32, 64, 128, 256])\n",
    "model.compile(loss='binary_crossentropy',\n",
    "                  optimizer=tf.optimizers.Adam(lr=lr_schedule(0)),\n",
    "                  metrics=['binary_accuracy'])\n",
    "\n",
    "model.summary()"
   ]
  },
  {
   "cell_type": "code",
   "execution_count": 528,
   "id": "607afc99",
   "metadata": {},
   "outputs": [],
   "source": [
    "seed_value = 15\n",
    "tf.random.set_seed(seed_value)\n",
    "np.random.seed(seed_value)"
   ]
  },
  {
   "cell_type": "code",
   "execution_count": 529,
   "id": "383baa47",
   "metadata": {},
   "outputs": [],
   "source": [
    "X, X_val, y, y_val = train_test_split(X_Zxx, y, test_size=0.3, random_state=15,shuffle=True)"
   ]
  },
  {
   "cell_type": "code",
   "execution_count": 530,
   "id": "8657032f",
   "metadata": {},
   "outputs": [
    {
     "name": "stdout",
     "output_type": "stream",
     "text": [
      "Learning rate:  0.001\n",
      "Learning rate:  0.001\n",
      "Learning rate:  0.001\n",
      "Learning rate:  0.001\n",
      "Learning rate:  0.001\n",
      "Learning rate:  0.001\n",
      "Learning rate:  0.001\n",
      "Learning rate:  0.001\n",
      "Learning rate:  0.001\n",
      "Learning rate:  0.001\n",
      "Learning rate:  0.001\n",
      "Learning rate:  0.0001\n",
      "Learning rate:  0.0001\n",
      "Learning rate:  0.0001\n",
      "Learning rate:  0.0001\n",
      "Learning rate:  0.0001\n",
      "Learning rate:  0.0001\n"
     ]
    }
   ],
   "source": [
    "checkpointer = ModelCheckpoint(filepath='model_best.hdf5',\n",
    "                                       monitor='val_loss', verbose=0, mode='auto', save_best_only=True)\n",
    "start_time = time.time()  \n",
    "history = model.fit(\n",
    "    X,\n",
    "    y,\n",
    "    epochs=200,\n",
    "    batch_size=500,\n",
    "    verbose=0,\n",
    "    validation_data = (X_val, y_val),\n",
    "    max_queue_size=5,\n",
    "    callbacks = [checkpointer, lr_reducer, lr_scheduler, early_stopping_monitor] )\n",
    "end_time = time.time()"
   ]
  },
  {
   "cell_type": "code",
   "execution_count": 532,
   "id": "7565f581",
   "metadata": {},
   "outputs": [
    {
     "data": {
      "text/plain": [
       "{'loss': [5.081862926483154,\n",
       "  3.7337281703948975,\n",
       "  2.714608907699585,\n",
       "  1.8995134830474854,\n",
       "  1.245247483253479,\n",
       "  0.7525756359100342,\n",
       "  0.4200800955295563,\n",
       "  0.2511064410209656,\n",
       "  0.2103590965270996,\n",
       "  0.20754188299179077,\n",
       "  0.24780790507793427,\n",
       "  0.21268294751644135,\n",
       "  0.1976938247680664,\n",
       "  0.19360005855560303,\n",
       "  0.19240334630012512,\n",
       "  0.19013643264770508,\n",
       "  0.18881116807460785],\n",
       " 'binary_accuracy': [0.554474413394928,\n",
       "  0.7265918254852295,\n",
       "  0.9354945421218872,\n",
       "  0.987309992313385,\n",
       "  0.9944800138473511,\n",
       "  0.9965137243270874,\n",
       "  0.9978097081184387,\n",
       "  0.9984724521636963,\n",
       "  0.9982069134712219,\n",
       "  0.9970561861991882,\n",
       "  0.9925984144210815,\n",
       "  0.9975214600563049,\n",
       "  0.9977030158042908,\n",
       "  0.9978846311569214,\n",
       "  0.9979368448257446,\n",
       "  0.9979572296142578,\n",
       "  0.9980548620223999],\n",
       " 'val_loss': [5.620278835296631,\n",
       "  4.747651100158691,\n",
       "  4.513829708099365,\n",
       "  3.864873170852661,\n",
       "  3.1404354572296143,\n",
       "  2.043123722076416,\n",
       "  1.282875657081604,\n",
       "  1.032277226448059,\n",
       "  1.1293171644210815,\n",
       "  1.4060962200164795,\n",
       "  0.32163572311401367,\n",
       "  0.2967883348464966,\n",
       "  1.033077359199524,\n",
       "  1.8117971420288086,\n",
       "  2.1485230922698975,\n",
       "  2.0478575229644775,\n",
       "  2.5121402740478516],\n",
       " 'val_binary_accuracy': [0.12267907708883286,\n",
       "  0.4577335715293884,\n",
       "  0.3668244779109955,\n",
       "  0.3062184154987335,\n",
       "  0.27431073784828186,\n",
       "  0.27591538429260254,\n",
       "  0.2914058566093445,\n",
       "  0.3061707615852356,\n",
       "  0.3632603585720062,\n",
       "  0.3114772439002991,\n",
       "  0.9665088653564453,\n",
       "  0.9665088653564453,\n",
       "  0.7420164346694946,\n",
       "  0.6141262054443359,\n",
       "  0.6204389333724976,\n",
       "  0.6884909868240356,\n",
       "  0.678174614906311],\n",
       " 'lr': [0.001,\n",
       "  0.001,\n",
       "  0.001,\n",
       "  0.001,\n",
       "  0.001,\n",
       "  0.001,\n",
       "  0.001,\n",
       "  0.001,\n",
       "  0.001,\n",
       "  0.001,\n",
       "  0.001,\n",
       "  9.9999997e-05,\n",
       "  9.9999997e-05,\n",
       "  9.9999997e-05,\n",
       "  3.1622774e-05,\n",
       "  9.9999997e-05,\n",
       "  9.9999997e-05]}"
      ]
     },
     "execution_count": 532,
     "metadata": {},
     "output_type": "execute_result"
    }
   ],
   "source": [
    "history.history"
   ]
  },
  {
   "cell_type": "code",
   "execution_count": null,
   "id": "a4eeb638",
   "metadata": {},
   "outputs": [],
   "source": [
    "model.load_weights('model_best.hdf5')\n",
    "mse = model.evaluate(Xt_1, yt_1, verbose=0)\n",
    "mse_list.append(mse)     "
   ]
  }
 ],
 "metadata": {
  "kernelspec": {
   "display_name": "Python 3",
   "language": "python",
   "name": "python3"
  },
  "language_info": {
   "codemirror_mode": {
    "name": "ipython",
    "version": 3
   },
   "file_extension": ".py",
   "mimetype": "text/x-python",
   "name": "python",
   "nbconvert_exporter": "python",
   "pygments_lexer": "ipython3",
   "version": "3.8.8"
  }
 },
 "nbformat": 4,
 "nbformat_minor": 5
}
