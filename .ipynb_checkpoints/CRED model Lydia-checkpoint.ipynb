{
 "cells": [
  {
   "cell_type": "code",
   "execution_count": 3,
   "id": "3e97f40d",
   "metadata": {},
   "outputs": [],
   "source": [
    "import numpy as np\n",
    "import obspy\n",
    "import scipy\n",
    "from obspy import read\n",
    "import matplotlib.pyplot as plt \n",
    "import time\n",
    "import pandas as pd\n",
    "\n",
    "from __future__ import print_function\n",
    "import tensorflow as tf\n",
    "import keras\n",
    "from keras.layers import add, Reshape, Dense,Input, TimeDistributed, Dropout, Activation, LSTM, Conv2D, Bidirectional, BatchNormalization \n",
    "from keras.callbacks import ModelCheckpoint, LearningRateScheduler, EarlyStopping,ReduceLROnPlateau\n",
    "from keras.regularizers import l1\n",
    "from keras import backend as K\n",
    "from keras.models import Model\n",
    "from sklearn.model_selection import train_test_split\n",
    "import matplotlib\n",
    "matplotlib.use('agg')\n",
    "import matplotlib.pyplot as plt\n",
    "from scipy import signal\n",
    "import os\n",
    "np.seterr(divide='ignore', invalid='ignore')\n",
    "import h5py\n",
    "from obspy.signal.trigger import trigger_onset\n",
    "np.warnings.filterwarnings('ignore')"
   ]
  },
  {
   "cell_type": "markdown",
   "id": "b9723539",
   "metadata": {},
   "source": [
    "## Grillo Data"
   ]
  },
  {
   "cell_type": "code",
   "execution_count": 4,
   "id": "b65e9155",
   "metadata": {
    "scrolled": true
   },
   "outputs": [
    {
     "name": "stdout",
     "output_type": "stream",
     "text": [
      "3\n"
     ]
    }
   ],
   "source": [
    "s1 = read(\"data/signal/1512114894_015_P.mseed\")\n",
    "print(len(s1))"
   ]
  },
  {
   "cell_type": "code",
   "execution_count": 5,
   "id": "91edb110",
   "metadata": {},
   "outputs": [
    {
     "data": {
      "text/plain": [
       "3 Trace(s) in Stream:\n",
       ".015..BHX | 2017-12-01T07:54:54.001000Z - 2017-12-01T07:55:57.969000Z | 31.2 Hz, 2000 samples\n",
       ".015..BHY | 2017-12-01T07:54:54.001000Z - 2017-12-01T07:55:57.969000Z | 31.2 Hz, 2000 samples\n",
       ".015..BHZ | 2017-12-01T07:54:54.001000Z - 2017-12-01T07:55:57.969000Z | 31.2 Hz, 2000 samples"
      ]
     },
     "execution_count": 5,
     "metadata": {},
     "output_type": "execute_result"
    }
   ],
   "source": [
    "s1"
   ]
  },
  {
   "cell_type": "code",
   "execution_count": 6,
   "id": "811e9e36",
   "metadata": {},
   "outputs": [],
   "source": [
    "s1.plot(outfile=\"signal1.png\")"
   ]
  },
  {
   "cell_type": "code",
   "execution_count": 7,
   "id": "02fdb43b",
   "metadata": {},
   "outputs": [
    {
     "name": "stdout",
     "output_type": "stream",
     "text": [
      "<class 'numpy.ndarray'>\n",
      "[ 0.          0.01803802 -0.04592396 ...,  0.02292396  0.01096198\n",
      "  0.        ]\n"
     ]
    }
   ],
   "source": [
    "tr_s1 = s1[1]\n",
    "trace_data = tr_s1.data\n",
    "print(type(trace_data))\n",
    "print(trace_data)"
   ]
  },
  {
   "cell_type": "code",
   "execution_count": 8,
   "id": "7af8cb1c",
   "metadata": {},
   "outputs": [
    {
     "data": {
      "text/plain": [
       "2000"
      ]
     },
     "execution_count": 8,
     "metadata": {},
     "output_type": "execute_result"
    }
   ],
   "source": [
    "len(trace_data)"
   ]
  },
  {
   "cell_type": "markdown",
   "id": "574555de",
   "metadata": {},
   "source": [
    "### Detrend"
   ]
  },
  {
   "cell_type": "code",
   "execution_count": 9,
   "id": "4ab729bd",
   "metadata": {},
   "outputs": [],
   "source": [
    "s = s1.detrend(\"demean\")"
   ]
  },
  {
   "cell_type": "code",
   "execution_count": 10,
   "id": "4ed1acb5",
   "metadata": {},
   "outputs": [
    {
     "data": {
      "text/plain": [
       "array([ 0.00228925,  0.02032727, -0.04363471, ...,  0.02521321,\n",
       "        0.01325123,  0.00228925])"
      ]
     },
     "execution_count": 10,
     "metadata": {},
     "output_type": "execute_result"
    }
   ],
   "source": [
    "s[1].data"
   ]
  },
  {
   "cell_type": "code",
   "execution_count": 11,
   "id": "14ef093e",
   "metadata": {},
   "outputs": [
    {
     "data": {
      "text/plain": [
       "2000"
      ]
     },
     "execution_count": 11,
     "metadata": {},
     "output_type": "execute_result"
    }
   ],
   "source": [
    "len(s[1].data)"
   ]
  },
  {
   "cell_type": "markdown",
   "id": "d88ac042",
   "metadata": {},
   "source": [
    "### Bandpass filter between 1 and 45Hz"
   ]
  },
  {
   "cell_type": "code",
   "execution_count": 12,
   "id": "f566a079",
   "metadata": {},
   "outputs": [],
   "source": [
    "s = s.filter(\"bandpass\", freqmin=1, freqmax=45)"
   ]
  },
  {
   "cell_type": "code",
   "execution_count": 13,
   "id": "7c58483e",
   "metadata": {},
   "outputs": [
    {
     "data": {
      "text/plain": [
       "array([ 0.00175945,  0.0146993 , -0.0424117 , ...,  0.00657167,\n",
       "       -0.00272553, -0.0068781 ])"
      ]
     },
     "execution_count": 13,
     "metadata": {},
     "output_type": "execute_result"
    }
   ],
   "source": [
    "s[1].data"
   ]
  },
  {
   "cell_type": "code",
   "execution_count": 14,
   "id": "b3eebd46",
   "metadata": {},
   "outputs": [
    {
     "data": {
      "text/plain": [
       "2000"
      ]
     },
     "execution_count": 14,
     "metadata": {},
     "output_type": "execute_result"
    }
   ],
   "source": [
    "len(s[1].data)"
   ]
  },
  {
   "cell_type": "markdown",
   "id": "b3b0c459",
   "metadata": {},
   "source": [
    "### Resampled at 100 HZ"
   ]
  },
  {
   "cell_type": "code",
   "execution_count": 15,
   "id": "4ef0086c",
   "metadata": {},
   "outputs": [],
   "source": [
    "s = s.resample(100)"
   ]
  },
  {
   "cell_type": "code",
   "execution_count": 16,
   "id": "c60b75b8",
   "metadata": {},
   "outputs": [
    {
     "data": {
      "text/plain": [
       "array([ 0.00283503,  0.0039782 ,  0.00282766, ..., -0.003435  ,\n",
       "       -0.00170013,  0.00060302])"
      ]
     },
     "execution_count": 16,
     "metadata": {},
     "output_type": "execute_result"
    }
   ],
   "source": [
    "s[1].data"
   ]
  },
  {
   "cell_type": "code",
   "execution_count": 17,
   "id": "9018d2d8",
   "metadata": {},
   "outputs": [
    {
     "data": {
      "text/plain": [
       "6400"
      ]
     },
     "execution_count": 17,
     "metadata": {},
     "output_type": "execute_result"
    }
   ],
   "source": [
    "len(s[1].data)"
   ]
  },
  {
   "cell_type": "markdown",
   "id": "c45c644b",
   "metadata": {},
   "source": [
    "### Normalize"
   ]
  },
  {
   "cell_type": "code",
   "execution_count": 18,
   "id": "7b15d7ab",
   "metadata": {},
   "outputs": [],
   "source": [
    "s = s.normalize()"
   ]
  },
  {
   "cell_type": "code",
   "execution_count": 19,
   "id": "2f93c481",
   "metadata": {},
   "outputs": [
    {
     "data": {
      "text/plain": [
       "array([ 0.00117299,  0.00164597,  0.00116994, ..., -0.00142122,\n",
       "       -0.00070343,  0.0002495 ])"
      ]
     },
     "execution_count": 19,
     "metadata": {},
     "output_type": "execute_result"
    }
   ],
   "source": [
    "s[1].data"
   ]
  },
  {
   "cell_type": "code",
   "execution_count": 20,
   "id": "11da6219",
   "metadata": {},
   "outputs": [
    {
     "data": {
      "text/plain": [
       "6400"
      ]
     },
     "execution_count": 20,
     "metadata": {},
     "output_type": "execute_result"
    }
   ],
   "source": [
    "len(s[1].data)"
   ]
  },
  {
   "cell_type": "code",
   "execution_count": 21,
   "id": "ed3908f1",
   "metadata": {},
   "outputs": [],
   "source": [
    "s.plot(outfile=\"tf.png\")"
   ]
  },
  {
   "cell_type": "markdown",
   "id": "64a11c4f",
   "metadata": {},
   "source": [
    "### STFT"
   ]
  },
  {
   "cell_type": "code",
   "execution_count": 22,
   "id": "03486d06",
   "metadata": {},
   "outputs": [
    {
     "name": "stdout",
     "output_type": "stream",
     "text": [
      "(3, 41, 161)\n"
     ]
    }
   ],
   "source": [
    "f, t, Zxx = signal.stft(s, fs=100,nperseg=80)\n",
    "print(Zxx.shape)"
   ]
  },
  {
   "cell_type": "code",
   "execution_count": 23,
   "id": "7d378d33",
   "metadata": {},
   "outputs": [
    {
     "data": {
      "text/plain": [
       "(3, 41, 161)"
      ]
     },
     "execution_count": 23,
     "metadata": {},
     "output_type": "execute_result"
    }
   ],
   "source": [
    "#Zxx = np.abs(Zxx)\n",
    "#Zxx = Zxx.T\n",
    "Zxx.shape"
   ]
  },
  {
   "cell_type": "code",
   "execution_count": 24,
   "id": "c393e28b",
   "metadata": {},
   "outputs": [
    {
     "data": {
      "text/plain": [
       "(50.0, 0.0)"
      ]
     },
     "execution_count": 24,
     "metadata": {},
     "output_type": "execute_result"
    }
   ],
   "source": [
    "max(f),min(f)"
   ]
  },
  {
   "cell_type": "code",
   "execution_count": 25,
   "id": "3d7cd362",
   "metadata": {},
   "outputs": [
    {
     "data": {
      "text/plain": [
       "64.0"
      ]
     },
     "execution_count": 25,
     "metadata": {},
     "output_type": "execute_result"
    }
   ],
   "source": [
    "max(t)-min(t)"
   ]
  },
  {
   "cell_type": "code",
   "execution_count": 26,
   "id": "59b7ea5f",
   "metadata": {},
   "outputs": [
    {
     "data": {
      "text/plain": [
       "[]"
      ]
     },
     "execution_count": 26,
     "metadata": {},
     "output_type": "execute_result"
    }
   ],
   "source": [
    "fig, ax = plt.subplots()\n",
    "#f, t, Zxx = signal.stft(sig, fs, window='hann', nperseg=1024)\n",
    "ind=np.argsort(f) # returns the indices of the sorted f vector\n",
    "f=f[ind]\n",
    "Zxx=Zxx[:,ind,:]\n",
    "plt.pcolormesh(t, f, np.abs(Zxx[0,:,:]*np.conj(Zxx[0,:,:])), shading='gouraud')\n",
    "plt.plot(outfile=\"stft.png\")"
   ]
  },
  {
   "cell_type": "markdown",
   "id": "1dce2ad6",
   "metadata": {},
   "source": [
    "## Code"
   ]
  },
  {
   "cell_type": "code",
   "execution_count": 56,
   "id": "8fbb74b6",
   "metadata": {},
   "outputs": [],
   "source": [
    "noise_filename = pd.read_csv('noise.csv', header = None)\n",
    "noise_stream = []\n",
    "for i in noise_filename[0]:\n",
    "    temp = obspy.read(\"data/noise/\" + i)\n",
    "    noise_stream.append(temp)\n",
    "    \n",
    "signal_filename = pd.read_csv('signal.csv', header = None)\n",
    "signal_stream = []\n",
    "for i in signal_filename[0]:\n",
    "    temp = obspy.read(\"data/signal/\" + i)\n",
    "    signal_stream.append(temp)"
   ]
  },
  {
   "cell_type": "code",
   "execution_count": 57,
   "id": "8714a40a",
   "metadata": {},
   "outputs": [],
   "source": [
    "def slice_stream(st):\n",
    "    start_time = st[0].stats.starttime\n",
    "    end_time = st[0].stats.endtime\n",
    "    gap = (end_time - start_time)/4\n",
    "    st = st.slice(start_time + gap, end_time - gap)\n",
    "    return st"
   ]
  },
  {
   "cell_type": "code",
   "execution_count": 58,
   "id": "a1f3fb8c",
   "metadata": {},
   "outputs": [],
   "source": [
    "noise_stream = list(map(slice_stream,noise_stream))\n",
    "signal_stream = list(map(slice_stream,signal_stream))"
   ]
  },
  {
   "cell_type": "code",
   "execution_count": 59,
   "id": "fc3e8233",
   "metadata": {},
   "outputs": [],
   "source": [
    "noise_stream = [n.filter(\"bandpass\", freqmin=1, freqmax=45) for n in noise_stream]\n",
    "noise_stream = [n.resample(100) for n in noise_stream]\n",
    "noise_stream = [n.detrend(\"demean\") for n in noise_stream]\n",
    "noise_stream = [n.normalize() for n in noise_stream]"
   ]
  },
  {
   "cell_type": "code",
   "execution_count": 60,
   "id": "8d44039e",
   "metadata": {},
   "outputs": [],
   "source": [
    "signal_stream = [n.filter(\"bandpass\", freqmin=1, freqmax=45) for n in signal_stream]\n",
    "signal_stream = [n.resample(100) for n in signal_stream]\n",
    "signal_stream = [n.detrend(\"demean\") for n in signal_stream]\n",
    "signal_stream = [n.normalize() for n in signal_stream]"
   ]
  },
  {
   "cell_type": "code",
   "execution_count": 61,
   "id": "dc8de400",
   "metadata": {},
   "outputs": [
    {
     "data": {
      "text/plain": [
       "(17850, 1223)"
      ]
     },
     "execution_count": 61,
     "metadata": {},
     "output_type": "execute_result"
    }
   ],
   "source": [
    "len(noise_stream), len(signal_stream)"
   ]
  },
  {
   "cell_type": "code",
   "execution_count": 62,
   "id": "9d453e78",
   "metadata": {},
   "outputs": [],
   "source": [
    "signal_stream[0].plot(outfile=\"signal11.png\")"
   ]
  },
  {
   "cell_type": "code",
   "execution_count": 63,
   "id": "1f087175",
   "metadata": {},
   "outputs": [],
   "source": [
    "noise_length = len(noise_stream)\n",
    "noise_y = np.zeros(shape = (noise_length, 62, 1))\n",
    "\n",
    "signal_length = len(signal_stream)\n",
    "signal_y_truth = np.append(np.zeros(shape=(31,1)), np.ones(shape=(31,1)),axis=0)\n",
    "signal_y = np.zeros(shape = (signal_length, 62, 1))\n",
    "for i in range(signal_length):\n",
    "    signal_y[i] = signal_y_truth"
   ]
  },
  {
   "cell_type": "code",
   "execution_count": 64,
   "id": "3514c7fa",
   "metadata": {},
   "outputs": [],
   "source": [
    "f_signal = []\n",
    "t_signal = []\n",
    "Zxx_signal = np.zeros(shape = (signal_length, 248, 13, 3))\n",
    "\n",
    "for i in range(signal_length):\n",
    "    f, t, Zxx = signal.stft(signal_stream[i], fs = 100, nperseg=25)\n",
    "    f_signal.append(f)\n",
    "    t_signal.append(t)\n",
    "    Zxx_signal[i] = np.abs(Zxx).T\n",
    "\n",
    "f_noise = []\n",
    "t_noise = []\n",
    "Zxx_noise = np.zeros(shape = (noise_length, 248, 13, 3))\n",
    "\n",
    "for i in range(noise_length):\n",
    "    f, t, Zxx = signal.stft(noise_stream[i], fs = 100, nperseg=25)\n",
    "    f_noise.append(f)\n",
    "    t_noise.append(t)\n",
    "    Zxx_noise[i] = np.abs(Zxx).T"
   ]
  },
  {
   "cell_type": "code",
   "execution_count": 65,
   "id": "3877c1ee",
   "metadata": {},
   "outputs": [],
   "source": [
    "y = np.append(noise_y, signal_y, axis = 0)\n",
    "X_Zxx = np.append(Zxx_noise, Zxx_signal, axis = 0)"
   ]
  },
  {
   "cell_type": "code",
   "execution_count": 66,
   "id": "1d402c5e",
   "metadata": {},
   "outputs": [
    {
     "name": "stdout",
     "output_type": "stream",
     "text": [
      "(19073, 62, 1)\n",
      "(19073, 248, 13, 3)\n"
     ]
    }
   ],
   "source": [
    "print(y.shape)\n",
    "print(X_Zxx.shape)"
   ]
  },
  {
   "cell_type": "markdown",
   "id": "76b9c2a9",
   "metadata": {},
   "source": [
    "## Model CRED"
   ]
  },
  {
   "cell_type": "code",
   "execution_count": 67,
   "id": "8388d25a",
   "metadata": {},
   "outputs": [],
   "source": [
    "def lr_schedule(epoch):\n",
    "    \"\"\"\n",
    "    Learning rate is scheduled to be reduced after 40, 60, 80, 90 epochs.\n",
    "    \"\"\"\n",
    "    lr = 1e-3\n",
    "    if epoch > 60:\n",
    "        lr *= 0.5e-3\n",
    "    elif epoch > 40:\n",
    "        lr *= 1e-3\n",
    "    elif epoch > 20:\n",
    "        lr *= 1e-2\n",
    "    elif epoch > 10:\n",
    "        lr *= 1e-1\n",
    "    print('Learning rate: ', lr)\n",
    "    return lr"
   ]
  },
  {
   "cell_type": "code",
   "execution_count": 68,
   "id": "eae09139",
   "metadata": {},
   "outputs": [],
   "source": [
    "def block_CNN(filters, ker, inpC): \n",
    "    \"\"\"\n",
    "    Returns CNN residual blocks\n",
    "    \"\"\"\n",
    "    layer_1 = BatchNormalization()(inpC) \n",
    "    act_1 = Activation('relu')(layer_1) \n",
    "\n",
    "    conv_1 = Conv2D(filters, (ker-2, ker-2), padding = 'same')(act_1) \n",
    "    \n",
    "    layer_2 = BatchNormalization()(conv_1) \n",
    "    act_2 = Activation('relu')(layer_2) \n",
    "  \n",
    "    conv_2 = Conv2D(filters, (ker-2, ker-2), padding = 'same')(act_2) \n",
    "    return(conv_2) "
   ]
  },
  {
   "cell_type": "code",
   "execution_count": 69,
   "id": "24db35c5",
   "metadata": {},
   "outputs": [],
   "source": [
    "def block_BiLSTM(inpR, filters, rnn_depth):\n",
    "    \"\"\"\n",
    "    Returns LSTM residual blocks\n",
    "    \"\"\"\n",
    "    x = inpR\n",
    "    for i in range(rnn_depth):\n",
    "        x_rnn = Bidirectional(LSTM(filters, return_sequences=True))(x)\n",
    "        x_rnn = Dropout(0.7)(x_rnn)\n",
    "        if i > 0 :\n",
    "            x = add([x, x_rnn])\n",
    "        else:\n",
    "            x = x_rnn      \n",
    "    return x\n",
    "     "
   ]
  },
  {
   "cell_type": "code",
   "execution_count": 70,
   "id": "02fd8553",
   "metadata": {},
   "outputs": [],
   "source": [
    "def model_cred(shape, filters):\n",
    "    \n",
    "    inp = Input(shape=shape, name='input')\n",
    "\n",
    "    conv2D_2 = Conv2D(filters[0], (9,9), strides = (2,2), padding = 'same', activation = 'relu')(inp) \n",
    "    res_conv_2 = keras.layers.add([block_CNN(filters[0], 9, conv2D_2), conv2D_2]) \n",
    "\n",
    "    conv2D_3 = Conv2D(filters[1], (5,5), strides = (2,2), padding = 'same', activation = 'relu')(res_conv_2) \n",
    "    res_conv_3 = keras.layers.add([block_CNN(filters[1], 5, conv2D_3),conv2D_3]) \n",
    "    \n",
    "    shape = K.int_shape(res_conv_3)   \n",
    "    reshaped = Reshape((shape[1], shape[2]*shape[3]))(res_conv_3)\n",
    "    \n",
    "    res_BIlstm = block_BiLSTM(reshaped, filters = filters[3], rnn_depth = 2)\n",
    " \n",
    "    UNIlstm = LSTM(filters[3], return_sequences=True)(res_BIlstm)\n",
    "    UNIlstm = Dropout(0.8)(UNIlstm)  \n",
    "    UNIlstm = BatchNormalization()(UNIlstm)\n",
    "   \n",
    "    dense_2 = TimeDistributed(Dense(filters[3], kernel_regularizer=l1(0.01), activation='relu'))(UNIlstm)\n",
    "    dense_2 = BatchNormalization()(dense_2)\n",
    "    dense_2 = Dropout(0.8)(dense_2)\n",
    "    \n",
    "    dense_3 = TimeDistributed(Dense(1, kernel_regularizer=l1(0.01), activation='sigmoid'))(dense_2)\n",
    "\n",
    "    out_model = Model(inputs=inp, outputs=dense_3)\n",
    "    return out_model  "
   ]
  },
  {
   "cell_type": "code",
   "execution_count": 71,
   "id": "f181aa6a",
   "metadata": {},
   "outputs": [],
   "source": [
    "early_stopping_monitor = EarlyStopping(patience=5)\n",
    "    \n",
    "lr_scheduler = LearningRateScheduler(lr_schedule)\n",
    "    \n",
    "lr_reducer = ReduceLROnPlateau(factor=np.sqrt(0.1),\n",
    "                                   cooldown=0,\n",
    "                                   patience=5-2,\n",
    "                                   min_lr=0.5e-7)"
   ]
  },
  {
   "cell_type": "code",
   "execution_count": 72,
   "id": "90d4000f",
   "metadata": {
    "scrolled": true
   },
   "outputs": [
    {
     "name": "stdout",
     "output_type": "stream",
     "text": [
      "Learning rate:  0.001\n",
      "Model: \"model_2\"\n",
      "__________________________________________________________________________________________________\n",
      " Layer (type)                   Output Shape         Param #     Connected to                     \n",
      "==================================================================================================\n",
      " input (InputLayer)             [(None, 248, 13, 3)  0           []                               \n",
      "                                ]                                                                 \n",
      "                                                                                                  \n",
      " conv2d_12 (Conv2D)             (None, 124, 7, 8)    1952        ['input[0][0]']                  \n",
      "                                                                                                  \n",
      " batch_normalization_12 (BatchN  (None, 124, 7, 8)   32          ['conv2d_12[0][0]']              \n",
      " ormalization)                                                                                    \n",
      "                                                                                                  \n",
      " activation_8 (Activation)      (None, 124, 7, 8)    0           ['batch_normalization_12[0][0]'] \n",
      "                                                                                                  \n",
      " conv2d_13 (Conv2D)             (None, 124, 7, 8)    3144        ['activation_8[0][0]']           \n",
      "                                                                                                  \n",
      " batch_normalization_13 (BatchN  (None, 124, 7, 8)   32          ['conv2d_13[0][0]']              \n",
      " ormalization)                                                                                    \n",
      "                                                                                                  \n",
      " activation_9 (Activation)      (None, 124, 7, 8)    0           ['batch_normalization_13[0][0]'] \n",
      "                                                                                                  \n",
      " conv2d_14 (Conv2D)             (None, 124, 7, 8)    3144        ['activation_9[0][0]']           \n",
      "                                                                                                  \n",
      " add_6 (Add)                    (None, 124, 7, 8)    0           ['conv2d_14[0][0]',              \n",
      "                                                                  'conv2d_12[0][0]']              \n",
      "                                                                                                  \n",
      " conv2d_15 (Conv2D)             (None, 62, 4, 16)    3216        ['add_6[0][0]']                  \n",
      "                                                                                                  \n",
      " batch_normalization_14 (BatchN  (None, 62, 4, 16)   64          ['conv2d_15[0][0]']              \n",
      " ormalization)                                                                                    \n",
      "                                                                                                  \n",
      " activation_10 (Activation)     (None, 62, 4, 16)    0           ['batch_normalization_14[0][0]'] \n",
      "                                                                                                  \n",
      " conv2d_16 (Conv2D)             (None, 62, 4, 16)    2320        ['activation_10[0][0]']          \n",
      "                                                                                                  \n",
      " batch_normalization_15 (BatchN  (None, 62, 4, 16)   64          ['conv2d_16[0][0]']              \n",
      " ormalization)                                                                                    \n",
      "                                                                                                  \n",
      " activation_11 (Activation)     (None, 62, 4, 16)    0           ['batch_normalization_15[0][0]'] \n",
      "                                                                                                  \n",
      " conv2d_17 (Conv2D)             (None, 62, 4, 16)    2320        ['activation_11[0][0]']          \n",
      "                                                                                                  \n",
      " add_7 (Add)                    (None, 62, 4, 16)    0           ['conv2d_17[0][0]',              \n",
      "                                                                  'conv2d_15[0][0]']              \n",
      "                                                                                                  \n",
      " reshape_2 (Reshape)            (None, 62, 64)       0           ['add_7[0][0]']                  \n",
      "                                                                                                  \n",
      " bidirectional_4 (Bidirectional  (None, 62, 128)     66048       ['reshape_2[0][0]']              \n",
      " )                                                                                                \n",
      "                                                                                                  \n",
      " dropout_8 (Dropout)            (None, 62, 128)      0           ['bidirectional_4[0][0]']        \n",
      "                                                                                                  \n",
      " bidirectional_5 (Bidirectional  (None, 62, 128)     98816       ['dropout_8[0][0]']              \n",
      " )                                                                                                \n",
      "                                                                                                  \n",
      " dropout_9 (Dropout)            (None, 62, 128)      0           ['bidirectional_5[0][0]']        \n",
      "                                                                                                  \n",
      " add_8 (Add)                    (None, 62, 128)      0           ['dropout_8[0][0]',              \n",
      "                                                                  'dropout_9[0][0]']              \n",
      "                                                                                                  \n",
      " lstm_8 (LSTM)                  (None, 62, 64)       49408       ['add_8[0][0]']                  \n",
      "                                                                                                  \n",
      " dropout_10 (Dropout)           (None, 62, 64)       0           ['lstm_8[0][0]']                 \n",
      "                                                                                                  \n",
      " batch_normalization_16 (BatchN  (None, 62, 64)      256         ['dropout_10[0][0]']             \n",
      " ormalization)                                                                                    \n",
      "                                                                                                  \n",
      " time_distributed_4 (TimeDistri  (None, 62, 64)      4160        ['batch_normalization_16[0][0]'] \n",
      " buted)                                                                                           \n",
      "                                                                                                  \n",
      " batch_normalization_17 (BatchN  (None, 62, 64)      256         ['time_distributed_4[0][0]']     \n",
      " ormalization)                                                                                    \n",
      "                                                                                                  \n",
      " dropout_11 (Dropout)           (None, 62, 64)       0           ['batch_normalization_17[0][0]'] \n",
      "                                                                                                  \n",
      " time_distributed_5 (TimeDistri  (None, 62, 1)       65          ['dropout_11[0][0]']             \n",
      " buted)                                                                                           \n",
      "                                                                                                  \n",
      "==================================================================================================\n",
      "Total params: 235,297\n",
      "Trainable params: 234,945\n",
      "Non-trainable params: 352\n",
      "__________________________________________________________________________________________________\n"
     ]
    }
   ],
   "source": [
    "model = model_cred((248, 13, 3), filters = [8, 16, 32, 64, 128, 256])\n",
    "model.compile(loss='binary_crossentropy',\n",
    "                  optimizer=tf.optimizers.Adam(lr=lr_schedule(0)),\n",
    "                  metrics=['binary_accuracy'])\n",
    "\n",
    "model.summary()"
   ]
  },
  {
   "cell_type": "code",
   "execution_count": 73,
   "id": "607afc99",
   "metadata": {},
   "outputs": [],
   "source": [
    "seed_value = 15\n",
    "tf.random.set_seed(seed_value)\n",
    "np.random.seed(seed_value)"
   ]
  },
  {
   "cell_type": "code",
   "execution_count": 74,
   "id": "383baa47",
   "metadata": {},
   "outputs": [],
   "source": [
    "X, X_val, y, y_val = train_test_split(X_Zxx, y, test_size=0.3, random_state=15,shuffle=True)"
   ]
  },
  {
   "cell_type": "code",
   "execution_count": 75,
   "id": "8657032f",
   "metadata": {},
   "outputs": [
    {
     "name": "stdout",
     "output_type": "stream",
     "text": [
      "Learning rate:  0.001\n",
      "Learning rate:  0.001\n",
      "Learning rate:  0.001\n",
      "Learning rate:  0.001\n",
      "Learning rate:  0.001\n",
      "Learning rate:  0.001\n",
      "Learning rate:  0.001\n",
      "Learning rate:  0.001\n",
      "Learning rate:  0.001\n",
      "Learning rate:  0.001\n",
      "Learning rate:  0.001\n",
      "Learning rate:  0.0001\n",
      "Learning rate:  0.0001\n",
      "Learning rate:  0.0001\n",
      "Learning rate:  0.0001\n",
      "Learning rate:  0.0001\n",
      "Learning rate:  0.0001\n",
      "Learning rate:  0.0001\n",
      "Learning rate:  0.0001\n",
      "Learning rate:  0.0001\n",
      "Learning rate:  0.0001\n",
      "Learning rate:  1e-05\n",
      "Learning rate:  1e-05\n",
      "Learning rate:  1e-05\n",
      "Learning rate:  1e-05\n",
      "Learning rate:  1e-05\n",
      "Learning rate:  1e-05\n",
      "Learning rate:  1e-05\n",
      "Learning rate:  1e-05\n",
      "Learning rate:  1e-05\n",
      "Learning rate:  1e-05\n",
      "Learning rate:  1e-05\n",
      "Learning rate:  1e-05\n",
      "Learning rate:  1e-05\n",
      "Learning rate:  1e-05\n",
      "Learning rate:  1e-05\n",
      "Learning rate:  1e-05\n",
      "Learning rate:  1e-05\n",
      "Learning rate:  1e-05\n",
      "Learning rate:  1e-05\n",
      "Learning rate:  1e-05\n",
      "Learning rate:  1e-06\n",
      "Learning rate:  1e-06\n",
      "Learning rate:  1e-06\n",
      "Learning rate:  1e-06\n",
      "Learning rate:  1e-06\n",
      "Learning rate:  1e-06\n",
      "Learning rate:  1e-06\n",
      "Learning rate:  1e-06\n",
      "Learning rate:  1e-06\n",
      "Learning rate:  1e-06\n",
      "Learning rate:  1e-06\n",
      "Learning rate:  1e-06\n",
      "Learning rate:  1e-06\n",
      "Learning rate:  1e-06\n",
      "Learning rate:  1e-06\n",
      "Learning rate:  1e-06\n",
      "Learning rate:  1e-06\n",
      "Learning rate:  1e-06\n",
      "Learning rate:  1e-06\n",
      "Learning rate:  1e-06\n"
     ]
    }
   ],
   "source": [
    "checkpointer = ModelCheckpoint(filepath='model_best.hdf5',\n",
    "                                       monitor='val_loss', verbose=0, mode='auto', save_best_only=True)\n",
    "start_time = time.time()  \n",
    "history = model.fit(\n",
    "    X,\n",
    "    y,\n",
    "    epochs=200,\n",
    "    batch_size=500,\n",
    "    verbose=0,\n",
    "    validation_data = (X_val, y_val),\n",
    "    max_queue_size=5,\n",
    "    callbacks = [checkpointer, lr_reducer, lr_scheduler, early_stopping_monitor] )\n",
    "end_time = time.time()"
   ]
  },
  {
   "cell_type": "code",
   "execution_count": 78,
   "id": "7565f581",
   "metadata": {},
   "outputs": [
    {
     "data": {
      "text/plain": [
       "61"
      ]
     },
     "execution_count": 78,
     "metadata": {},
     "output_type": "execute_result"
    }
   ],
   "source": [
    "len(history.history['val_binary_accuracy'])"
   ]
  },
  {
   "cell_type": "code",
   "execution_count": 79,
   "id": "94c3032a",
   "metadata": {},
   "outputs": [
    {
     "data": {
      "text/plain": [
       "[0.06476981937885284,\n",
       " 0.5101335048675537,\n",
       " 0.7503297924995422,\n",
       " 0.5766875743865967,\n",
       " 0.6557345390319824,\n",
       " 0.5708189010620117,\n",
       " 0.5858007073402405,\n",
       " 0.7928031086921692,\n",
       " 0.9674938917160034,\n",
       " 0.98738032579422,\n",
       " 0.9881696105003357,\n",
       " 0.9890434145927429,\n",
       " 0.9901145696640015,\n",
       " 0.9918114542961121,\n",
       " 0.9927360415458679,\n",
       " 0.9932687878608704,\n",
       " 0.994190514087677,\n",
       " 0.9951686263084412,\n",
       " 0.9955124855041504,\n",
       " 0.9957323670387268,\n",
       " 0.9956957101821899,\n",
       " 0.9963609576225281,\n",
       " 0.9970712661743164,\n",
       " 0.9976575970649719,\n",
       " 0.9981311559677124,\n",
       " 0.9984750151634216,\n",
       " 0.9986019134521484,\n",
       " 0.9986413717269897,\n",
       " 0.9986554384231567,\n",
       " 0.9986892938613892,\n",
       " 0.998694896697998,\n",
       " 0.9987202882766724,\n",
       " 0.9987174868583679,\n",
       " 0.9987766742706299,\n",
       " 0.998740017414093,\n",
       " 0.9987710118293762,\n",
       " 0.9987569451332092,\n",
       " 0.9987230896949768,\n",
       " 0.9987230896949768,\n",
       " 0.99875408411026,\n",
       " 0.998740017414093,\n",
       " 0.9987372159957886,\n",
       " 0.9987372159957886,\n",
       " 0.9987428188323975,\n",
       " 0.9987484812736511,\n",
       " 0.9987484812736511,\n",
       " 0.9987456202507019,\n",
       " 0.9987484812736511,\n",
       " 0.9987512826919556,\n",
       " 0.99875408411026,\n",
       " 0.9987512826919556,\n",
       " 0.9987484812736511,\n",
       " 0.9987512826919556,\n",
       " 0.9987456202507019,\n",
       " 0.9987484812736511,\n",
       " 0.9987456202507019,\n",
       " 0.9987512826919556,\n",
       " 0.9987512826919556,\n",
       " 0.99875408411026,\n",
       " 0.9987484812736511,\n",
       " 0.9987484812736511]"
      ]
     },
     "execution_count": 79,
     "metadata": {},
     "output_type": "execute_result"
    }
   ],
   "source": [
    "history.history['val_binary_accuracy']"
   ]
  },
  {
   "cell_type": "code",
   "execution_count": null,
   "id": "8e322560",
   "metadata": {},
   "outputs": [],
   "source": []
  }
 ],
 "metadata": {
  "kernelspec": {
   "display_name": "Python 3 (ipykernel)",
   "language": "python",
   "name": "python3"
  },
  "language_info": {
   "codemirror_mode": {
    "name": "ipython",
    "version": 3
   },
   "file_extension": ".py",
   "mimetype": "text/x-python",
   "name": "python",
   "nbconvert_exporter": "python",
   "pygments_lexer": "ipython3",
   "version": "3.8.12"
  }
 },
 "nbformat": 4,
 "nbformat_minor": 5
}
